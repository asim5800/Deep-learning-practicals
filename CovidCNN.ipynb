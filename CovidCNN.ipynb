{
  "nbformat": 4,
  "nbformat_minor": 0,
  "metadata": {
    "colab": {
      "name": "CovidCNN.ipynb",
      "provenance": [],
      "authorship_tag": "ABX9TyOic7+zBNf8ZTZ08kkxFaar",
      "include_colab_link": true
    },
    "kernelspec": {
      "name": "python3",
      "display_name": "Python 3"
    },
    "language_info": {
      "name": "python"
    }
  },
  "cells": [
    {
      "cell_type": "markdown",
      "metadata": {
        "id": "view-in-github",
        "colab_type": "text"
      },
      "source": [
        "<a href=\"https://colab.research.google.com/github/asim5800/Deep-learning-practicals/blob/main/CovidCNN.ipynb\" target=\"_parent\"><img src=\"https://colab.research.google.com/assets/colab-badge.svg\" alt=\"Open In Colab\"/></a>"
      ]
    },
    {
      "cell_type": "code",
      "metadata": {
        "id": "jat2uOSQJjQE"
      },
      "source": [
        "import numpy as np\n",
        "import matplotlib.pyplot as plt\n",
        "%matplotlib inline\n",
        "from tensorflow.keras.preprocessing.image import ImageDataGenerator\n",
        "import tensorflow as tf\n",
        "from sklearn.metrics import confusion_matrix\n",
        "import seaborn as sns\n",
        "from keras.preprocessing import image\n",
        "from tensorflow.keras.models import load_model"
      ],
      "execution_count": null,
      "outputs": []
    },
    {
      "cell_type": "code",
      "metadata": {
        "id": "RsSteKTQJqJH"
      },
      "source": [
        "\n",
        "# IMPORT NECESSARY LIBRARIES\n",
        "import librosa\n",
        "import librosa.display\n",
        "\n",
        "import os, glob, sys\n",
        "\n",
        "import numpy as np\n",
        "import pandas as pd\n",
        "import seaborn as sns\n",
        "import matplotlib.pyplot as plt\n",
        "from matplotlib.pyplot import specgram\n",
        "%matplotlib inline\n",
        "\n",
        "from sklearn.model_selection import train_test_split\n",
        "\n",
        "import warnings\n",
        "if not sys.warnoptions:\n",
        "    warnings.simplefilter(\"ignore\")\n",
        "warnings.filterwarnings(\"ignore\", category=DeprecationWarning)\n"
      ],
      "execution_count": null,
      "outputs": []
    },
    {
      "cell_type": "code",
      "metadata": {
        "colab": {
          "base_uri": "https://localhost:8080/"
        },
        "id": "7gLDjIY4JsYp",
        "outputId": "419e9e00-b87f-421c-8472-98af4817bc4d"
      },
      "source": [
        "from google.colab import drive\n",
        "drive.mount('/content/drive')"
      ],
      "execution_count": null,
      "outputs": [
        {
          "output_type": "stream",
          "name": "stdout",
          "text": [
            "Mounted at /content/drive\n"
          ]
        }
      ]
    },
    {
      "cell_type": "code",
      "metadata": {
        "colab": {
          "base_uri": "https://localhost:8080/"
        },
        "id": "QPnl5lnMOsPX",
        "outputId": "c2554961-9392-4800-aca6-2ee64a68607b"
      },
      "source": [
        "! pip3 install pydub"
      ],
      "execution_count": null,
      "outputs": [
        {
          "output_type": "stream",
          "name": "stdout",
          "text": [
            "Collecting pydub\n",
            "  Downloading pydub-0.25.1-py2.py3-none-any.whl (32 kB)\n",
            "Installing collected packages: pydub\n",
            "Successfully installed pydub-0.25.1\n"
          ]
        }
      ]
    },
    {
      "cell_type": "code",
      "metadata": {
        "id": "QkXNe0gsjG9r"
      },
      "source": [
        "audio_df=pd.read_csv('/content/drive/MyDrive/clinical/labels.csv')"
      ],
      "execution_count": null,
      "outputs": []
    },
    {
      "cell_type": "code",
      "metadata": {
        "colab": {
          "base_uri": "https://localhost:8080/",
          "height": 829
        },
        "id": "iCdQmJjfjUNO",
        "outputId": "9e99fc8e-d0e4-431c-8875-f147b0869c3a"
      },
      "source": [
        "audio_df"
      ],
      "execution_count": null,
      "outputs": [
        {
          "output_type": "execute_result",
          "data": {
            "text/html": [
              "<div>\n",
              "<style scoped>\n",
              "    .dataframe tbody tr th:only-of-type {\n",
              "        vertical-align: middle;\n",
              "    }\n",
              "\n",
              "    .dataframe tbody tr th {\n",
              "        vertical-align: top;\n",
              "    }\n",
              "\n",
              "    .dataframe thead th {\n",
              "        text-align: right;\n",
              "    }\n",
              "</style>\n",
              "<table border=\"1\" class=\"dataframe\">\n",
              "  <thead>\n",
              "    <tr style=\"text-align: right;\">\n",
              "      <th></th>\n",
              "      <th>date</th>\n",
              "      <th>corona_test</th>\n",
              "      <th>age</th>\n",
              "      <th>gender</th>\n",
              "      <th>medical_history</th>\n",
              "      <th>smoker</th>\n",
              "      <th>patient_reported_symptoms</th>\n",
              "      <th>cough_filename</th>\n",
              "    </tr>\n",
              "  </thead>\n",
              "  <tbody>\n",
              "    <tr>\n",
              "      <th>0</th>\n",
              "      <td>4/21</td>\n",
              "      <td>negative</td>\n",
              "      <td>53</td>\n",
              "      <td>male</td>\n",
              "      <td>none,</td>\n",
              "      <td>yes</td>\n",
              "      <td>none,</td>\n",
              "      <td>neg-0421-083-cough-m-53.mp3</td>\n",
              "    </tr>\n",
              "    <tr>\n",
              "      <th>1</th>\n",
              "      <td>4/21</td>\n",
              "      <td>positive</td>\n",
              "      <td>50</td>\n",
              "      <td>male</td>\n",
              "      <td>Congestive heart failure,</td>\n",
              "      <td>no</td>\n",
              "      <td>Shortness of breath,</td>\n",
              "      <td>pos-0421-084-cough-m-50.mp3</td>\n",
              "    </tr>\n",
              "    <tr>\n",
              "      <th>2</th>\n",
              "      <td>4/21</td>\n",
              "      <td>negative</td>\n",
              "      <td>43</td>\n",
              "      <td>male</td>\n",
              "      <td>none,</td>\n",
              "      <td>no</td>\n",
              "      <td>Sore throat,</td>\n",
              "      <td>neg-0421-085-cough-m-43.mp3</td>\n",
              "    </tr>\n",
              "    <tr>\n",
              "      <th>3</th>\n",
              "      <td>4/21</td>\n",
              "      <td>positive</td>\n",
              "      <td>65</td>\n",
              "      <td>male</td>\n",
              "      <td>Asthma or chronic lung disease,</td>\n",
              "      <td>no</td>\n",
              "      <td>Shortness of breath,New or worsening cough,</td>\n",
              "      <td>pos-0421-086-cough-m-65.mp3</td>\n",
              "    </tr>\n",
              "    <tr>\n",
              "      <th>4</th>\n",
              "      <td>4/21</td>\n",
              "      <td>positive</td>\n",
              "      <td>40</td>\n",
              "      <td>female</td>\n",
              "      <td>none,</td>\n",
              "      <td>no</td>\n",
              "      <td>Sore throat,Loss of taste,Loss of smell,</td>\n",
              "      <td>pos-0421-087-cough-f-40.mp3</td>\n",
              "    </tr>\n",
              "    <tr>\n",
              "      <th>5</th>\n",
              "      <td>4/21</td>\n",
              "      <td>negative</td>\n",
              "      <td>66</td>\n",
              "      <td>female</td>\n",
              "      <td>Diabetes with complications,</td>\n",
              "      <td>no</td>\n",
              "      <td>none,</td>\n",
              "      <td>neg-0421-088-cough-f-66.mp3</td>\n",
              "    </tr>\n",
              "    <tr>\n",
              "      <th>6</th>\n",
              "      <td>4/21</td>\n",
              "      <td>negative</td>\n",
              "      <td>20</td>\n",
              "      <td>female</td>\n",
              "      <td>none,</td>\n",
              "      <td>no</td>\n",
              "      <td>none,</td>\n",
              "      <td>neg-0421-089-cough-f-20.mp3</td>\n",
              "    </tr>\n",
              "    <tr>\n",
              "      <th>7</th>\n",
              "      <td>4/21</td>\n",
              "      <td>negative</td>\n",
              "      <td>17</td>\n",
              "      <td>female</td>\n",
              "      <td>none,</td>\n",
              "      <td>no</td>\n",
              "      <td>Shortness of breath,Sore throat,Body aches,</td>\n",
              "      <td>neg-0421-090-cough-f-17.mp3</td>\n",
              "    </tr>\n",
              "    <tr>\n",
              "      <th>8</th>\n",
              "      <td>4/21</td>\n",
              "      <td>negative</td>\n",
              "      <td>47</td>\n",
              "      <td>male</td>\n",
              "      <td>none,</td>\n",
              "      <td>no</td>\n",
              "      <td>New or worsening cough,</td>\n",
              "      <td>neg-0421-091-cough-m-47.mp3</td>\n",
              "    </tr>\n",
              "    <tr>\n",
              "      <th>9</th>\n",
              "      <td>4/21</td>\n",
              "      <td>positive</td>\n",
              "      <td>53</td>\n",
              "      <td>male</td>\n",
              "      <td>none,</td>\n",
              "      <td>no</td>\n",
              "      <td>Fever, chills, or sweating,Shortness of breath...</td>\n",
              "      <td>pos-0421-092-cough-m-53.mp3</td>\n",
              "    </tr>\n",
              "    <tr>\n",
              "      <th>10</th>\n",
              "      <td>4/21</td>\n",
              "      <td>positive</td>\n",
              "      <td>24</td>\n",
              "      <td>female</td>\n",
              "      <td>none,</td>\n",
              "      <td>no</td>\n",
              "      <td>none,</td>\n",
              "      <td>pos-0421-093-cough-f-24.mp3</td>\n",
              "    </tr>\n",
              "    <tr>\n",
              "      <th>11</th>\n",
              "      <td>4/21</td>\n",
              "      <td>positive</td>\n",
              "      <td>51</td>\n",
              "      <td>male</td>\n",
              "      <td>Diabetes with complications,</td>\n",
              "      <td>no</td>\n",
              "      <td>Fever, chills, or sweating,New or worsening co...</td>\n",
              "      <td>pos-0421-094-cough-m-51.mp3</td>\n",
              "    </tr>\n",
              "    <tr>\n",
              "      <th>12</th>\n",
              "      <td>4/22</td>\n",
              "      <td>negative</td>\n",
              "      <td>53</td>\n",
              "      <td>male</td>\n",
              "      <td>none,</td>\n",
              "      <td>yes</td>\n",
              "      <td>none,</td>\n",
              "      <td>neg-0422-095-cough-m-53.mp3</td>\n",
              "    </tr>\n",
              "    <tr>\n",
              "      <th>13</th>\n",
              "      <td>4/22</td>\n",
              "      <td>positive</td>\n",
              "      <td>31</td>\n",
              "      <td>male</td>\n",
              "      <td>none,</td>\n",
              "      <td>no</td>\n",
              "      <td>Shortness of breath,New or worsening cough,</td>\n",
              "      <td>pos-0422-096-cough-m-31.mp3</td>\n",
              "    </tr>\n",
              "    <tr>\n",
              "      <th>14</th>\n",
              "      <td>4/22</td>\n",
              "      <td>negative</td>\n",
              "      <td>37</td>\n",
              "      <td>male</td>\n",
              "      <td>none,</td>\n",
              "      <td>no</td>\n",
              "      <td>none,</td>\n",
              "      <td>neg-0422-097-cough-m-37.mp3</td>\n",
              "    </tr>\n",
              "    <tr>\n",
              "      <th>15</th>\n",
              "      <td>4/22</td>\n",
              "      <td>negative</td>\n",
              "      <td>24</td>\n",
              "      <td>female</td>\n",
              "      <td>none,</td>\n",
              "      <td>no</td>\n",
              "      <td>New or worsening cough,</td>\n",
              "      <td>neg-0422-098-cough-f-24.mp3</td>\n",
              "    </tr>\n",
              "  </tbody>\n",
              "</table>\n",
              "</div>"
            ],
            "text/plain": [
              "    date  ...               cough_filename\n",
              "0   4/21  ...  neg-0421-083-cough-m-53.mp3\n",
              "1   4/21  ...  pos-0421-084-cough-m-50.mp3\n",
              "2   4/21  ...  neg-0421-085-cough-m-43.mp3\n",
              "3   4/21  ...  pos-0421-086-cough-m-65.mp3\n",
              "4   4/21  ...  pos-0421-087-cough-f-40.mp3\n",
              "5   4/21  ...  neg-0421-088-cough-f-66.mp3\n",
              "6   4/21  ...  neg-0421-089-cough-f-20.mp3\n",
              "7   4/21  ...  neg-0421-090-cough-f-17.mp3\n",
              "8   4/21  ...  neg-0421-091-cough-m-47.mp3\n",
              "9   4/21  ...  pos-0421-092-cough-m-53.mp3\n",
              "10  4/21  ...  pos-0421-093-cough-f-24.mp3\n",
              "11  4/21  ...  pos-0421-094-cough-m-51.mp3\n",
              "12  4/22  ...  neg-0422-095-cough-m-53.mp3\n",
              "13  4/22  ...  pos-0422-096-cough-m-31.mp3\n",
              "14  4/22  ...  neg-0422-097-cough-m-37.mp3\n",
              "15  4/22  ...  neg-0422-098-cough-f-24.mp3\n",
              "\n",
              "[16 rows x 8 columns]"
            ]
          },
          "metadata": {},
          "execution_count": 13
        }
      ]
    },
    {
      "cell_type": "code",
      "metadata": {
        "id": "OjTDBhyMJsza"
      },
      "source": [
        "\n",
        "import os\n",
        "from pydub import AudioSegment\n",
        "\n",
        "path = \"/content/drive/MyDrive/clinical/segme\"\n",
        "\n",
        "#Change working directory\n",
        "os.chdir(path)\n",
        "\n",
        "audio_files = os.listdir()\n",
        "\n",
        "# You dont need the number of files in the folder, just iterate over them directly using:\n",
        "for file in audio_files:\n",
        "    #spliting the file into the name and the extension\n",
        "    name, ext = os.path.splitext(file)\n",
        "    if ext == \".mp3\":\n",
        "       mp3_sound = AudioSegment.from_mp3(file)\n",
        "       #rename them using the old name + \".wav\"\n",
        "       mp3_sound.export(\"{0}.wav\".format(name), format=\"wav\")"
      ],
      "execution_count": null,
      "outputs": []
    },
    {
      "cell_type": "code",
      "metadata": {
        "id": "Y5W2uZBmndpO"
      },
      "source": [
        ""
      ],
      "execution_count": null,
      "outputs": []
    },
    {
      "cell_type": "code",
      "metadata": {
        "colab": {
          "base_uri": "https://localhost:8080/"
        },
        "id": "zSD46eh7ndmf",
        "outputId": "8bce73ff-b029-42a8-ff72-916fc8644926"
      },
      "source": [
        "\n",
        "import time\n",
        "import os\n",
        "path = '/content/drive/MyDrive/clinical/segmented/wav cough'\n",
        "lst = []\n",
        "\n",
        "start_time = time.time()\n",
        "\n",
        "for subdir, dirs, files in os.walk(path):\n",
        "  for file in files:\n",
        "      try:\n",
        "        #Load librosa array, obtain mfcss, store the file and the mcss information in a new array\n",
        "        X, sample_rate = librosa.load(os.path.join(subdir,file), res_type='kaiser_fast')\n",
        "        mfccs = np.mean(librosa.feature.mfcc(y=X, sr=sample_rate, n_mfcc=40).T,axis=0) \n",
        "        # The instruction below converts the labels (from 1 to 8) to a series from 0 to 7\n",
        "        # This is because our predictor needs to start from 0 otherwise it will try to predict also 0.\n",
        "        file = int(file[7:8]) - 1 \n",
        "        arr = mfccs, file\n",
        "        lst.append(arr)\n",
        "      # If the file is not valid, skip it\n",
        "      except ValueError:\n",
        "        continue\n",
        "\n",
        "print(\"--- Data loaded. Loading time: %s seconds ---\" % (time.time() - start_time))"
      ],
      "execution_count": null,
      "outputs": [
        {
          "output_type": "stream",
          "name": "stdout",
          "text": [
            "--- Data loaded. Loading time: 24.894986152648926 seconds ---\n"
          ]
        }
      ]
    },
    {
      "cell_type": "code",
      "metadata": {
        "id": "rr2cpG3Fndkv"
      },
      "source": [
        "# Creating X and y: zip makes a list of all the first elements, and a list of all the second elements.\n",
        "X, y = zip(*lst)"
      ],
      "execution_count": null,
      "outputs": []
    },
    {
      "cell_type": "code",
      "metadata": {
        "colab": {
          "base_uri": "https://localhost:8080/"
        },
        "id": "uf8_9W85ndin",
        "outputId": "e7902cee-a05b-418a-c8b4-3a4d7cd80845"
      },
      "source": [
        "\n",
        "import numpy as np\n",
        "X = np.asarray(X)\n",
        "y = np.asarray(y)\n",
        "\n",
        "\n",
        "X.shape, y.shape"
      ],
      "execution_count": null,
      "outputs": [
        {
          "output_type": "execute_result",
          "data": {
            "text/plain": [
              "((121, 40), (121,))"
            ]
          },
          "metadata": {},
          "execution_count": 22
        }
      ]
    },
    {
      "cell_type": "code",
      "metadata": {
        "id": "9ilSDDHbndgo"
      },
      "source": [
        "# Saving joblib files to not load them again with the loop above\n",
        "\n",
        "import joblib\n",
        "\n",
        "X_name = 'X.joblib'\n",
        "y_name = 'y.joblib'\n",
        "save_dir = '/content/drive/MyDrive/clinical/segmented/wav cough'\n",
        "\n",
        "savedX = joblib.dump(X, os.path.join(save_dir, X_name))\n",
        "savedy = joblib.dump(y, os.path.join(save_dir, y_name))"
      ],
      "execution_count": null,
      "outputs": []
    },
    {
      "cell_type": "code",
      "metadata": {
        "id": "7KgcKwQNnddu"
      },
      "source": [
        "\n",
        "# Loading saved models\n",
        "import joblib\n",
        "X = joblib.load('/content/drive/MyDrive/clinical/segmented/wav cough/X.joblib')\n",
        "y = joblib.load('/content/drive/MyDrive/clinical/segmented/wav cough/y.joblib')"
      ],
      "execution_count": null,
      "outputs": []
    },
    {
      "cell_type": "code",
      "metadata": {
        "id": "iZJty83dndbR"
      },
      "source": [
        "#train test split\n",
        "from sklearn.model_selection import train_test_split\n",
        "\n",
        "X_train, X_test, y_train, y_test = train_test_split(X,y, test_size=0.33, random_state=42)"
      ],
      "execution_count": null,
      "outputs": []
    },
    {
      "cell_type": "code",
      "metadata": {
        "colab": {
          "base_uri": "https://localhost:8080/"
        },
        "id": "IR9VYZhzndYg",
        "outputId": "e3f0ad68-7383-4735-800d-d95d92fafe1d"
      },
      "source": [
        "# importing and initilizing random forest classifier\n",
        "from sklearn.ensemble import RandomForestClassifier\n",
        "\n",
        "\n",
        "rfc = RandomForestClassifier(n_estimators=10)\n",
        "training_start = time.perf_counter()\n",
        "rfc.fit(X_train, y_train)\n",
        "training_end = time.perf_counter()\n",
        "prediction_start = time.perf_counter()\n",
        "preds = rfc.predict(X_test)\n",
        "prediction_end = time.perf_counter()\n",
        "acc_rfc = (preds == y_test).sum().astype(float) / len(preds)*100\n",
        "rfc_train_time = training_end-training_start\n",
        "rfc_prediction_time = prediction_end-prediction_start\n",
        "print(\"Scikit-Learn's Random Forest Classifier's prediction accuracy is: %3.2f\" % (acc_rfc))\n",
        "print(\"Time consumed for training: %4.3f seconds\" % (rfc_train_time))\n",
        "print(\"Time consumed for prediction: %6.5f seconds\" % (rfc_prediction_time))"
      ],
      "execution_count": null,
      "outputs": [
        {
          "output_type": "stream",
          "name": "stdout",
          "text": [
            "Scikit-Learn's Random Forest Classifier's prediction accuracy is: 85.00\n",
            "Time consumed for training: 0.018 seconds\n",
            "Time consumed for prediction: 0.00144 seconds\n"
          ]
        }
      ]
    },
    {
      "cell_type": "code",
      "metadata": {
        "colab": {
          "base_uri": "https://localhost:8080/"
        },
        "id": "P4x6Rct0ndWF",
        "outputId": "1f83f64c-37fa-4733-8073-89c77dd6139c"
      },
      "source": [
        "#printing classification report and confusion matrix\n",
        "from sklearn.metrics import classification_report,confusion_matrix\n",
        "print(classification_report(y_test,preds))"
      ],
      "execution_count": null,
      "outputs": [
        {
          "output_type": "stream",
          "name": "stdout",
          "text": [
            "              precision    recall  f1-score   support\n",
            "\n",
            "           0       0.87      0.97      0.92        34\n",
            "           1       0.50      0.17      0.25         6\n",
            "\n",
            "    accuracy                           0.85        40\n",
            "   macro avg       0.68      0.57      0.58        40\n",
            "weighted avg       0.81      0.85      0.82        40\n",
            "\n"
          ]
        }
      ]
    },
    {
      "cell_type": "code",
      "metadata": {
        "id": "fRpU-xx1ndUB"
      },
      "source": [
        "import numpy as np\n",
        "x_traincnn = np.expand_dims(X_train, axis=2)\n",
        "x_testcnn = np.expand_dims(X_test, axis=2)"
      ],
      "execution_count": null,
      "outputs": []
    },
    {
      "cell_type": "code",
      "metadata": {
        "colab": {
          "base_uri": "https://localhost:8080/"
        },
        "id": "uj8VYMCindRy",
        "outputId": "4ea1b841-1494-4a62-eba9-4a40c72e2d10"
      },
      "source": [
        "import keras\n",
        "import numpy as np\n",
        "import matplotlib.pyplot as plt\n",
        "import tensorflow as tf\n",
        "from tensorflow.keras import optimizers\n",
        "from keras.preprocessing import sequence\n",
        "from keras.models import Sequential\n",
        "from keras.layers import Dense, Embedding\n",
        "from tensorflow.keras.utils import to_categorical\n",
        "\n",
        "from keras.layers import Input, Flatten, Dropout, Activation\n",
        "from keras.layers import Conv1D, MaxPooling1D\n",
        "from keras.models import Model\n",
        "from keras.callbacks import ModelCheckpoint\n",
        "\n",
        "model = Sequential()\n",
        "\n",
        "model.add(Conv1D(64, 5,padding='same',\n",
        "                 input_shape=(40,1)))\n",
        "model.add(Activation('relu'))\n",
        "model.add(Dropout(0.1))\n",
        "model.add(MaxPooling1D(pool_size=(4)))\n",
        "model.add(Conv1D(128, 5,padding='same',))\n",
        "model.add(Activation('relu'))\n",
        "model.add(Dropout(0.1))\n",
        "model.add(MaxPooling1D(pool_size=(4)))\n",
        "model.add(Conv1D(256, 5,padding='same',))\n",
        "model.add(Activation('relu'))\n",
        "model.add(Dropout(0.1))\n",
        "model.add(Flatten())\n",
        "model.add(Dense(8))\n",
        "model.add(Activation('softmax'))\n",
        "opt = tf.keras.optimizers.RMSprop(lr=0.00005, rho=0.9, epsilon=1e-07, decay=0.0)"
      ],
      "execution_count": null,
      "outputs": [
        {
          "output_type": "stream",
          "name": "stderr",
          "text": [
            "/usr/local/lib/python3.7/dist-packages/keras/optimizer_v2/optimizer_v2.py:356: UserWarning: The `lr` argument is deprecated, use `learning_rate` instead.\n",
            "  \"The `lr` argument is deprecated, use `learning_rate` instead.\")\n"
          ]
        }
      ]
    },
    {
      "cell_type": "code",
      "metadata": {
        "colab": {
          "base_uri": "https://localhost:8080/"
        },
        "id": "p3popcJPndPL",
        "outputId": "95cc05fe-8610-4bdc-a1e4-288c86b287f4"
      },
      "source": [
        "model.summary()"
      ],
      "execution_count": null,
      "outputs": [
        {
          "output_type": "stream",
          "name": "stdout",
          "text": [
            "Model: \"sequential\"\n",
            "_________________________________________________________________\n",
            "Layer (type)                 Output Shape              Param #   \n",
            "=================================================================\n",
            "conv1d (Conv1D)              (None, 40, 64)            384       \n",
            "_________________________________________________________________\n",
            "activation (Activation)      (None, 40, 64)            0         \n",
            "_________________________________________________________________\n",
            "dropout (Dropout)            (None, 40, 64)            0         \n",
            "_________________________________________________________________\n",
            "max_pooling1d (MaxPooling1D) (None, 10, 64)            0         \n",
            "_________________________________________________________________\n",
            "conv1d_1 (Conv1D)            (None, 10, 128)           41088     \n",
            "_________________________________________________________________\n",
            "activation_1 (Activation)    (None, 10, 128)           0         \n",
            "_________________________________________________________________\n",
            "dropout_1 (Dropout)          (None, 10, 128)           0         \n",
            "_________________________________________________________________\n",
            "max_pooling1d_1 (MaxPooling1 (None, 2, 128)            0         \n",
            "_________________________________________________________________\n",
            "conv1d_2 (Conv1D)            (None, 2, 256)            164096    \n",
            "_________________________________________________________________\n",
            "activation_2 (Activation)    (None, 2, 256)            0         \n",
            "_________________________________________________________________\n",
            "dropout_2 (Dropout)          (None, 2, 256)            0         \n",
            "_________________________________________________________________\n",
            "flatten (Flatten)            (None, 512)               0         \n",
            "_________________________________________________________________\n",
            "dense (Dense)                (None, 8)                 4104      \n",
            "_________________________________________________________________\n",
            "activation_3 (Activation)    (None, 8)                 0         \n",
            "=================================================================\n",
            "Total params: 209,672\n",
            "Trainable params: 209,672\n",
            "Non-trainable params: 0\n",
            "_________________________________________________________________\n"
          ]
        }
      ]
    },
    {
      "cell_type": "code",
      "metadata": {
        "id": "jOEUgyh0ndMs"
      },
      "source": [
        "model.compile(loss='sparse_categorical_crossentropy',\n",
        "              optimizer=opt,\n",
        "              metrics=['accuracy'])"
      ],
      "execution_count": null,
      "outputs": []
    },
    {
      "cell_type": "code",
      "metadata": {
        "colab": {
          "base_uri": "https://localhost:8080/"
        },
        "id": "AOabrnhFpERy",
        "outputId": "29682416-d378-4fa6-a908-dac6fb88509f"
      },
      "source": [
        "cnnhistory=model.fit(x_traincnn, y_train, batch_size=16, epochs=260, validation_data=(x_testcnn, y_test))"
      ],
      "execution_count": null,
      "outputs": [
        {
          "output_type": "stream",
          "name": "stdout",
          "text": [
            "Epoch 1/260\n",
            "6/6 [==============================] - 1s 66ms/step - loss: 1.7898 - accuracy: 0.6173 - val_loss: 0.7566 - val_accuracy: 0.8500\n",
            "Epoch 2/260\n",
            "6/6 [==============================] - 0s 18ms/step - loss: 1.5845 - accuracy: 0.6543 - val_loss: 1.0407 - val_accuracy: 0.8500\n",
            "Epoch 3/260\n",
            "6/6 [==============================] - 0s 19ms/step - loss: 2.0597 - accuracy: 0.6667 - val_loss: 1.0150 - val_accuracy: 0.8500\n",
            "Epoch 4/260\n",
            "6/6 [==============================] - 0s 24ms/step - loss: 2.0797 - accuracy: 0.6914 - val_loss: 0.4268 - val_accuracy: 0.8500\n",
            "Epoch 5/260\n",
            "6/6 [==============================] - 0s 19ms/step - loss: 2.1065 - accuracy: 0.5185 - val_loss: 0.4707 - val_accuracy: 0.8500\n",
            "Epoch 6/260\n",
            "6/6 [==============================] - 0s 20ms/step - loss: 1.4549 - accuracy: 0.6049 - val_loss: 1.2676 - val_accuracy: 0.8500\n",
            "Epoch 7/260\n",
            "6/6 [==============================] - 0s 18ms/step - loss: 1.6032 - accuracy: 0.7407 - val_loss: 0.6724 - val_accuracy: 0.8500\n",
            "Epoch 8/260\n",
            "6/6 [==============================] - 0s 19ms/step - loss: 1.0370 - accuracy: 0.7037 - val_loss: 0.5198 - val_accuracy: 0.8500\n",
            "Epoch 9/260\n",
            "6/6 [==============================] - 0s 21ms/step - loss: 2.0952 - accuracy: 0.5802 - val_loss: 0.6130 - val_accuracy: 0.8500\n",
            "Epoch 10/260\n",
            "6/6 [==============================] - 0s 18ms/step - loss: 1.8394 - accuracy: 0.6049 - val_loss: 0.9229 - val_accuracy: 0.8500\n",
            "Epoch 11/260\n",
            "6/6 [==============================] - 0s 19ms/step - loss: 2.0606 - accuracy: 0.5556 - val_loss: 0.7855 - val_accuracy: 0.8500\n",
            "Epoch 12/260\n",
            "6/6 [==============================] - 0s 18ms/step - loss: 1.9328 - accuracy: 0.5926 - val_loss: 0.8081 - val_accuracy: 0.8500\n",
            "Epoch 13/260\n",
            "6/6 [==============================] - 0s 19ms/step - loss: 1.5913 - accuracy: 0.6173 - val_loss: 1.5011 - val_accuracy: 0.1500\n",
            "Epoch 14/260\n",
            "6/6 [==============================] - 0s 22ms/step - loss: 2.2937 - accuracy: 0.5432 - val_loss: 2.8051 - val_accuracy: 0.1500\n",
            "Epoch 15/260\n",
            "6/6 [==============================] - 0s 29ms/step - loss: 1.9877 - accuracy: 0.4815 - val_loss: 0.6400 - val_accuracy: 0.8500\n",
            "Epoch 16/260\n",
            "6/6 [==============================] - 0s 30ms/step - loss: 1.9781 - accuracy: 0.5432 - val_loss: 1.6022 - val_accuracy: 0.1500\n",
            "Epoch 17/260\n",
            "6/6 [==============================] - 0s 19ms/step - loss: 1.9055 - accuracy: 0.5309 - val_loss: 0.5366 - val_accuracy: 0.8500\n",
            "Epoch 18/260\n",
            "6/6 [==============================] - 0s 18ms/step - loss: 1.1655 - accuracy: 0.7284 - val_loss: 0.4754 - val_accuracy: 0.8500\n",
            "Epoch 19/260\n",
            "6/6 [==============================] - 0s 18ms/step - loss: 1.3979 - accuracy: 0.6049 - val_loss: 0.6769 - val_accuracy: 0.8500\n",
            "Epoch 20/260\n",
            "6/6 [==============================] - 0s 19ms/step - loss: 1.9096 - accuracy: 0.6667 - val_loss: 2.2660 - val_accuracy: 0.1500\n",
            "Epoch 21/260\n",
            "6/6 [==============================] - 0s 18ms/step - loss: 1.7166 - accuracy: 0.4568 - val_loss: 0.8758 - val_accuracy: 0.2250\n",
            "Epoch 22/260\n",
            "6/6 [==============================] - 0s 18ms/step - loss: 1.5135 - accuracy: 0.5309 - val_loss: 1.0248 - val_accuracy: 0.1500\n",
            "Epoch 23/260\n",
            "6/6 [==============================] - 0s 19ms/step - loss: 1.6142 - accuracy: 0.5679 - val_loss: 0.6678 - val_accuracy: 0.8500\n",
            "Epoch 24/260\n",
            "6/6 [==============================] - 0s 23ms/step - loss: 1.2535 - accuracy: 0.6914 - val_loss: 1.3057 - val_accuracy: 0.1500\n",
            "Epoch 25/260\n",
            "6/6 [==============================] - 0s 21ms/step - loss: 1.8415 - accuracy: 0.5432 - val_loss: 0.4649 - val_accuracy: 0.8500\n",
            "Epoch 26/260\n",
            "6/6 [==============================] - 0s 19ms/step - loss: 1.4449 - accuracy: 0.6667 - val_loss: 2.2462 - val_accuracy: 0.1500\n",
            "Epoch 27/260\n",
            "6/6 [==============================] - 0s 19ms/step - loss: 1.9278 - accuracy: 0.4691 - val_loss: 0.4373 - val_accuracy: 0.8500\n",
            "Epoch 28/260\n",
            "6/6 [==============================] - 0s 18ms/step - loss: 1.5595 - accuracy: 0.5309 - val_loss: 0.4211 - val_accuracy: 0.8500\n",
            "Epoch 29/260\n",
            "6/6 [==============================] - 0s 21ms/step - loss: 1.3685 - accuracy: 0.5926 - val_loss: 0.5562 - val_accuracy: 0.8500\n",
            "Epoch 30/260\n",
            "6/6 [==============================] - 0s 21ms/step - loss: 1.4152 - accuracy: 0.6543 - val_loss: 0.4438 - val_accuracy: 0.8500\n",
            "Epoch 31/260\n",
            "6/6 [==============================] - 0s 18ms/step - loss: 1.6120 - accuracy: 0.5926 - val_loss: 3.0861 - val_accuracy: 0.1500\n",
            "Epoch 32/260\n",
            "6/6 [==============================] - 0s 19ms/step - loss: 1.4841 - accuracy: 0.5926 - val_loss: 0.9709 - val_accuracy: 0.8500\n",
            "Epoch 33/260\n",
            "6/6 [==============================] - 0s 18ms/step - loss: 1.5483 - accuracy: 0.7284 - val_loss: 0.4914 - val_accuracy: 0.8500\n",
            "Epoch 34/260\n",
            "6/6 [==============================] - 0s 19ms/step - loss: 1.5739 - accuracy: 0.5802 - val_loss: 0.9953 - val_accuracy: 0.8500\n",
            "Epoch 35/260\n",
            "6/6 [==============================] - 0s 19ms/step - loss: 1.5624 - accuracy: 0.7037 - val_loss: 0.4652 - val_accuracy: 0.8500\n",
            "Epoch 36/260\n",
            "6/6 [==============================] - 0s 19ms/step - loss: 1.3877 - accuracy: 0.6790 - val_loss: 0.6114 - val_accuracy: 0.8500\n",
            "Epoch 37/260\n",
            "6/6 [==============================] - 0s 22ms/step - loss: 1.3415 - accuracy: 0.6420 - val_loss: 0.5502 - val_accuracy: 0.8500\n",
            "Epoch 38/260\n",
            "6/6 [==============================] - 0s 18ms/step - loss: 1.1500 - accuracy: 0.6790 - val_loss: 0.4934 - val_accuracy: 0.8250\n",
            "Epoch 39/260\n",
            "6/6 [==============================] - 0s 18ms/step - loss: 1.1880 - accuracy: 0.5802 - val_loss: 0.8669 - val_accuracy: 0.8500\n",
            "Epoch 40/260\n",
            "6/6 [==============================] - 0s 23ms/step - loss: 1.6277 - accuracy: 0.6296 - val_loss: 0.8311 - val_accuracy: 0.8500\n",
            "Epoch 41/260\n",
            "6/6 [==============================] - 0s 21ms/step - loss: 1.2067 - accuracy: 0.6914 - val_loss: 0.8551 - val_accuracy: 0.8500\n",
            "Epoch 42/260\n",
            "6/6 [==============================] - 0s 21ms/step - loss: 1.9211 - accuracy: 0.6420 - val_loss: 0.4181 - val_accuracy: 0.8500\n",
            "Epoch 43/260\n",
            "6/6 [==============================] - 0s 18ms/step - loss: 1.4733 - accuracy: 0.7037 - val_loss: 0.4152 - val_accuracy: 0.8500\n",
            "Epoch 44/260\n",
            "6/6 [==============================] - 0s 18ms/step - loss: 1.4123 - accuracy: 0.6667 - val_loss: 1.0431 - val_accuracy: 0.1500\n",
            "Epoch 45/260\n",
            "6/6 [==============================] - 0s 20ms/step - loss: 1.5475 - accuracy: 0.5926 - val_loss: 0.4512 - val_accuracy: 0.8500\n",
            "Epoch 46/260\n",
            "6/6 [==============================] - 0s 20ms/step - loss: 1.1424 - accuracy: 0.6296 - val_loss: 0.4798 - val_accuracy: 0.8500\n",
            "Epoch 47/260\n",
            "6/6 [==============================] - 0s 20ms/step - loss: 1.3761 - accuracy: 0.5926 - val_loss: 0.4417 - val_accuracy: 0.8500\n",
            "Epoch 48/260\n",
            "6/6 [==============================] - 0s 20ms/step - loss: 1.1708 - accuracy: 0.6173 - val_loss: 0.4124 - val_accuracy: 0.8500\n",
            "Epoch 49/260\n",
            "6/6 [==============================] - 0s 18ms/step - loss: 0.8775 - accuracy: 0.6667 - val_loss: 0.5264 - val_accuracy: 0.8500\n",
            "Epoch 50/260\n",
            "6/6 [==============================] - 0s 19ms/step - loss: 1.4201 - accuracy: 0.6543 - val_loss: 0.4071 - val_accuracy: 0.8500\n",
            "Epoch 51/260\n",
            "6/6 [==============================] - 0s 18ms/step - loss: 1.2832 - accuracy: 0.6667 - val_loss: 2.7128 - val_accuracy: 0.1500\n",
            "Epoch 52/260\n",
            "6/6 [==============================] - 0s 18ms/step - loss: 1.9478 - accuracy: 0.4938 - val_loss: 1.2133 - val_accuracy: 0.1500\n",
            "Epoch 53/260\n",
            "6/6 [==============================] - 0s 23ms/step - loss: 1.3304 - accuracy: 0.5556 - val_loss: 0.4087 - val_accuracy: 0.8500\n",
            "Epoch 54/260\n",
            "6/6 [==============================] - 0s 20ms/step - loss: 0.9070 - accuracy: 0.6667 - val_loss: 0.4408 - val_accuracy: 0.8500\n",
            "Epoch 55/260\n",
            "6/6 [==============================] - 0s 22ms/step - loss: 0.8764 - accuracy: 0.7037 - val_loss: 0.6392 - val_accuracy: 0.8500\n",
            "Epoch 56/260\n",
            "6/6 [==============================] - 0s 22ms/step - loss: 1.0123 - accuracy: 0.7407 - val_loss: 0.5956 - val_accuracy: 0.8500\n",
            "Epoch 57/260\n",
            "6/6 [==============================] - 0s 18ms/step - loss: 1.3727 - accuracy: 0.6049 - val_loss: 0.5843 - val_accuracy: 0.8500\n",
            "Epoch 58/260\n",
            "6/6 [==============================] - 0s 19ms/step - loss: 1.0860 - accuracy: 0.7160 - val_loss: 0.4109 - val_accuracy: 0.8500\n",
            "Epoch 59/260\n",
            "6/6 [==============================] - 0s 20ms/step - loss: 1.2004 - accuracy: 0.6420 - val_loss: 0.4194 - val_accuracy: 0.8500\n",
            "Epoch 60/260\n",
            "6/6 [==============================] - 0s 18ms/step - loss: 1.2531 - accuracy: 0.5679 - val_loss: 0.4065 - val_accuracy: 0.8500\n",
            "Epoch 61/260\n",
            "6/6 [==============================] - 0s 19ms/step - loss: 1.2084 - accuracy: 0.5679 - val_loss: 0.5336 - val_accuracy: 0.8500\n",
            "Epoch 62/260\n",
            "6/6 [==============================] - 0s 20ms/step - loss: 1.3115 - accuracy: 0.6173 - val_loss: 0.6982 - val_accuracy: 0.4750\n",
            "Epoch 63/260\n",
            "6/6 [==============================] - 0s 22ms/step - loss: 1.2844 - accuracy: 0.5679 - val_loss: 0.7393 - val_accuracy: 0.8500\n",
            "Epoch 64/260\n",
            "6/6 [==============================] - 0s 20ms/step - loss: 1.2231 - accuracy: 0.6914 - val_loss: 0.4800 - val_accuracy: 0.8500\n",
            "Epoch 65/260\n",
            "6/6 [==============================] - 0s 19ms/step - loss: 1.2013 - accuracy: 0.6790 - val_loss: 0.6170 - val_accuracy: 0.8500\n",
            "Epoch 66/260\n",
            "6/6 [==============================] - 0s 20ms/step - loss: 1.2508 - accuracy: 0.6420 - val_loss: 0.5825 - val_accuracy: 0.8500\n",
            "Epoch 67/260\n",
            "6/6 [==============================] - 0s 19ms/step - loss: 1.1444 - accuracy: 0.6173 - val_loss: 0.5339 - val_accuracy: 0.8500\n",
            "Epoch 68/260\n",
            "6/6 [==============================] - 0s 19ms/step - loss: 1.3264 - accuracy: 0.6420 - val_loss: 0.5640 - val_accuracy: 0.8500\n",
            "Epoch 69/260\n",
            "6/6 [==============================] - 0s 19ms/step - loss: 0.9546 - accuracy: 0.6914 - val_loss: 0.6041 - val_accuracy: 0.8500\n",
            "Epoch 70/260\n",
            "6/6 [==============================] - 0s 23ms/step - loss: 1.2796 - accuracy: 0.6296 - val_loss: 0.4923 - val_accuracy: 0.8500\n",
            "Epoch 71/260\n",
            "6/6 [==============================] - 0s 24ms/step - loss: 1.2291 - accuracy: 0.6296 - val_loss: 0.5647 - val_accuracy: 0.8500\n",
            "Epoch 72/260\n",
            "6/6 [==============================] - 0s 19ms/step - loss: 0.9501 - accuracy: 0.6790 - val_loss: 0.6760 - val_accuracy: 0.5750\n",
            "Epoch 73/260\n",
            "6/6 [==============================] - 0s 21ms/step - loss: 0.8088 - accuracy: 0.7160 - val_loss: 0.9299 - val_accuracy: 0.8500\n",
            "Epoch 74/260\n",
            "6/6 [==============================] - 0s 20ms/step - loss: 1.3622 - accuracy: 0.6790 - val_loss: 0.7969 - val_accuracy: 0.3500\n",
            "Epoch 75/260\n",
            "6/6 [==============================] - 0s 19ms/step - loss: 1.0330 - accuracy: 0.6543 - val_loss: 0.7206 - val_accuracy: 0.4750\n",
            "Epoch 76/260\n",
            "6/6 [==============================] - 0s 19ms/step - loss: 1.0890 - accuracy: 0.6790 - val_loss: 0.6711 - val_accuracy: 0.8500\n",
            "Epoch 77/260\n",
            "6/6 [==============================] - 0s 20ms/step - loss: 0.9136 - accuracy: 0.7160 - val_loss: 0.6318 - val_accuracy: 0.7000\n",
            "Epoch 78/260\n",
            "6/6 [==============================] - 0s 19ms/step - loss: 1.1398 - accuracy: 0.5679 - val_loss: 1.1664 - val_accuracy: 0.1500\n",
            "Epoch 79/260\n",
            "6/6 [==============================] - 0s 20ms/step - loss: 1.0910 - accuracy: 0.5926 - val_loss: 0.3885 - val_accuracy: 0.8500\n",
            "Epoch 80/260\n",
            "6/6 [==============================] - 0s 20ms/step - loss: 0.8441 - accuracy: 0.6790 - val_loss: 0.5313 - val_accuracy: 0.8500\n",
            "Epoch 81/260\n",
            "6/6 [==============================] - 0s 19ms/step - loss: 1.0024 - accuracy: 0.7037 - val_loss: 0.5382 - val_accuracy: 0.8500\n",
            "Epoch 82/260\n",
            "6/6 [==============================] - 0s 24ms/step - loss: 0.8578 - accuracy: 0.7407 - val_loss: 0.4155 - val_accuracy: 0.8500\n",
            "Epoch 83/260\n",
            "6/6 [==============================] - 0s 20ms/step - loss: 0.8329 - accuracy: 0.7407 - val_loss: 0.3954 - val_accuracy: 0.8500\n",
            "Epoch 84/260\n",
            "6/6 [==============================] - 0s 21ms/step - loss: 0.8909 - accuracy: 0.6173 - val_loss: 0.4968 - val_accuracy: 0.8500\n",
            "Epoch 85/260\n",
            "6/6 [==============================] - 0s 18ms/step - loss: 1.0865 - accuracy: 0.6296 - val_loss: 0.9382 - val_accuracy: 0.2250\n",
            "Epoch 86/260\n",
            "6/6 [==============================] - 0s 18ms/step - loss: 0.8683 - accuracy: 0.6543 - val_loss: 0.3818 - val_accuracy: 0.8500\n",
            "Epoch 87/260\n",
            "6/6 [==============================] - 0s 21ms/step - loss: 0.8361 - accuracy: 0.6914 - val_loss: 0.3845 - val_accuracy: 0.8250\n",
            "Epoch 88/260\n",
            "6/6 [==============================] - 0s 18ms/step - loss: 0.8936 - accuracy: 0.7160 - val_loss: 1.0907 - val_accuracy: 0.1500\n",
            "Epoch 89/260\n",
            "6/6 [==============================] - 0s 20ms/step - loss: 1.1121 - accuracy: 0.5926 - val_loss: 0.4610 - val_accuracy: 0.8250\n",
            "Epoch 90/260\n",
            "6/6 [==============================] - 0s 19ms/step - loss: 0.7864 - accuracy: 0.6667 - val_loss: 1.7068 - val_accuracy: 0.1500\n",
            "Epoch 91/260\n",
            "6/6 [==============================] - 0s 18ms/step - loss: 1.0375 - accuracy: 0.5802 - val_loss: 0.4234 - val_accuracy: 0.8500\n",
            "Epoch 92/260\n",
            "6/6 [==============================] - 0s 18ms/step - loss: 0.9654 - accuracy: 0.7160 - val_loss: 0.3816 - val_accuracy: 0.8500\n",
            "Epoch 93/260\n",
            "6/6 [==============================] - 0s 22ms/step - loss: 1.1315 - accuracy: 0.6790 - val_loss: 0.5802 - val_accuracy: 0.7750\n",
            "Epoch 94/260\n",
            "6/6 [==============================] - 0s 19ms/step - loss: 1.0383 - accuracy: 0.6173 - val_loss: 1.3429 - val_accuracy: 0.1500\n",
            "Epoch 95/260\n",
            "6/6 [==============================] - 0s 22ms/step - loss: 0.8155 - accuracy: 0.6790 - val_loss: 0.4384 - val_accuracy: 0.8500\n",
            "Epoch 96/260\n",
            "6/6 [==============================] - 0s 20ms/step - loss: 0.8401 - accuracy: 0.7037 - val_loss: 0.4744 - val_accuracy: 0.8500\n",
            "Epoch 97/260\n",
            "6/6 [==============================] - 0s 19ms/step - loss: 1.2820 - accuracy: 0.6296 - val_loss: 0.7572 - val_accuracy: 0.8500\n",
            "Epoch 98/260\n",
            "6/6 [==============================] - 0s 22ms/step - loss: 1.2319 - accuracy: 0.6914 - val_loss: 0.4398 - val_accuracy: 0.8500\n",
            "Epoch 99/260\n",
            "6/6 [==============================] - 0s 18ms/step - loss: 0.9470 - accuracy: 0.7037 - val_loss: 0.4597 - val_accuracy: 0.8500\n",
            "Epoch 100/260\n",
            "6/6 [==============================] - 0s 20ms/step - loss: 0.7390 - accuracy: 0.6914 - val_loss: 0.3959 - val_accuracy: 0.8250\n",
            "Epoch 101/260\n",
            "6/6 [==============================] - 0s 21ms/step - loss: 0.7660 - accuracy: 0.6790 - val_loss: 0.6275 - val_accuracy: 0.8500\n",
            "Epoch 102/260\n",
            "6/6 [==============================] - 0s 19ms/step - loss: 0.7484 - accuracy: 0.7778 - val_loss: 1.6354 - val_accuracy: 0.1500\n",
            "Epoch 103/260\n",
            "6/6 [==============================] - 0s 19ms/step - loss: 0.7918 - accuracy: 0.6420 - val_loss: 0.3818 - val_accuracy: 0.8500\n",
            "Epoch 104/260\n",
            "6/6 [==============================] - 0s 20ms/step - loss: 1.0388 - accuracy: 0.6667 - val_loss: 1.1848 - val_accuracy: 0.1750\n",
            "Epoch 105/260\n",
            "6/6 [==============================] - 0s 19ms/step - loss: 0.8714 - accuracy: 0.6296 - val_loss: 0.6341 - val_accuracy: 0.6750\n",
            "Epoch 106/260\n",
            "6/6 [==============================] - 0s 20ms/step - loss: 0.8086 - accuracy: 0.7037 - val_loss: 0.4109 - val_accuracy: 0.8500\n",
            "Epoch 107/260\n",
            "6/6 [==============================] - 0s 19ms/step - loss: 0.8336 - accuracy: 0.6790 - val_loss: 0.4203 - val_accuracy: 0.8500\n",
            "Epoch 108/260\n",
            "6/6 [==============================] - 0s 18ms/step - loss: 0.7104 - accuracy: 0.7654 - val_loss: 0.4355 - val_accuracy: 0.8500\n",
            "Epoch 109/260\n",
            "6/6 [==============================] - 0s 19ms/step - loss: 0.8987 - accuracy: 0.7531 - val_loss: 1.7872 - val_accuracy: 0.1500\n",
            "Epoch 110/260\n",
            "6/6 [==============================] - 0s 18ms/step - loss: 1.0458 - accuracy: 0.5802 - val_loss: 0.4085 - val_accuracy: 0.8500\n",
            "Epoch 111/260\n",
            "6/6 [==============================] - 0s 19ms/step - loss: 0.6370 - accuracy: 0.7407 - val_loss: 0.3695 - val_accuracy: 0.8500\n",
            "Epoch 112/260\n",
            "6/6 [==============================] - 0s 19ms/step - loss: 0.6956 - accuracy: 0.6790 - val_loss: 0.3862 - val_accuracy: 0.8250\n",
            "Epoch 113/260\n",
            "6/6 [==============================] - 0s 19ms/step - loss: 0.9023 - accuracy: 0.6543 - val_loss: 0.6762 - val_accuracy: 0.8500\n",
            "Epoch 114/260\n",
            "6/6 [==============================] - 0s 18ms/step - loss: 0.9240 - accuracy: 0.6543 - val_loss: 0.6612 - val_accuracy: 0.8500\n",
            "Epoch 115/260\n",
            "6/6 [==============================] - 0s 20ms/step - loss: 1.0112 - accuracy: 0.7407 - val_loss: 2.0031 - val_accuracy: 0.1500\n",
            "Epoch 116/260\n",
            "6/6 [==============================] - 0s 20ms/step - loss: 1.0778 - accuracy: 0.5432 - val_loss: 0.4131 - val_accuracy: 0.8250\n",
            "Epoch 117/260\n",
            "6/6 [==============================] - 0s 18ms/step - loss: 0.8307 - accuracy: 0.7037 - val_loss: 0.5950 - val_accuracy: 0.8500\n",
            "Epoch 118/260\n",
            "6/6 [==============================] - 0s 22ms/step - loss: 0.9670 - accuracy: 0.7407 - val_loss: 0.3715 - val_accuracy: 0.8500\n",
            "Epoch 119/260\n",
            "6/6 [==============================] - 0s 18ms/step - loss: 0.8911 - accuracy: 0.6790 - val_loss: 0.5999 - val_accuracy: 0.6500\n",
            "Epoch 120/260\n",
            "6/6 [==============================] - 0s 21ms/step - loss: 0.9412 - accuracy: 0.6173 - val_loss: 2.1176 - val_accuracy: 0.1500\n",
            "Epoch 121/260\n",
            "6/6 [==============================] - 0s 22ms/step - loss: 0.9616 - accuracy: 0.5926 - val_loss: 0.3627 - val_accuracy: 0.8500\n",
            "Epoch 122/260\n",
            "6/6 [==============================] - 0s 19ms/step - loss: 0.7516 - accuracy: 0.7037 - val_loss: 0.6888 - val_accuracy: 0.5250\n",
            "Epoch 123/260\n",
            "6/6 [==============================] - 0s 18ms/step - loss: 0.8407 - accuracy: 0.6420 - val_loss: 0.3976 - val_accuracy: 0.8250\n",
            "Epoch 124/260\n",
            "6/6 [==============================] - 0s 19ms/step - loss: 0.7610 - accuracy: 0.6296 - val_loss: 1.7071 - val_accuracy: 0.1500\n",
            "Epoch 125/260\n",
            "6/6 [==============================] - 0s 19ms/step - loss: 1.0490 - accuracy: 0.6296 - val_loss: 0.3797 - val_accuracy: 0.8500\n",
            "Epoch 126/260\n",
            "6/6 [==============================] - 0s 22ms/step - loss: 0.7497 - accuracy: 0.7284 - val_loss: 0.4857 - val_accuracy: 0.8750\n",
            "Epoch 127/260\n",
            "6/6 [==============================] - 0s 20ms/step - loss: 0.8376 - accuracy: 0.7160 - val_loss: 0.4921 - val_accuracy: 0.8500\n",
            "Epoch 128/260\n",
            "6/6 [==============================] - 0s 18ms/step - loss: 0.7891 - accuracy: 0.7284 - val_loss: 1.6613 - val_accuracy: 0.1500\n",
            "Epoch 129/260\n",
            "6/6 [==============================] - 0s 23ms/step - loss: 0.9526 - accuracy: 0.6049 - val_loss: 1.2087 - val_accuracy: 0.1750\n",
            "Epoch 130/260\n",
            "6/6 [==============================] - 0s 20ms/step - loss: 1.1162 - accuracy: 0.5556 - val_loss: 0.9282 - val_accuracy: 0.3250\n",
            "Epoch 131/260\n",
            "6/6 [==============================] - 0s 20ms/step - loss: 0.9683 - accuracy: 0.6543 - val_loss: 0.3946 - val_accuracy: 0.8500\n",
            "Epoch 132/260\n",
            "6/6 [==============================] - 0s 20ms/step - loss: 0.8151 - accuracy: 0.7160 - val_loss: 0.3593 - val_accuracy: 0.8500\n",
            "Epoch 133/260\n",
            "6/6 [==============================] - 0s 19ms/step - loss: 0.8471 - accuracy: 0.6420 - val_loss: 0.5024 - val_accuracy: 0.8500\n",
            "Epoch 134/260\n",
            "6/6 [==============================] - 0s 19ms/step - loss: 0.7056 - accuracy: 0.7778 - val_loss: 0.8039 - val_accuracy: 0.4500\n",
            "Epoch 135/260\n",
            "6/6 [==============================] - 0s 19ms/step - loss: 0.9162 - accuracy: 0.6420 - val_loss: 1.2902 - val_accuracy: 0.1750\n",
            "Epoch 136/260\n",
            "6/6 [==============================] - 0s 20ms/step - loss: 0.9433 - accuracy: 0.6667 - val_loss: 0.3614 - val_accuracy: 0.8500\n",
            "Epoch 137/260\n",
            "6/6 [==============================] - 0s 19ms/step - loss: 0.7290 - accuracy: 0.7407 - val_loss: 0.3610 - val_accuracy: 0.8500\n",
            "Epoch 138/260\n",
            "6/6 [==============================] - 0s 19ms/step - loss: 0.7341 - accuracy: 0.6667 - val_loss: 0.3667 - val_accuracy: 0.8500\n",
            "Epoch 139/260\n",
            "6/6 [==============================] - 0s 20ms/step - loss: 0.9197 - accuracy: 0.6914 - val_loss: 1.0114 - val_accuracy: 0.2500\n",
            "Epoch 140/260\n",
            "6/6 [==============================] - 0s 18ms/step - loss: 0.7494 - accuracy: 0.6667 - val_loss: 0.3610 - val_accuracy: 0.8500\n",
            "Epoch 141/260\n",
            "6/6 [==============================] - 0s 20ms/step - loss: 0.7067 - accuracy: 0.7407 - val_loss: 0.3853 - val_accuracy: 0.8500\n",
            "Epoch 142/260\n",
            "6/6 [==============================] - 0s 19ms/step - loss: 1.0871 - accuracy: 0.6420 - val_loss: 0.3680 - val_accuracy: 0.8500\n",
            "Epoch 143/260\n",
            "6/6 [==============================] - 0s 19ms/step - loss: 0.6618 - accuracy: 0.6914 - val_loss: 0.4569 - val_accuracy: 0.8500\n",
            "Epoch 144/260\n",
            "6/6 [==============================] - 0s 19ms/step - loss: 0.7176 - accuracy: 0.7407 - val_loss: 1.9612 - val_accuracy: 0.1500\n",
            "Epoch 145/260\n",
            "6/6 [==============================] - 0s 18ms/step - loss: 0.7784 - accuracy: 0.6543 - val_loss: 0.4026 - val_accuracy: 0.8500\n",
            "Epoch 146/260\n",
            "6/6 [==============================] - 0s 21ms/step - loss: 0.5047 - accuracy: 0.8148 - val_loss: 0.3898 - val_accuracy: 0.8500\n",
            "Epoch 147/260\n",
            "6/6 [==============================] - 0s 23ms/step - loss: 0.9228 - accuracy: 0.7160 - val_loss: 0.3849 - val_accuracy: 0.8500\n",
            "Epoch 148/260\n",
            "6/6 [==============================] - 0s 19ms/step - loss: 0.8211 - accuracy: 0.7284 - val_loss: 0.4030 - val_accuracy: 0.8500\n",
            "Epoch 149/260\n",
            "6/6 [==============================] - 0s 19ms/step - loss: 0.9043 - accuracy: 0.6667 - val_loss: 0.4586 - val_accuracy: 0.8500\n",
            "Epoch 150/260\n",
            "6/6 [==============================] - 0s 19ms/step - loss: 0.5791 - accuracy: 0.7407 - val_loss: 0.4121 - val_accuracy: 0.8750\n",
            "Epoch 151/260\n",
            "6/6 [==============================] - 0s 20ms/step - loss: 0.6226 - accuracy: 0.7407 - val_loss: 1.6146 - val_accuracy: 0.1500\n",
            "Epoch 152/260\n",
            "6/6 [==============================] - 0s 19ms/step - loss: 0.9196 - accuracy: 0.6296 - val_loss: 0.3544 - val_accuracy: 0.8250\n",
            "Epoch 153/260\n",
            "6/6 [==============================] - 0s 24ms/step - loss: 0.7514 - accuracy: 0.6914 - val_loss: 1.1943 - val_accuracy: 0.1500\n",
            "Epoch 154/260\n",
            "6/6 [==============================] - 0s 21ms/step - loss: 0.9071 - accuracy: 0.6296 - val_loss: 0.3558 - val_accuracy: 0.8500\n",
            "Epoch 155/260\n",
            "6/6 [==============================] - 0s 18ms/step - loss: 0.6742 - accuracy: 0.7654 - val_loss: 0.3558 - val_accuracy: 0.8500\n",
            "Epoch 156/260\n",
            "6/6 [==============================] - 0s 20ms/step - loss: 0.7670 - accuracy: 0.7284 - val_loss: 0.3783 - val_accuracy: 0.8500\n",
            "Epoch 157/260\n",
            "6/6 [==============================] - 0s 19ms/step - loss: 0.7247 - accuracy: 0.7160 - val_loss: 0.3923 - val_accuracy: 0.8500\n",
            "Epoch 158/260\n",
            "6/6 [==============================] - 0s 23ms/step - loss: 0.7186 - accuracy: 0.7778 - val_loss: 0.3698 - val_accuracy: 0.8250\n",
            "Epoch 159/260\n",
            "6/6 [==============================] - 0s 22ms/step - loss: 0.7036 - accuracy: 0.7531 - val_loss: 0.3507 - val_accuracy: 0.8250\n",
            "Epoch 160/260\n",
            "6/6 [==============================] - 0s 21ms/step - loss: 0.6532 - accuracy: 0.6790 - val_loss: 0.4433 - val_accuracy: 0.8500\n",
            "Epoch 161/260\n",
            "6/6 [==============================] - 0s 21ms/step - loss: 0.7937 - accuracy: 0.7284 - val_loss: 0.4353 - val_accuracy: 0.8500\n",
            "Epoch 162/260\n",
            "6/6 [==============================] - 0s 21ms/step - loss: 0.6719 - accuracy: 0.7160 - val_loss: 0.4632 - val_accuracy: 0.8500\n",
            "Epoch 163/260\n",
            "6/6 [==============================] - 0s 21ms/step - loss: 0.8027 - accuracy: 0.6790 - val_loss: 0.3606 - val_accuracy: 0.8500\n",
            "Epoch 164/260\n",
            "6/6 [==============================] - 0s 20ms/step - loss: 0.7656 - accuracy: 0.6914 - val_loss: 0.3400 - val_accuracy: 0.8250\n",
            "Epoch 165/260\n",
            "6/6 [==============================] - 0s 23ms/step - loss: 0.6049 - accuracy: 0.7160 - val_loss: 0.4892 - val_accuracy: 0.8500\n",
            "Epoch 166/260\n",
            "6/6 [==============================] - 0s 22ms/step - loss: 0.6378 - accuracy: 0.7778 - val_loss: 0.3498 - val_accuracy: 0.8250\n",
            "Epoch 167/260\n",
            "6/6 [==============================] - 0s 20ms/step - loss: 0.5739 - accuracy: 0.7531 - val_loss: 2.0380 - val_accuracy: 0.1500\n",
            "Epoch 168/260\n",
            "6/6 [==============================] - 0s 20ms/step - loss: 0.9211 - accuracy: 0.6173 - val_loss: 0.4216 - val_accuracy: 0.8500\n",
            "Epoch 169/260\n",
            "6/6 [==============================] - 0s 20ms/step - loss: 0.7899 - accuracy: 0.6790 - val_loss: 0.4284 - val_accuracy: 0.8500\n",
            "Epoch 170/260\n",
            "6/6 [==============================] - 0s 22ms/step - loss: 0.7800 - accuracy: 0.7037 - val_loss: 0.9487 - val_accuracy: 0.2750\n",
            "Epoch 171/260\n",
            "6/6 [==============================] - 0s 19ms/step - loss: 0.7883 - accuracy: 0.6667 - val_loss: 0.3953 - val_accuracy: 0.8500\n",
            "Epoch 172/260\n",
            "6/6 [==============================] - 0s 19ms/step - loss: 0.5306 - accuracy: 0.7654 - val_loss: 0.3902 - val_accuracy: 0.8500\n",
            "Epoch 173/260\n",
            "6/6 [==============================] - 0s 20ms/step - loss: 0.6912 - accuracy: 0.7531 - val_loss: 0.3620 - val_accuracy: 0.8250\n",
            "Epoch 174/260\n",
            "6/6 [==============================] - 0s 20ms/step - loss: 0.6360 - accuracy: 0.7531 - val_loss: 0.5619 - val_accuracy: 0.8500\n",
            "Epoch 175/260\n",
            "6/6 [==============================] - 0s 20ms/step - loss: 0.6582 - accuracy: 0.7901 - val_loss: 0.3679 - val_accuracy: 0.8500\n",
            "Epoch 176/260\n",
            "6/6 [==============================] - 0s 20ms/step - loss: 0.5897 - accuracy: 0.7160 - val_loss: 0.7371 - val_accuracy: 0.4500\n",
            "Epoch 177/260\n",
            "6/6 [==============================] - 0s 19ms/step - loss: 0.8265 - accuracy: 0.6173 - val_loss: 0.3426 - val_accuracy: 0.8500\n",
            "Epoch 178/260\n",
            "6/6 [==============================] - 0s 18ms/step - loss: 0.7439 - accuracy: 0.7284 - val_loss: 0.3588 - val_accuracy: 0.8250\n",
            "Epoch 179/260\n",
            "6/6 [==============================] - 0s 20ms/step - loss: 0.6792 - accuracy: 0.7531 - val_loss: 0.3785 - val_accuracy: 0.8500\n",
            "Epoch 180/260\n",
            "6/6 [==============================] - 0s 20ms/step - loss: 0.6995 - accuracy: 0.7407 - val_loss: 0.3838 - val_accuracy: 0.8500\n",
            "Epoch 181/260\n",
            "6/6 [==============================] - 0s 20ms/step - loss: 0.6150 - accuracy: 0.7654 - val_loss: 0.3376 - val_accuracy: 0.8500\n",
            "Epoch 182/260\n",
            "6/6 [==============================] - 0s 20ms/step - loss: 0.7399 - accuracy: 0.7407 - val_loss: 0.3747 - val_accuracy: 0.8250\n",
            "Epoch 183/260\n",
            "6/6 [==============================] - 0s 19ms/step - loss: 0.5731 - accuracy: 0.7901 - val_loss: 0.6837 - val_accuracy: 0.6000\n",
            "Epoch 184/260\n",
            "6/6 [==============================] - 0s 19ms/step - loss: 0.7721 - accuracy: 0.6543 - val_loss: 0.4540 - val_accuracy: 0.8500\n",
            "Epoch 185/260\n",
            "6/6 [==============================] - 0s 19ms/step - loss: 0.6254 - accuracy: 0.7407 - val_loss: 0.4463 - val_accuracy: 0.8500\n",
            "Epoch 186/260\n",
            "6/6 [==============================] - 0s 19ms/step - loss: 0.6353 - accuracy: 0.7778 - val_loss: 0.4094 - val_accuracy: 0.8750\n",
            "Epoch 187/260\n",
            "6/6 [==============================] - 0s 24ms/step - loss: 0.5870 - accuracy: 0.8148 - val_loss: 1.2046 - val_accuracy: 0.2000\n",
            "Epoch 188/260\n",
            "6/6 [==============================] - 0s 19ms/step - loss: 0.6914 - accuracy: 0.6667 - val_loss: 0.3650 - val_accuracy: 0.8500\n",
            "Epoch 189/260\n",
            "6/6 [==============================] - 0s 20ms/step - loss: 0.6167 - accuracy: 0.7654 - val_loss: 0.3446 - val_accuracy: 0.8500\n",
            "Epoch 190/260\n",
            "6/6 [==============================] - 0s 18ms/step - loss: 0.4472 - accuracy: 0.7901 - val_loss: 0.3448 - val_accuracy: 0.8500\n",
            "Epoch 191/260\n",
            "6/6 [==============================] - 0s 20ms/step - loss: 0.5205 - accuracy: 0.8148 - val_loss: 0.3563 - val_accuracy: 0.8250\n",
            "Epoch 192/260\n",
            "6/6 [==============================] - 0s 19ms/step - loss: 0.6365 - accuracy: 0.7531 - val_loss: 0.3927 - val_accuracy: 0.8750\n",
            "Epoch 193/260\n",
            "6/6 [==============================] - 0s 19ms/step - loss: 0.5605 - accuracy: 0.7778 - val_loss: 0.3319 - val_accuracy: 0.8250\n",
            "Epoch 194/260\n",
            "6/6 [==============================] - 0s 22ms/step - loss: 0.5792 - accuracy: 0.7407 - val_loss: 0.9240 - val_accuracy: 0.3500\n",
            "Epoch 195/260\n",
            "6/6 [==============================] - 0s 20ms/step - loss: 0.6341 - accuracy: 0.6667 - val_loss: 0.3971 - val_accuracy: 0.8500\n",
            "Epoch 196/260\n",
            "6/6 [==============================] - 0s 18ms/step - loss: 0.6213 - accuracy: 0.7654 - val_loss: 1.5633 - val_accuracy: 0.1500\n",
            "Epoch 197/260\n",
            "6/6 [==============================] - 0s 21ms/step - loss: 0.7304 - accuracy: 0.7037 - val_loss: 1.0517 - val_accuracy: 0.2500\n",
            "Epoch 198/260\n",
            "6/6 [==============================] - 0s 20ms/step - loss: 0.5674 - accuracy: 0.6790 - val_loss: 0.3308 - val_accuracy: 0.8500\n",
            "Epoch 199/260\n",
            "6/6 [==============================] - 0s 21ms/step - loss: 0.4920 - accuracy: 0.8272 - val_loss: 0.3305 - val_accuracy: 0.8750\n",
            "Epoch 200/260\n",
            "6/6 [==============================] - 0s 21ms/step - loss: 0.5292 - accuracy: 0.7901 - val_loss: 0.4645 - val_accuracy: 0.8750\n",
            "Epoch 201/260\n",
            "6/6 [==============================] - 0s 21ms/step - loss: 0.5025 - accuracy: 0.7654 - val_loss: 0.3363 - val_accuracy: 0.8500\n",
            "Epoch 202/260\n",
            "6/6 [==============================] - 0s 24ms/step - loss: 0.6277 - accuracy: 0.7531 - val_loss: 0.3279 - val_accuracy: 0.8750\n",
            "Epoch 203/260\n",
            "6/6 [==============================] - 0s 20ms/step - loss: 0.6200 - accuracy: 0.8025 - val_loss: 0.3255 - val_accuracy: 0.8750\n",
            "Epoch 204/260\n",
            "6/6 [==============================] - 0s 19ms/step - loss: 0.6075 - accuracy: 0.7407 - val_loss: 0.8073 - val_accuracy: 0.4500\n",
            "Epoch 205/260\n",
            "6/6 [==============================] - 0s 19ms/step - loss: 0.6012 - accuracy: 0.7284 - val_loss: 0.3467 - val_accuracy: 0.8250\n",
            "Epoch 206/260\n",
            "6/6 [==============================] - 0s 20ms/step - loss: 0.4530 - accuracy: 0.8395 - val_loss: 0.5934 - val_accuracy: 0.8000\n",
            "Epoch 207/260\n",
            "6/6 [==============================] - 0s 21ms/step - loss: 0.4475 - accuracy: 0.7778 - val_loss: 0.3631 - val_accuracy: 0.8250\n",
            "Epoch 208/260\n",
            "6/6 [==============================] - 0s 20ms/step - loss: 0.5141 - accuracy: 0.7778 - val_loss: 0.4450 - val_accuracy: 0.8500\n",
            "Epoch 209/260\n",
            "6/6 [==============================] - 0s 21ms/step - loss: 0.6540 - accuracy: 0.7407 - val_loss: 0.3841 - val_accuracy: 0.8750\n",
            "Epoch 210/260\n",
            "6/6 [==============================] - 0s 19ms/step - loss: 0.4013 - accuracy: 0.8148 - val_loss: 0.4418 - val_accuracy: 0.8500\n",
            "Epoch 211/260\n",
            "6/6 [==============================] - 0s 21ms/step - loss: 0.5663 - accuracy: 0.7654 - val_loss: 0.3294 - val_accuracy: 0.8250\n",
            "Epoch 212/260\n",
            "6/6 [==============================] - 0s 20ms/step - loss: 0.4651 - accuracy: 0.8395 - val_loss: 0.5677 - val_accuracy: 0.8500\n",
            "Epoch 213/260\n",
            "6/6 [==============================] - 0s 21ms/step - loss: 0.6712 - accuracy: 0.8025 - val_loss: 0.3364 - val_accuracy: 0.8250\n",
            "Epoch 214/260\n",
            "6/6 [==============================] - 0s 21ms/step - loss: 0.4891 - accuracy: 0.8148 - val_loss: 1.0819 - val_accuracy: 0.2500\n",
            "Epoch 215/260\n",
            "6/6 [==============================] - 0s 21ms/step - loss: 0.5615 - accuracy: 0.7654 - val_loss: 0.3599 - val_accuracy: 0.8250\n",
            "Epoch 216/260\n",
            "6/6 [==============================] - 0s 20ms/step - loss: 0.4962 - accuracy: 0.8025 - val_loss: 0.4331 - val_accuracy: 0.8500\n",
            "Epoch 217/260\n",
            "6/6 [==============================] - 0s 19ms/step - loss: 0.5314 - accuracy: 0.7778 - val_loss: 0.3598 - val_accuracy: 0.8750\n",
            "Epoch 218/260\n",
            "6/6 [==============================] - 0s 23ms/step - loss: 0.5244 - accuracy: 0.7778 - val_loss: 0.3815 - val_accuracy: 0.9000\n",
            "Epoch 219/260\n",
            "6/6 [==============================] - 0s 21ms/step - loss: 0.5046 - accuracy: 0.8272 - val_loss: 0.9499 - val_accuracy: 0.4250\n",
            "Epoch 220/260\n",
            "6/6 [==============================] - 0s 19ms/step - loss: 0.5966 - accuracy: 0.6790 - val_loss: 0.3694 - val_accuracy: 0.8250\n",
            "Epoch 221/260\n",
            "6/6 [==============================] - 0s 21ms/step - loss: 0.4540 - accuracy: 0.7531 - val_loss: 0.4644 - val_accuracy: 0.8500\n",
            "Epoch 222/260\n",
            "6/6 [==============================] - 0s 24ms/step - loss: 0.6000 - accuracy: 0.7778 - val_loss: 0.3239 - val_accuracy: 0.8500\n",
            "Epoch 223/260\n",
            "6/6 [==============================] - 0s 22ms/step - loss: 0.4111 - accuracy: 0.8025 - val_loss: 0.3531 - val_accuracy: 0.8750\n",
            "Epoch 224/260\n",
            "6/6 [==============================] - 0s 19ms/step - loss: 0.4748 - accuracy: 0.7407 - val_loss: 0.4100 - val_accuracy: 0.8250\n",
            "Epoch 225/260\n",
            "6/6 [==============================] - 0s 20ms/step - loss: 0.5445 - accuracy: 0.8272 - val_loss: 0.4351 - val_accuracy: 0.8750\n",
            "Epoch 226/260\n",
            "6/6 [==============================] - 0s 19ms/step - loss: 0.3620 - accuracy: 0.8765 - val_loss: 0.3866 - val_accuracy: 0.8250\n",
            "Epoch 227/260\n",
            "6/6 [==============================] - 0s 21ms/step - loss: 0.4801 - accuracy: 0.7654 - val_loss: 0.3516 - val_accuracy: 0.8250\n",
            "Epoch 228/260\n",
            "6/6 [==============================] - 0s 23ms/step - loss: 0.4313 - accuracy: 0.8148 - val_loss: 0.3791 - val_accuracy: 0.8250\n",
            "Epoch 229/260\n",
            "6/6 [==============================] - 0s 22ms/step - loss: 0.4762 - accuracy: 0.8148 - val_loss: 0.4177 - val_accuracy: 0.8250\n",
            "Epoch 230/260\n",
            "6/6 [==============================] - 0s 19ms/step - loss: 0.4571 - accuracy: 0.8148 - val_loss: 0.4452 - val_accuracy: 0.8500\n",
            "Epoch 231/260\n",
            "6/6 [==============================] - 0s 21ms/step - loss: 0.4741 - accuracy: 0.8148 - val_loss: 0.3934 - val_accuracy: 0.8250\n",
            "Epoch 232/260\n",
            "6/6 [==============================] - 0s 20ms/step - loss: 0.4256 - accuracy: 0.7778 - val_loss: 0.3405 - val_accuracy: 0.8250\n",
            "Epoch 233/260\n",
            "6/6 [==============================] - 0s 20ms/step - loss: 0.6033 - accuracy: 0.7284 - val_loss: 0.4735 - val_accuracy: 0.8500\n",
            "Epoch 234/260\n",
            "6/6 [==============================] - 0s 21ms/step - loss: 0.4729 - accuracy: 0.8025 - val_loss: 0.3132 - val_accuracy: 0.8500\n",
            "Epoch 235/260\n",
            "6/6 [==============================] - 0s 22ms/step - loss: 0.4840 - accuracy: 0.7407 - val_loss: 1.2990 - val_accuracy: 0.2250\n",
            "Epoch 236/260\n",
            "6/6 [==============================] - 0s 21ms/step - loss: 0.5194 - accuracy: 0.7037 - val_loss: 0.4921 - val_accuracy: 0.8750\n",
            "Epoch 237/260\n",
            "6/6 [==============================] - 0s 19ms/step - loss: 0.4578 - accuracy: 0.7654 - val_loss: 0.3380 - val_accuracy: 0.8250\n",
            "Epoch 238/260\n",
            "6/6 [==============================] - 0s 22ms/step - loss: 0.4971 - accuracy: 0.8272 - val_loss: 0.3214 - val_accuracy: 0.9000\n",
            "Epoch 239/260\n",
            "6/6 [==============================] - 0s 20ms/step - loss: 0.4219 - accuracy: 0.7778 - val_loss: 1.4353 - val_accuracy: 0.2250\n",
            "Epoch 240/260\n",
            "6/6 [==============================] - 0s 20ms/step - loss: 0.6595 - accuracy: 0.6914 - val_loss: 0.7164 - val_accuracy: 0.5250\n",
            "Epoch 241/260\n",
            "6/6 [==============================] - 0s 20ms/step - loss: 0.4980 - accuracy: 0.7778 - val_loss: 0.3680 - val_accuracy: 0.9000\n",
            "Epoch 242/260\n",
            "6/6 [==============================] - 0s 19ms/step - loss: 0.3903 - accuracy: 0.8395 - val_loss: 0.3154 - val_accuracy: 0.8500\n",
            "Epoch 243/260\n",
            "6/6 [==============================] - 0s 19ms/step - loss: 0.4399 - accuracy: 0.8025 - val_loss: 0.3101 - val_accuracy: 0.8750\n",
            "Epoch 244/260\n",
            "6/6 [==============================] - 0s 20ms/step - loss: 0.4499 - accuracy: 0.7654 - val_loss: 0.4482 - val_accuracy: 0.8500\n",
            "Epoch 245/260\n",
            "6/6 [==============================] - 0s 19ms/step - loss: 0.4990 - accuracy: 0.8148 - val_loss: 0.4901 - val_accuracy: 0.8750\n",
            "Epoch 246/260\n",
            "6/6 [==============================] - 0s 20ms/step - loss: 0.4136 - accuracy: 0.8519 - val_loss: 0.3150 - val_accuracy: 0.8250\n",
            "Epoch 247/260\n",
            "6/6 [==============================] - 0s 21ms/step - loss: 0.4157 - accuracy: 0.8148 - val_loss: 1.3865 - val_accuracy: 0.2250\n",
            "Epoch 248/260\n",
            "6/6 [==============================] - 0s 19ms/step - loss: 0.5896 - accuracy: 0.7284 - val_loss: 0.3372 - val_accuracy: 0.9000\n",
            "Epoch 249/260\n",
            "6/6 [==============================] - 0s 19ms/step - loss: 0.4162 - accuracy: 0.7901 - val_loss: 0.3168 - val_accuracy: 0.8250\n",
            "Epoch 250/260\n",
            "6/6 [==============================] - 0s 21ms/step - loss: 0.3335 - accuracy: 0.8272 - val_loss: 0.3274 - val_accuracy: 0.8250\n",
            "Epoch 251/260\n",
            "6/6 [==============================] - 0s 22ms/step - loss: 0.3568 - accuracy: 0.8642 - val_loss: 0.3150 - val_accuracy: 0.8250\n",
            "Epoch 252/260\n",
            "6/6 [==============================] - 0s 19ms/step - loss: 0.4976 - accuracy: 0.8148 - val_loss: 0.5550 - val_accuracy: 0.8250\n",
            "Epoch 253/260\n",
            "6/6 [==============================] - 0s 20ms/step - loss: 0.5068 - accuracy: 0.8025 - val_loss: 0.3076 - val_accuracy: 0.8500\n",
            "Epoch 254/260\n",
            "6/6 [==============================] - 0s 23ms/step - loss: 0.4148 - accuracy: 0.8148 - val_loss: 0.3239 - val_accuracy: 0.8250\n",
            "Epoch 255/260\n",
            "6/6 [==============================] - 0s 20ms/step - loss: 0.5094 - accuracy: 0.7901 - val_loss: 0.3012 - val_accuracy: 0.9000\n",
            "Epoch 256/260\n",
            "6/6 [==============================] - 0s 21ms/step - loss: 0.3221 - accuracy: 0.9012 - val_loss: 0.3062 - val_accuracy: 0.8750\n",
            "Epoch 257/260\n",
            "6/6 [==============================] - 0s 21ms/step - loss: 0.4441 - accuracy: 0.8148 - val_loss: 0.3105 - val_accuracy: 0.8750\n",
            "Epoch 258/260\n",
            "6/6 [==============================] - 0s 21ms/step - loss: 0.4866 - accuracy: 0.7654 - val_loss: 0.3106 - val_accuracy: 0.8500\n",
            "Epoch 259/260\n",
            "6/6 [==============================] - 0s 23ms/step - loss: 0.4744 - accuracy: 0.7407 - val_loss: 0.3202 - val_accuracy: 0.8750\n",
            "Epoch 260/260\n",
            "6/6 [==============================] - 0s 20ms/step - loss: 0.4481 - accuracy: 0.8025 - val_loss: 0.3224 - val_accuracy: 0.8750\n"
          ]
        }
      ]
    },
    {
      "cell_type": "code",
      "metadata": {
        "id": "qjcL6iZbndHd"
      },
      "source": [
        "predictions=model.predict(x_testcnn)\n",
        "predictions = np.argmax(predictions,axis=1)\n"
      ],
      "execution_count": null,
      "outputs": []
    },
    {
      "cell_type": "code",
      "metadata": {
        "colab": {
          "base_uri": "https://localhost:8080/"
        },
        "id": "9000JMg1pttC",
        "outputId": "ba875f14-d8e5-47ce-eda8-c68a033f08b4"
      },
      "source": [
        "predictions\n",
        "y_test\n",
        "\n",
        "new_Ytest = y_test.astype(int)\n",
        "new_Ytest"
      ],
      "execution_count": null,
      "outputs": [
        {
          "output_type": "execute_result",
          "data": {
            "text/plain": [
              "array([0, 0, 0, 1, 0, 0, 0, 1, 0, 0, 0, 0, 0, 1, 0, 0, 0, 1, 0, 0, 0, 0,\n",
              "       0, 0, 1, 0, 0, 0, 0, 0, 0, 0, 0, 0, 0, 0, 0, 0, 0, 1])"
            ]
          },
          "metadata": {},
          "execution_count": 38
        }
      ]
    },
    {
      "cell_type": "code",
      "metadata": {
        "colab": {
          "base_uri": "https://localhost:8080/"
        },
        "id": "Ob9CJWKMndEK",
        "outputId": "cc77063e-237e-44c7-b009-893b729a098b"
      },
      "source": [
        "from sklearn.metrics import classification_report\n",
        "report = classification_report(new_Ytest, predictions)\n",
        "print(report)"
      ],
      "execution_count": null,
      "outputs": [
        {
          "output_type": "stream",
          "name": "stdout",
          "text": [
            "              precision    recall  f1-score   support\n",
            "\n",
            "           0       0.91      0.94      0.93        34\n",
            "           1       0.60      0.50      0.55         6\n",
            "\n",
            "    accuracy                           0.88        40\n",
            "   macro avg       0.76      0.72      0.74        40\n",
            "weighted avg       0.87      0.88      0.87        40\n",
            "\n"
          ]
        }
      ]
    },
    {
      "cell_type": "code",
      "metadata": {
        "colab": {
          "base_uri": "https://localhost:8080/"
        },
        "id": "aaIqXfEKndAr",
        "outputId": "8498f22c-1554-477d-ffcf-4cf9e74d6052"
      },
      "source": [
        "tf.keras.models.save_model(model,'/content/drive/MyDrive/clinical/segmented/wav cough/model.hdf5')\n",
        "print(\"MODEL SAVED\")"
      ],
      "execution_count": null,
      "outputs": [
        {
          "output_type": "stream",
          "name": "stdout",
          "text": [
            "MODEL SAVED\n"
          ]
        }
      ]
    },
    {
      "cell_type": "code",
      "metadata": {
        "id": "u6AVUrL5nc-X"
      },
      "source": [
        ""
      ],
      "execution_count": null,
      "outputs": []
    },
    {
      "cell_type": "code",
      "metadata": {
        "id": "bQB1In0knc7-"
      },
      "source": [
        ""
      ],
      "execution_count": null,
      "outputs": []
    },
    {
      "cell_type": "code",
      "metadata": {
        "id": "f_ZodH-pnc4y"
      },
      "source": [
        ""
      ],
      "execution_count": null,
      "outputs": []
    },
    {
      "cell_type": "code",
      "metadata": {
        "id": "eRn9FL_Bnc1x"
      },
      "source": [
        ""
      ],
      "execution_count": null,
      "outputs": []
    },
    {
      "cell_type": "code",
      "metadata": {
        "colab": {
          "base_uri": "https://localhost:8080/"
        },
        "id": "n0EruuNdfTNM",
        "outputId": "2b3dcf5a-5a1d-4272-9176-7a8a442439d1"
      },
      "source": [
        "\"\"\"\n",
        "This file can be used to try a live prediction. \n",
        "\"\"\"\n",
        "\n",
        "import keras\n",
        "import numpy as np\n",
        "import librosa\n",
        "\n",
        "class livePredictions:\n",
        "    \"\"\"\n",
        "    Main class of the application.\n",
        "    \"\"\"\n",
        "\n",
        "    def __init__(self, path, file):\n",
        "        \"\"\"\n",
        "        Init method is used to initialize the main parameters.\n",
        "        \"\"\"\n",
        "        self.path = path\n",
        "        self.file = file\n",
        "\n",
        "    def load_model(self):\n",
        "        \"\"\"\n",
        "        Method to load the chosen model.\n",
        "        :param path: path to your h5 model.\n",
        "        :return: summary of the model with the .summary() function.\n",
        "        \"\"\"\n",
        "        self.loaded_model = keras.models.load_model(self.path)\n",
        "        return self.loaded_model.summary()\n",
        "\n",
        "    def makepredictions(self):\n",
        "        \"\"\"\n",
        "        Method to process the files and create your features.\n",
        "        \"\"\"\n",
        "        data, sampling_rate = librosa.load(self.file)\n",
        "        mfccs = np.mean(librosa.feature.mfcc(y=data, sr=sampling_rate, n_mfcc=40).T, axis=0)\n",
        "        x = np.expand_dims(mfccs, axis=1)\n",
        "        x = np.expand_dims(x, axis=0)\n",
        "        predictions=self.loaded_model.predict(x)\n",
        "        predictions = np.argmax(predictions,axis=1)\n",
        "        #predictions = self.loaded_model.predict_classes(x)\n",
        "        print(\"Prediction is\", \" \", self.convertclasstoemotion(predictions))\n",
        "\n",
        "    @staticmethod\n",
        "    def convertclasstoemotion(pred):\n",
        "        \"\"\"\n",
        "        Method to convert the predictions (int) into human readable strings.\n",
        "        \"\"\"\n",
        "        \n",
        "        label_conversion = {'0': 'negative',\n",
        "                            '1': 'positive'\n",
        "                            }\n",
        "\n",
        "        for key, value in label_conversion.items():\n",
        "            if int(key) == pred:\n",
        "                label = value\n",
        "        return label\n",
        "\n",
        "# Here you can replace path and file with the path of your model and of the file \n",
        "#from the RAVDESS dataset you want to use for the prediction,\n",
        "# Below, I have used a neutral file: the prediction made is neutral.\n",
        "\n",
        "pred = livePredictions(path='/content/drive/MyDrive/clinical/segmented/wav cough/model.hdf5',file='/content/drive/MyDrive/clinical/segmented/wav cough/pos-0421-093-cough-f-24-0.wav')\n",
        "\n",
        "pred.load_model()\n",
        "pred.makepredictions()"
      ],
      "execution_count": null,
      "outputs": [
        {
          "output_type": "stream",
          "name": "stdout",
          "text": [
            "Model: \"sequential\"\n",
            "_________________________________________________________________\n",
            "Layer (type)                 Output Shape              Param #   \n",
            "=================================================================\n",
            "conv1d (Conv1D)              (None, 40, 64)            384       \n",
            "_________________________________________________________________\n",
            "activation (Activation)      (None, 40, 64)            0         \n",
            "_________________________________________________________________\n",
            "dropout (Dropout)            (None, 40, 64)            0         \n",
            "_________________________________________________________________\n",
            "max_pooling1d (MaxPooling1D) (None, 10, 64)            0         \n",
            "_________________________________________________________________\n",
            "conv1d_1 (Conv1D)            (None, 10, 128)           41088     \n",
            "_________________________________________________________________\n",
            "activation_1 (Activation)    (None, 10, 128)           0         \n",
            "_________________________________________________________________\n",
            "dropout_1 (Dropout)          (None, 10, 128)           0         \n",
            "_________________________________________________________________\n",
            "max_pooling1d_1 (MaxPooling1 (None, 2, 128)            0         \n",
            "_________________________________________________________________\n",
            "conv1d_2 (Conv1D)            (None, 2, 256)            164096    \n",
            "_________________________________________________________________\n",
            "activation_2 (Activation)    (None, 2, 256)            0         \n",
            "_________________________________________________________________\n",
            "dropout_2 (Dropout)          (None, 2, 256)            0         \n",
            "_________________________________________________________________\n",
            "flatten (Flatten)            (None, 512)               0         \n",
            "_________________________________________________________________\n",
            "dense (Dense)                (None, 8)                 4104      \n",
            "_________________________________________________________________\n",
            "activation_3 (Activation)    (None, 8)                 0         \n",
            "=================================================================\n",
            "Total params: 209,672\n",
            "Trainable params: 209,672\n",
            "Non-trainable params: 0\n",
            "_________________________________________________________________\n",
            "Prediction is   negative\n"
          ]
        }
      ]
    },
    {
      "cell_type": "code",
      "metadata": {
        "id": "KVcdkjoCroyG"
      },
      "source": [
        ""
      ],
      "execution_count": null,
      "outputs": []
    },
    {
      "cell_type": "markdown",
      "metadata": {
        "id": "sde9qpXnxzow"
      },
      "source": [
        "#***THIS MODEL NEEDS IMPROVEMENT BEACUASE OF DATA SCARCITY.***"
      ]
    },
    {
      "cell_type": "code",
      "metadata": {
        "id": "GbNpJbkYx_kf"
      },
      "source": [
        ""
      ],
      "execution_count": null,
      "outputs": []
    }
  ]
}
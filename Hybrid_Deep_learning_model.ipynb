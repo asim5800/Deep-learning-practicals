{
  "nbformat": 4,
  "nbformat_minor": 0,
  "metadata": {
    "colab": {
      "name": "Hybrid Deep learning model.ipynb",
      "provenance": [],
      "collapsed_sections": [],
      "include_colab_link": true
    },
    "kernelspec": {
      "name": "python3",
      "display_name": "Python 3"
    }
  },
  "cells": [
    {
      "cell_type": "markdown",
      "metadata": {
        "id": "view-in-github",
        "colab_type": "text"
      },
      "source": [
        "<a href=\"https://colab.research.google.com/github/asim5800/Deep-learning-practicals/blob/main/Hybrid_Deep_learning_model.ipynb\" target=\"_parent\"><img src=\"https://colab.research.google.com/assets/colab-badge.svg\" alt=\"Open In Colab\"/></a>"
      ]
    },
    {
      "cell_type": "markdown",
      "metadata": {
        "id": "GJYk9gRO_W9P"
      },
      "source": [
        "#Mega Case Study - Making a hybrid Deep Learning Model"
      ]
    },
    {
      "cell_type": "markdown",
      "metadata": {
        "id": "6sJSujdCrR8c"
      },
      "source": [
        "***The challenge is to use the results of this self-organizing map to then combine your unsupervised deep learning model to a new supervised deep learning model that will take, as input, the results given by your self-organizing map.***"
      ]
    },
    {
      "cell_type": "code",
      "metadata": {
        "colab": {
          "base_uri": "https://localhost:8080/"
        },
        "id": "IVFUf2MbqeIZ",
        "outputId": "c8829025-b3f6-42fb-dde9-dfb0d2995fae"
      },
      "source": [
        "from google.colab import drive\n",
        "drive.mount('/content/drive')"
      ],
      "execution_count": 67,
      "outputs": [
        {
          "output_type": "stream",
          "name": "stdout",
          "text": [
            "Drive already mounted at /content/drive; to attempt to forcibly remount, call drive.mount(\"/content/drive\", force_remount=True).\n"
          ]
        }
      ]
    },
    {
      "cell_type": "markdown",
      "metadata": {
        "id": "D8PA8C_X_fHe"
      },
      "source": [
        "#Part 1 - SOM"
      ]
    },
    {
      "cell_type": "markdown",
      "metadata": {
        "id": "48btSZ8cAAVt"
      },
      "source": [
        "##Install MiniSom Package"
      ]
    },
    {
      "cell_type": "code",
      "metadata": {
        "id": "5ueD5zlVAAVu",
        "colab": {
          "base_uri": "https://localhost:8080/"
        },
        "outputId": "adee0954-8683-44c8-cd6b-448cf9456d9d"
      },
      "source": [
        "!pip install MiniSom"
      ],
      "execution_count": 68,
      "outputs": [
        {
          "output_type": "stream",
          "name": "stdout",
          "text": [
            "Requirement already satisfied: MiniSom in /usr/local/lib/python3.7/dist-packages (2.2.9)\n"
          ]
        }
      ]
    },
    {
      "cell_type": "markdown",
      "metadata": {
        "id": "y2L7M7QLAAVx"
      },
      "source": [
        "## Importing the libraries\n"
      ]
    },
    {
      "cell_type": "code",
      "metadata": {
        "id": "zy0_GMcbAAVx"
      },
      "source": [
        "import numpy as np\n",
        "import pandas as pd\n",
        "import matplotlib.pyplot as plt"
      ],
      "execution_count": 69,
      "outputs": []
    },
    {
      "cell_type": "markdown",
      "metadata": {
        "id": "M74YAQUJAAVz"
      },
      "source": [
        "## Importing the dataset"
      ]
    },
    {
      "cell_type": "code",
      "metadata": {
        "id": "oP387iJvAAV0"
      },
      "source": [
        "dataset = pd.read_csv('/content/drive/MyDrive/UNSUPERVISED DEEP LEARNING/Credit_Card_Applications.csv')\n",
        "X = dataset.iloc[:, :-1].values \n",
        "y = dataset.iloc[:, -1].values"
      ],
      "execution_count": 70,
      "outputs": []
    },
    {
      "cell_type": "code",
      "metadata": {
        "colab": {
          "base_uri": "https://localhost:8080/",
          "height": 204
        },
        "id": "acDDpTTm1MZY",
        "outputId": "f0a7b05f-6222-441b-e142-02ab477ac17f"
      },
      "source": [
        "dataset.head()"
      ],
      "execution_count": 71,
      "outputs": [
        {
          "output_type": "execute_result",
          "data": {
            "text/html": [
              "<div>\n",
              "<style scoped>\n",
              "    .dataframe tbody tr th:only-of-type {\n",
              "        vertical-align: middle;\n",
              "    }\n",
              "\n",
              "    .dataframe tbody tr th {\n",
              "        vertical-align: top;\n",
              "    }\n",
              "\n",
              "    .dataframe thead th {\n",
              "        text-align: right;\n",
              "    }\n",
              "</style>\n",
              "<table border=\"1\" class=\"dataframe\">\n",
              "  <thead>\n",
              "    <tr style=\"text-align: right;\">\n",
              "      <th></th>\n",
              "      <th>CustomerID</th>\n",
              "      <th>A1</th>\n",
              "      <th>A2</th>\n",
              "      <th>A3</th>\n",
              "      <th>A4</th>\n",
              "      <th>A5</th>\n",
              "      <th>A6</th>\n",
              "      <th>A7</th>\n",
              "      <th>A8</th>\n",
              "      <th>A9</th>\n",
              "      <th>A10</th>\n",
              "      <th>A11</th>\n",
              "      <th>A12</th>\n",
              "      <th>A13</th>\n",
              "      <th>A14</th>\n",
              "      <th>Class</th>\n",
              "    </tr>\n",
              "  </thead>\n",
              "  <tbody>\n",
              "    <tr>\n",
              "      <th>0</th>\n",
              "      <td>15776156</td>\n",
              "      <td>1</td>\n",
              "      <td>22.08</td>\n",
              "      <td>11.46</td>\n",
              "      <td>2</td>\n",
              "      <td>4</td>\n",
              "      <td>4</td>\n",
              "      <td>1.585</td>\n",
              "      <td>0</td>\n",
              "      <td>0</td>\n",
              "      <td>0</td>\n",
              "      <td>1</td>\n",
              "      <td>2</td>\n",
              "      <td>100</td>\n",
              "      <td>1213</td>\n",
              "      <td>0</td>\n",
              "    </tr>\n",
              "    <tr>\n",
              "      <th>1</th>\n",
              "      <td>15739548</td>\n",
              "      <td>0</td>\n",
              "      <td>22.67</td>\n",
              "      <td>7.00</td>\n",
              "      <td>2</td>\n",
              "      <td>8</td>\n",
              "      <td>4</td>\n",
              "      <td>0.165</td>\n",
              "      <td>0</td>\n",
              "      <td>0</td>\n",
              "      <td>0</td>\n",
              "      <td>0</td>\n",
              "      <td>2</td>\n",
              "      <td>160</td>\n",
              "      <td>1</td>\n",
              "      <td>0</td>\n",
              "    </tr>\n",
              "    <tr>\n",
              "      <th>2</th>\n",
              "      <td>15662854</td>\n",
              "      <td>0</td>\n",
              "      <td>29.58</td>\n",
              "      <td>1.75</td>\n",
              "      <td>1</td>\n",
              "      <td>4</td>\n",
              "      <td>4</td>\n",
              "      <td>1.250</td>\n",
              "      <td>0</td>\n",
              "      <td>0</td>\n",
              "      <td>0</td>\n",
              "      <td>1</td>\n",
              "      <td>2</td>\n",
              "      <td>280</td>\n",
              "      <td>1</td>\n",
              "      <td>0</td>\n",
              "    </tr>\n",
              "    <tr>\n",
              "      <th>3</th>\n",
              "      <td>15687688</td>\n",
              "      <td>0</td>\n",
              "      <td>21.67</td>\n",
              "      <td>11.50</td>\n",
              "      <td>1</td>\n",
              "      <td>5</td>\n",
              "      <td>3</td>\n",
              "      <td>0.000</td>\n",
              "      <td>1</td>\n",
              "      <td>1</td>\n",
              "      <td>11</td>\n",
              "      <td>1</td>\n",
              "      <td>2</td>\n",
              "      <td>0</td>\n",
              "      <td>1</td>\n",
              "      <td>1</td>\n",
              "    </tr>\n",
              "    <tr>\n",
              "      <th>4</th>\n",
              "      <td>15715750</td>\n",
              "      <td>1</td>\n",
              "      <td>20.17</td>\n",
              "      <td>8.17</td>\n",
              "      <td>2</td>\n",
              "      <td>6</td>\n",
              "      <td>4</td>\n",
              "      <td>1.960</td>\n",
              "      <td>1</td>\n",
              "      <td>1</td>\n",
              "      <td>14</td>\n",
              "      <td>0</td>\n",
              "      <td>2</td>\n",
              "      <td>60</td>\n",
              "      <td>159</td>\n",
              "      <td>1</td>\n",
              "    </tr>\n",
              "  </tbody>\n",
              "</table>\n",
              "</div>"
            ],
            "text/plain": [
              "   CustomerID  A1     A2     A3  A4  A5  ...  A10  A11  A12  A13   A14  Class\n",
              "0    15776156   1  22.08  11.46   2   4  ...    0    1    2  100  1213      0\n",
              "1    15739548   0  22.67   7.00   2   8  ...    0    0    2  160     1      0\n",
              "2    15662854   0  29.58   1.75   1   4  ...    0    1    2  280     1      0\n",
              "3    15687688   0  21.67  11.50   1   5  ...   11    1    2    0     1      1\n",
              "4    15715750   1  20.17   8.17   2   6  ...   14    0    2   60   159      1\n",
              "\n",
              "[5 rows x 16 columns]"
            ]
          },
          "metadata": {},
          "execution_count": 71
        }
      ]
    },
    {
      "cell_type": "markdown",
      "metadata": {
        "id": "xaNRHZwYAAV2"
      },
      "source": [
        "## Feature Scaling\n"
      ]
    },
    {
      "cell_type": "code",
      "metadata": {
        "id": "57QK6WXTAAV3"
      },
      "source": [
        "from sklearn.preprocessing import MinMaxScaler\n",
        "sc = MinMaxScaler(feature_range = (0,1))\n",
        "X = sc.fit_transform(X)"
      ],
      "execution_count": 72,
      "outputs": []
    },
    {
      "cell_type": "markdown",
      "metadata": {
        "id": "WyD5sEHYAAV5"
      },
      "source": [
        "##Training the SOM\n"
      ]
    },
    {
      "cell_type": "code",
      "metadata": {
        "id": "-BXn8YphAAV6"
      },
      "source": [
        "from minisom import MiniSom\n",
        "som = MiniSom(x=10, y=10, input_len= 15, sigma= 1.0, learning_rate = 0.5)\n",
        "som.random_weights_init(X)\n",
        "som.train_random(data = X, num_iteration = 100)"
      ],
      "execution_count": 73,
      "outputs": []
    },
    {
      "cell_type": "markdown",
      "metadata": {
        "id": "d9qf8w7sAAV8"
      },
      "source": [
        "##Visualizing the results\n"
      ]
    },
    {
      "cell_type": "code",
      "metadata": {
        "id": "cshl06SmAAV8",
        "colab": {
          "base_uri": "https://localhost:8080/",
          "height": 269
        },
        "outputId": "5def0047-83a1-475d-bcfd-59f6a9609884"
      },
      "source": [
        "from pylab import bone, pcolor, colorbar, plot, show\n",
        "bone()\n",
        "pcolor(som.distance_map().T)\n",
        "colorbar()\n",
        "markers = ['o', 's']\n",
        "colors = ['r', 'g']\n",
        "for i, x in enumerate(X):\n",
        "    w = som.winner(x)\n",
        "    plot(w[0] + 0.5,\n",
        "         w[1] + 0.5,\n",
        "         markers[y[i]],\n",
        "         markeredgecolor = colors[y[i]],\n",
        "         markerfacecolor = 'None',\n",
        "         markersize = 10,\n",
        "         markeredgewidth = 2)\n",
        "show()"
      ],
      "execution_count": 74,
      "outputs": [
        {
          "output_type": "display_data",
          "data": {
            "image/png": "[encoded data removed]",
            "text/plain": [
              "<Figure size 432x288 with 2 Axes>"
            ]
          },
          "metadata": {
            "needs_background": "light"
          }
        }
      ]
    },
    {
      "cell_type": "markdown",
      "metadata": {
        "id": "gijZkcIGAAWA"
      },
      "source": [
        "## Finding the frauds\n"
      ]
    },
    {
      "cell_type": "code",
      "metadata": {
        "id": "EJIH9sDvAAWA"
      },
      "source": [
        "mappings = som.win_map(X)\n",
        "frauds = np.concatenate((mappings[(1,7)], mappings[(2,9)], mappings[(9,3)]), axis = 0)\n",
        "frauds = sc.inverse_transform(frauds)"
      ],
      "execution_count": 76,
      "outputs": []
    },
    {
      "cell_type": "markdown",
      "metadata": {
        "id": "EOVO2DzCAAWD"
      },
      "source": [
        "##Printing the Fraunch Clients"
      ]
    },
    {
      "cell_type": "code",
      "metadata": {
        "id": "IjotUwR3AAWD",
        "colab": {
          "base_uri": "https://localhost:8080/"
        },
        "outputId": "748f5cfe-4255-4a69-d9f5-80f54596c8c3"
      },
      "source": [
        "print('Fraud Customer IDs')\n",
        "for i in frauds[:, 0]:\n",
        "  print(int(i))"
      ],
      "execution_count": 77,
      "outputs": [
        {
          "output_type": "stream",
          "name": "stdout",
          "text": [
            "Fraud Customer IDs\n",
            "15682686\n",
            "15598614\n",
            "15572361\n",
            "15706268\n",
            "15653147\n",
            "15802106\n",
            "15687765\n",
            "15571081\n",
            "15625501\n",
            "15598574\n"
          ]
        }
      ]
    },
    {
      "cell_type": "markdown",
      "metadata": {
        "id": "-9oatjNmAC8i"
      },
      "source": [
        "#Part 2 - Going from Unsupervised to Supervised Deep Learning"
      ]
    },
    {
      "cell_type": "markdown",
      "metadata": {
        "id": "eDv-ecVtAtwU"
      },
      "source": [
        "##Create Matrix of Features"
      ]
    },
    {
      "cell_type": "code",
      "metadata": {
        "id": "h3ADq7HsA3Sh"
      },
      "source": [
        "customers = dataset.iloc[:, 1:].values #replacing X earlier as customers include all columns except CUST ID"
      ],
      "execution_count": 78,
      "outputs": []
    },
    {
      "cell_type": "code",
      "metadata": {
        "colab": {
          "base_uri": "https://localhost:8080/"
        },
        "id": "XakvQbBvtPjZ",
        "outputId": "021d5dd4-ac6c-4e39-ee1d-7d795edc2153"
      },
      "source": [
        "customers.shape"
      ],
      "execution_count": 79,
      "outputs": [
        {
          "output_type": "execute_result",
          "data": {
            "text/plain": [
              "(690, 15)"
            ]
          },
          "metadata": {},
          "execution_count": 79
        }
      ]
    },
    {
      "cell_type": "markdown",
      "metadata": {
        "id": "ycrQvNAvBAng"
      },
      "source": [
        "## Create Dependent Variable"
      ]
    },
    {
      "cell_type": "markdown",
      "metadata": {
        "id": "MpmwaOb6vy6c"
      },
      "source": [
        "\n",
        "It will be a fraud with a binary outcome,which will therefore get the value of zero and one,zero if there is no fraud and one if there is fraud.\n",
        "\n",
        "And so how can we use the results that we obtainedthanks to our unsupervised deep learning model the self organizing map, well we can extract the customer IDs of this list of frauds because basically this list of frauds contains all the customer IDs of the customers that potentially cheated.\n",
        "\n",
        "So we will use this to create our dependent variable"
      ]
    },
    {
      "cell_type": "code",
      "metadata": {
        "id": "Dt1TQG3NBFDM"
      },
      "source": [
        "is_fraud = np.zeros(len(dataset))\n",
        "for i in range(len(dataset)):\n",
        "  if dataset.iloc[i,0] in frauds:\n",
        "    is_fraud[i] = 1"
      ],
      "execution_count": 80,
      "outputs": []
    },
    {
      "cell_type": "code",
      "metadata": {
        "colab": {
          "base_uri": "https://localhost:8080/"
        },
        "id": "y0LUDGL8ydYU",
        "outputId": "8421e055-f674-4f12-eaad-6f485bb8b6dd"
      },
      "source": [
        "is_fraud.shape"
      ],
      "execution_count": 81,
      "outputs": [
        {
          "output_type": "execute_result",
          "data": {
            "text/plain": [
              "(690,)"
            ]
          },
          "metadata": {},
          "execution_count": 81
        }
      ]
    },
    {
      "cell_type": "markdown",
      "metadata": {
        "id": "OgQBLi0iBsji"
      },
      "source": [
        "#Part 3 - ANN"
      ]
    },
    {
      "cell_type": "markdown",
      "metadata": {
        "id": "RE_FcHyfV3TQ"
      },
      "source": [
        "### Feature Scaling"
      ]
    },
    {
      "cell_type": "code",
      "metadata": {
        "id": "ViCrE00rV8Sk"
      },
      "source": [
        "from sklearn.preprocessing import StandardScaler\n",
        "sc = StandardScaler()\n",
        "customers = sc.fit_transform(customers)"
      ],
      "execution_count": 82,
      "outputs": []
    },
    {
      "cell_type": "markdown",
      "metadata": {
        "id": "-zfEzkRVXIwF"
      },
      "source": [
        "## Building the ANN"
      ]
    },
    {
      "cell_type": "markdown",
      "metadata": {
        "id": "S5-uTVVvCcTf"
      },
      "source": [
        "\n",
        "##Import Tensorflow"
      ]
    },
    {
      "cell_type": "code",
      "metadata": {
        "id": "veBa6HoECbZI",
        "colab": {
          "base_uri": "https://localhost:8080/",
          "height": 35
        },
        "outputId": "b72ee5a8-a36d-4fea-c6f2-d00b78013afe"
      },
      "source": [
        "import tensorflow as tf\n",
        "tf.__version__"
      ],
      "execution_count": 83,
      "outputs": [
        {
          "output_type": "execute_result",
          "data": {
            "application/vnd.google.colaboratory.intrinsic+json": {
              "type": "string"
            },
            "text/plain": [
              "'2.6.0'"
            ]
          },
          "metadata": {},
          "execution_count": 83
        }
      ]
    },
    {
      "cell_type": "markdown",
      "metadata": {
        "id": "KvdeScabXtlB"
      },
      "source": [
        "## Initializing the ANN"
      ]
    },
    {
      "cell_type": "code",
      "metadata": {
        "id": "3dtrScHxXQox"
      },
      "source": [
        "ann = tf.keras.models.Sequential()"
      ],
      "execution_count": 84,
      "outputs": []
    },
    {
      "cell_type": "markdown",
      "metadata": {
        "id": "rP6urV6SX7kS"
      },
      "source": [
        "##Adding the input layer and the first hidden layer"
      ]
    },
    {
      "cell_type": "code",
      "metadata": {
        "id": "bppGycBXYCQr"
      },
      "source": [
        "ann.add(tf.keras.layers.Dense(units=2, activation='relu')) # input_dim=15 can be added"
      ],
      "execution_count": 85,
      "outputs": []
    },
    {
      "cell_type": "markdown",
      "metadata": {
        "id": "OyNEe6RXYcU4"
      },
      "source": [
        "## Adding the output layer"
      ]
    },
    {
      "cell_type": "code",
      "metadata": {
        "id": "Cn3x41RBYfvY"
      },
      "source": [
        "ann.add(tf.keras.layers.Dense(units=1, activation='sigmoid'))"
      ],
      "execution_count": 86,
      "outputs": []
    },
    {
      "cell_type": "markdown",
      "metadata": {
        "id": "JT4u2S1_Y4WG"
      },
      "source": [
        "## Training the ANN"
      ]
    },
    {
      "cell_type": "markdown",
      "metadata": {
        "id": "8GWlJChhY_ZI"
      },
      "source": [
        "## Compiling the ANN"
      ]
    },
    {
      "cell_type": "code",
      "metadata": {
        "id": "fG3RrwDXZEaS"
      },
      "source": [
        "ann.compile(optimizer = 'adam', loss = 'binary_crossentropy', metrics = ['accuracy'])"
      ],
      "execution_count": 87,
      "outputs": []
    },
    {
      "cell_type": "markdown",
      "metadata": {
        "id": "0QR_G5u7ZLSM"
      },
      "source": [
        "## Training the ANN on the Training set"
      ]
    },
    {
      "cell_type": "code",
      "metadata": {
        "id": "nHZ-LKv_ZRb3",
        "colab": {
          "base_uri": "https://localhost:8080/"
        },
        "outputId": "deea8287-8a9d-4dd5-ad0a-3c38632df8f0"
      },
      "source": [
        "ann.fit(customers, is_fraud, batch_size = 1, epochs = 10)"
      ],
      "execution_count": 88,
      "outputs": [
        {
          "output_type": "stream",
          "name": "stdout",
          "text": [
            "Epoch 1/10\n",
            "690/690 [==============================] - 1s 1ms/step - loss: 0.8824 - accuracy: 0.4841\n",
            "Epoch 2/10\n",
            "690/690 [==============================] - 1s 1ms/step - loss: 0.4479 - accuracy: 0.9333\n",
            "Epoch 3/10\n",
            "690/690 [==============================] - 1s 1ms/step - loss: 0.2886 - accuracy: 0.9797\n",
            "Epoch 4/10\n",
            "690/690 [==============================] - 1s 1ms/step - loss: 0.2089 - accuracy: 0.9826\n",
            "Epoch 5/10\n",
            "690/690 [==============================] - 1s 1ms/step - loss: 0.1623 - accuracy: 0.9855\n",
            "Epoch 6/10\n",
            "690/690 [==============================] - 1s 1ms/step - loss: 0.1331 - accuracy: 0.9855\n",
            "Epoch 7/10\n",
            "690/690 [==============================] - 1s 1ms/step - loss: 0.1141 - accuracy: 0.9855\n",
            "Epoch 8/10\n",
            "690/690 [==============================] - 1s 1ms/step - loss: 0.1017 - accuracy: 0.9855\n",
            "Epoch 9/10\n",
            "690/690 [==============================] - 1s 1ms/step - loss: 0.0932 - accuracy: 0.9855\n",
            "Epoch 10/10\n",
            "690/690 [==============================] - 1s 1ms/step - loss: 0.0869 - accuracy: 0.9855\n"
          ]
        },
        {
          "output_type": "execute_result",
          "data": {
            "text/plain": [
              "<keras.callbacks.History at 0x7fdcf5081d90>"
            ]
          },
          "metadata": {},
          "execution_count": 88
        }
      ]
    },
    {
      "cell_type": "markdown",
      "metadata": {
        "id": "tJj5k2MxZga3"
      },
      "source": [
        "## Predicting test set results"
      ]
    },
    {
      "cell_type": "code",
      "metadata": {
        "id": "nIyEeQdRZwgs"
      },
      "source": [
        "y_pred = ann.predict(customers)#probabilty of each customer cheated\n",
        "y_pred = np.concatenate((dataset.iloc[:, 0:1].values, y_pred), axis = 1) #cusotmer id , with respective probabilities \n",
        "y_pred = y_pred[y_pred[:, 1].argsort()] "
      ],
      "execution_count": 89,
      "outputs": []
    },
    {
      "cell_type": "code",
      "metadata": {
        "id": "fX2iDXYiD-sN",
        "colab": {
          "base_uri": "https://localhost:8080/"
        },
        "outputId": "539f78e0-2545-47af-8d86-55c947070df3"
      },
      "source": [
        "print(y_pred)"
      ],
      "execution_count": 90,
      "outputs": [
        {
          "output_type": "stream",
          "name": "stdout",
          "text": [
            "[[1.57761560e+07 3.95665467e-02]\n",
            " [1.56405210e+07 3.95665467e-02]\n",
            " [1.57906300e+07 3.95665467e-02]\n",
            " ...\n",
            " [1.56531470e+07 6.65089190e-02]\n",
            " [1.58021060e+07 6.71010613e-02]\n",
            " [1.56058720e+07 7.29288757e-02]]\n"
          ]
        }
      ]
    },
    {
      "cell_type": "code",
      "metadata": {
        "id": "zxQDOy3l0_FS"
      },
      "source": [
        "prob=pd.DataFrame(y_pred, columns=['Customer ID', 'Probability of fraud']) \n"
      ],
      "execution_count": 91,
      "outputs": []
    },
    {
      "cell_type": "code",
      "metadata": {
        "colab": {
          "base_uri": "https://localhost:8080/",
          "height": 419
        },
        "id": "AGMlsd3l21cj",
        "outputId": "be76c8ce-37ce-434f-973f-c0343799dcb4"
      },
      "source": [
        "prob "
      ],
      "execution_count": 92,
      "outputs": [
        {
          "output_type": "execute_result",
          "data": {
            "text/html": [
              "<div>\n",
              "<style scoped>\n",
              "    .dataframe tbody tr th:only-of-type {\n",
              "        vertical-align: middle;\n",
              "    }\n",
              "\n",
              "    .dataframe tbody tr th {\n",
              "        vertical-align: top;\n",
              "    }\n",
              "\n",
              "    .dataframe thead th {\n",
              "        text-align: right;\n",
              "    }\n",
              "</style>\n",
              "<table border=\"1\" class=\"dataframe\">\n",
              "  <thead>\n",
              "    <tr style=\"text-align: right;\">\n",
              "      <th></th>\n",
              "      <th>Customer ID</th>\n",
              "      <th>Probability of fraud</th>\n",
              "    </tr>\n",
              "  </thead>\n",
              "  <tbody>\n",
              "    <tr>\n",
              "      <th>0</th>\n",
              "      <td>15776156.0</td>\n",
              "      <td>0.039567</td>\n",
              "    </tr>\n",
              "    <tr>\n",
              "      <th>1</th>\n",
              "      <td>15640521.0</td>\n",
              "      <td>0.039567</td>\n",
              "    </tr>\n",
              "    <tr>\n",
              "      <th>2</th>\n",
              "      <td>15790630.0</td>\n",
              "      <td>0.039567</td>\n",
              "    </tr>\n",
              "    <tr>\n",
              "      <th>3</th>\n",
              "      <td>15664720.0</td>\n",
              "      <td>0.039567</td>\n",
              "    </tr>\n",
              "    <tr>\n",
              "      <th>4</th>\n",
              "      <td>15750055.0</td>\n",
              "      <td>0.039567</td>\n",
              "    </tr>\n",
              "    <tr>\n",
              "      <th>...</th>\n",
              "      <td>...</td>\n",
              "      <td>...</td>\n",
              "    </tr>\n",
              "    <tr>\n",
              "      <th>685</th>\n",
              "      <td>15569595.0</td>\n",
              "      <td>0.062759</td>\n",
              "    </tr>\n",
              "    <tr>\n",
              "      <th>686</th>\n",
              "      <td>15790113.0</td>\n",
              "      <td>0.063452</td>\n",
              "    </tr>\n",
              "    <tr>\n",
              "      <th>687</th>\n",
              "      <td>15653147.0</td>\n",
              "      <td>0.066509</td>\n",
              "    </tr>\n",
              "    <tr>\n",
              "      <th>688</th>\n",
              "      <td>15802106.0</td>\n",
              "      <td>0.067101</td>\n",
              "    </tr>\n",
              "    <tr>\n",
              "      <th>689</th>\n",
              "      <td>15605872.0</td>\n",
              "      <td>0.072929</td>\n",
              "    </tr>\n",
              "  </tbody>\n",
              "</table>\n",
              "<p>690 rows × 2 columns</p>\n",
              "</div>"
            ],
            "text/plain": [
              "     Customer ID  Probability of fraud\n",
              "0     15776156.0              0.039567\n",
              "1     15640521.0              0.039567\n",
              "2     15790630.0              0.039567\n",
              "3     15664720.0              0.039567\n",
              "4     15750055.0              0.039567\n",
              "..           ...                   ...\n",
              "685   15569595.0              0.062759\n",
              "686   15790113.0              0.063452\n",
              "687   15653147.0              0.066509\n",
              "688   15802106.0              0.067101\n",
              "689   15605872.0              0.072929\n",
              "\n",
              "[690 rows x 2 columns]"
            ]
          },
          "metadata": {},
          "execution_count": 92
        }
      ]
    },
    {
      "cell_type": "markdown",
      "metadata": {
        "id": "liJenPc94bgw"
      },
      "source": [
        "***We can give above ranking to the fraud department to have more better solution to this business problem.***"
      ]
    },
    {
      "cell_type": "code",
      "metadata": {
        "id": "RgG65c8z4Wwm"
      },
      "source": [
        ""
      ],
      "execution_count": null,
      "outputs": []
    }
  ]
}
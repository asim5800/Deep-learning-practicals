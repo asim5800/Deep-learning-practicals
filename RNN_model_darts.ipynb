{
  "nbformat": 4,
  "nbformat_minor": 0,
  "metadata": {
    "colab": {
      "name": "RNN model darts.ipynb",
      "provenance": [],
      "include_colab_link": true
    },
    "kernelspec": {
      "name": "python3",
      "display_name": "Python 3"
    },
    "language_info": {
      "name": "python"
    }
  },
  "cells": [
    {
      "cell_type": "markdown",
      "metadata": {
        "id": "view-in-github",
        "colab_type": "text"
      },
      "source": [
        "<a href=\"https://colab.research.google.com/github/asim5800/Deep-learning-practicals/blob/main/RNN_model_darts.ipynb\" target=\"_parent\"><img src=\"https://colab.research.google.com/assets/colab-badge.svg\" alt=\"Open In Colab\"/></a>"
      ]
    },
    {
      "cell_type": "markdown",
      "metadata": {
        "id": "Sc7er9g7cH56"
      },
      "source": [
        "## Time Series Made Easy in Python USing Darts Library"
      ]
    },
    {
      "cell_type": "code",
      "metadata": {
        "colab": {
          "base_uri": "https://localhost:8080/",
          "height": 1000
        },
        "id": "JrV6QYnIb6N5",
        "outputId": "55577122-6a5a-4baa-a241-42083b00be68"
      },
      "source": [
        "!pip install darts"
      ],
      "execution_count": null,
      "outputs": [
        {
          "output_type": "stream",
          "name": "stdout",
          "text": [
            "Collecting darts\n",
            "  Downloading darts-0.14.0-py3-none-any.whl (290 kB)\n",
            "\u001b[?25l\r\u001b[K     |█▏                              | 10 kB 4.6 MB/s eta 0:00:01\r\u001b[K     |██▎                             | 20 kB 7.6 MB/s eta 0:00:01\r\u001b[K     |███▍                            | 30 kB 10.1 MB/s eta 0:00:01\r\u001b[K     |████▌                           | 40 kB 12.3 MB/s eta 0:00:01\r\u001b[K     |█████▋                          | 51 kB 5.7 MB/s eta 0:00:01\r\u001b[K     |██████▊                         | 61 kB 6.1 MB/s eta 0:00:01\r\u001b[K     |███████▉                        | 71 kB 5.3 MB/s eta 0:00:01\r\u001b[K     |█████████                       | 81 kB 6.0 MB/s eta 0:00:01\r\u001b[K     |██████████▏                     | 92 kB 6.1 MB/s eta 0:00:01\r\u001b[K     |███████████▎                    | 102 kB 5.3 MB/s eta 0:00:01\r\u001b[K     |████████████▍                   | 112 kB 5.3 MB/s eta 0:00:01\r\u001b[K     |█████████████▌                  | 122 kB 5.3 MB/s eta 0:00:01\r\u001b[K     |██████████████▋                 | 133 kB 5.3 MB/s eta 0:00:01\r\u001b[K     |███████████████▊                | 143 kB 5.3 MB/s eta 0:00:01\r\u001b[K     |█████████████████               | 153 kB 5.3 MB/s eta 0:00:01\r\u001b[K     |██████████████████              | 163 kB 5.3 MB/s eta 0:00:01\r\u001b[K     |███████████████████▏            | 174 kB 5.3 MB/s eta 0:00:01\r\u001b[K     |████████████████████▎           | 184 kB 5.3 MB/s eta 0:00:01\r\u001b[K     |█████████████████████▍          | 194 kB 5.3 MB/s eta 0:00:01\r\u001b[K     |██████████████████████▌         | 204 kB 5.3 MB/s eta 0:00:01\r\u001b[K     |███████████████████████▋        | 215 kB 5.3 MB/s eta 0:00:01\r\u001b[K     |████████████████████████▉       | 225 kB 5.3 MB/s eta 0:00:01\r\u001b[K     |██████████████████████████      | 235 kB 5.3 MB/s eta 0:00:01\r\u001b[K     |███████████████████████████     | 245 kB 5.3 MB/s eta 0:00:01\r\u001b[K     |████████████████████████████▏   | 256 kB 5.3 MB/s eta 0:00:01\r\u001b[K     |█████████████████████████████▎  | 266 kB 5.3 MB/s eta 0:00:01\r\u001b[K     |██████████████████████████████▍ | 276 kB 5.3 MB/s eta 0:00:01\r\u001b[K     |███████████████████████████████▌| 286 kB 5.3 MB/s eta 0:00:01\r\u001b[K     |████████████████████████████████| 290 kB 5.3 MB/s \n",
            "\u001b[?25hRequirement already satisfied: joblib>=0.16.0 in /usr/local/lib/python3.7/dist-packages (from darts) (1.1.0)\n",
            "Requirement already satisfied: xarray>=0.17.0 in /usr/local/lib/python3.7/dist-packages (from darts) (0.18.2)\n",
            "Requirement already satisfied: scipy>=1.3.2 in /usr/local/lib/python3.7/dist-packages (from darts) (1.4.1)\n",
            "Collecting prophet>=1.0.0\n",
            "  Downloading prophet-1.0.1.tar.gz (65 kB)\n",
            "\u001b[K     |████████████████████████████████| 65 kB 3.9 MB/s \n",
            "\u001b[?25hRequirement already satisfied: pandas>=1.1.0 in /usr/local/lib/python3.7/dist-packages (from darts) (1.1.5)\n",
            "Collecting filterpy>=1.4.5\n",
            "  Downloading filterpy-1.4.5.zip (177 kB)\n",
            "\u001b[K     |████████████████████████████████| 177 kB 39.4 MB/s \n",
            "\u001b[?25hRequirement already satisfied: scikit-learn>=1.0.1 in /usr/local/lib/python3.7/dist-packages (from darts) (1.0.1)\n",
            "Requirement already satisfied: pystan<3.0.0.0,>=2.19.1.1 in /usr/local/lib/python3.7/dist-packages (from darts) (2.19.1.1)\n",
            "Requirement already satisfied: numpy>=1.19.0 in /usr/local/lib/python3.7/dist-packages (from darts) (1.19.5)\n",
            "Collecting pmdarima>=1.8.0\n",
            "  Downloading pmdarima-1.8.4-cp37-cp37m-manylinux_2_17_x86_64.manylinux2014_x86_64.manylinux_2_24_x86_64.whl (1.4 MB)\n",
            "\u001b[K     |████████████████████████████████| 1.4 MB 41.7 MB/s \n",
            "\u001b[?25hRequirement already satisfied: torch>=1.8.0 in /usr/local/lib/python3.7/dist-packages (from darts) (1.10.0+cu111)\n",
            "Requirement already satisfied: tqdm>=4.60.0 in /usr/local/lib/python3.7/dist-packages (from darts) (4.62.3)\n",
            "Requirement already satisfied: lightgbm>=2.2.3 in /usr/local/lib/python3.7/dist-packages (from darts) (2.2.3)\n",
            "Collecting matplotlib>=3.3.0\n",
            "  Downloading matplotlib-3.5.0-cp37-cp37m-manylinux_2_5_x86_64.manylinux1_x86_64.whl (11.2 MB)\n",
            "\u001b[K     |████████████████████████████████| 11.2 MB 28.1 MB/s \n",
            "\u001b[?25hCollecting ipython>=7.0.0\n",
            "  Downloading ipython-7.30.0-py3-none-any.whl (791 kB)\n",
            "\u001b[K     |████████████████████████████████| 791 kB 57.4 MB/s \n",
            "\u001b[?25hCollecting statsmodels>=0.13.0\n",
            "  Downloading statsmodels-0.13.1-cp37-cp37m-manylinux_2_17_x86_64.manylinux2014_x86_64.whl (9.8 MB)\n",
            "\u001b[K     |████████████████████████████████| 9.8 MB 23.2 MB/s \n",
            "\u001b[?25hCollecting holidays>=0.11.1\n",
            "  Downloading holidays-0.11.3.1-py3-none-any.whl (155 kB)\n",
            "\u001b[K     |████████████████████████████████| 155 kB 25.7 MB/s \n",
            "\u001b[?25hRequirement already satisfied: requests>=2.22.0 in /usr/local/lib/python3.7/dist-packages (from darts) (2.23.0)\n",
            "Requirement already satisfied: tensorboard>=2.4.0 in /usr/local/lib/python3.7/dist-packages (from darts) (2.7.0)\n",
            "Requirement already satisfied: korean-lunar-calendar in /usr/local/lib/python3.7/dist-packages (from holidays>=0.11.1->darts) (0.2.1)\n",
            "Requirement already satisfied: hijri-converter in /usr/local/lib/python3.7/dist-packages (from holidays>=0.11.1->darts) (2.2.2)\n",
            "Requirement already satisfied: python-dateutil in /usr/local/lib/python3.7/dist-packages (from holidays>=0.11.1->darts) (2.8.2)\n",
            "Requirement already satisfied: convertdate>=2.3.0 in /usr/local/lib/python3.7/dist-packages (from holidays>=0.11.1->darts) (2.3.2)\n",
            "Requirement already satisfied: pymeeus<=1,>=0.3.13 in /usr/local/lib/python3.7/dist-packages (from convertdate>=2.3.0->holidays>=0.11.1->darts) (0.5.11)\n",
            "Requirement already satisfied: pytz>=2014.10 in /usr/local/lib/python3.7/dist-packages (from convertdate>=2.3.0->holidays>=0.11.1->darts) (2018.9)\n",
            "Requirement already satisfied: jedi>=0.16 in /usr/local/lib/python3.7/dist-packages (from ipython>=7.0.0->darts) (0.18.1)\n",
            "Requirement already satisfied: decorator in /usr/local/lib/python3.7/dist-packages (from ipython>=7.0.0->darts) (4.4.2)\n",
            "Requirement already satisfied: pygments in /usr/local/lib/python3.7/dist-packages (from ipython>=7.0.0->darts) (2.6.1)\n",
            "Requirement already satisfied: traitlets>=4.2 in /usr/local/lib/python3.7/dist-packages (from ipython>=7.0.0->darts) (5.1.1)\n",
            "Requirement already satisfied: backcall in /usr/local/lib/python3.7/dist-packages (from ipython>=7.0.0->darts) (0.2.0)\n",
            "Collecting prompt-toolkit!=3.0.0,!=3.0.1,<3.1.0,>=2.0.0\n",
            "  Downloading prompt_toolkit-3.0.23-py3-none-any.whl (374 kB)\n",
            "\u001b[K     |████████████████████████████████| 374 kB 55.5 MB/s \n",
            "\u001b[?25hRequirement already satisfied: matplotlib-inline in /usr/local/lib/python3.7/dist-packages (from ipython>=7.0.0->darts) (0.1.3)\n",
            "Requirement already satisfied: pickleshare in /usr/local/lib/python3.7/dist-packages (from ipython>=7.0.0->darts) (0.7.5)\n",
            "Requirement already satisfied: pexpect>4.3 in /usr/local/lib/python3.7/dist-packages (from ipython>=7.0.0->darts) (4.8.0)\n",
            "Requirement already satisfied: setuptools>=18.5 in /usr/local/lib/python3.7/dist-packages (from ipython>=7.0.0->darts) (57.4.0)\n",
            "Requirement already satisfied: parso<0.9.0,>=0.8.0 in /usr/local/lib/python3.7/dist-packages (from jedi>=0.16->ipython>=7.0.0->darts) (0.8.2)\n",
            "Requirement already satisfied: fonttools>=4.22.0 in /usr/local/lib/python3.7/dist-packages (from matplotlib>=3.3.0->darts) (4.28.1)\n",
            "Requirement already satisfied: cycler>=0.10 in /usr/local/lib/python3.7/dist-packages (from matplotlib>=3.3.0->darts) (0.11.0)\n",
            "Requirement already satisfied: packaging>=20.0 in /usr/local/lib/python3.7/dist-packages (from matplotlib>=3.3.0->darts) (21.3)\n",
            "Requirement already satisfied: pyparsing>=2.2.1 in /usr/local/lib/python3.7/dist-packages (from matplotlib>=3.3.0->darts) (3.0.6)\n",
            "Requirement already satisfied: pillow>=6.2.0 in /usr/local/lib/python3.7/dist-packages (from matplotlib>=3.3.0->darts) (7.1.2)\n",
            "Requirement already satisfied: setuptools-scm>=4 in /usr/local/lib/python3.7/dist-packages (from matplotlib>=3.3.0->darts) (6.3.2)\n",
            "Requirement already satisfied: kiwisolver>=1.0.1 in /usr/local/lib/python3.7/dist-packages (from matplotlib>=3.3.0->darts) (1.3.2)\n",
            "Requirement already satisfied: ptyprocess>=0.5 in /usr/local/lib/python3.7/dist-packages (from pexpect>4.3->ipython>=7.0.0->darts) (0.7.0)\n",
            "Requirement already satisfied: urllib3 in /usr/local/lib/python3.7/dist-packages (from pmdarima>=1.8.0->darts) (1.24.3)\n",
            "Requirement already satisfied: Cython!=0.29.18,>=0.29 in /usr/local/lib/python3.7/dist-packages (from pmdarima>=1.8.0->darts) (0.29.24)\n",
            "Requirement already satisfied: wcwidth in /usr/local/lib/python3.7/dist-packages (from prompt-toolkit!=3.0.0,!=3.0.1,<3.1.0,>=2.0.0->ipython>=7.0.0->darts) (0.2.5)\n",
            "Collecting cmdstanpy==0.9.68\n",
            "  Downloading cmdstanpy-0.9.68-py3-none-any.whl (49 kB)\n",
            "\u001b[K     |████████████████████████████████| 49 kB 5.2 MB/s \n",
            "\u001b[?25hRequirement already satisfied: LunarCalendar>=0.0.9 in /usr/local/lib/python3.7/dist-packages (from prophet>=1.0.0->darts) (0.0.9)\n",
            "Requirement already satisfied: setuptools-git>=1.2 in /usr/local/lib/python3.7/dist-packages (from prophet>=1.0.0->darts) (1.2)\n",
            "Collecting ujson\n",
            "  Downloading ujson-4.3.0-cp37-cp37m-manylinux_2_17_x86_64.manylinux2014_x86_64.whl (216 kB)\n",
            "\u001b[K     |████████████████████████████████| 216 kB 65.2 MB/s \n",
            "\u001b[?25hRequirement already satisfied: ephem>=3.7.5.3 in /usr/local/lib/python3.7/dist-packages (from LunarCalendar>=0.0.9->prophet>=1.0.0->darts) (4.1)\n",
            "Requirement already satisfied: six>=1.5 in /usr/local/lib/python3.7/dist-packages (from python-dateutil->holidays>=0.11.1->darts) (1.15.0)\n",
            "Requirement already satisfied: chardet<4,>=3.0.2 in /usr/local/lib/python3.7/dist-packages (from requests>=2.22.0->darts) (3.0.4)\n",
            "Requirement already satisfied: certifi>=2017.4.17 in /usr/local/lib/python3.7/dist-packages (from requests>=2.22.0->darts) (2021.10.8)\n",
            "Requirement already satisfied: idna<3,>=2.5 in /usr/local/lib/python3.7/dist-packages (from requests>=2.22.0->darts) (2.10)\n",
            "Requirement already satisfied: threadpoolctl>=2.0.0 in /usr/local/lib/python3.7/dist-packages (from scikit-learn>=1.0.1->darts) (3.0.0)\n",
            "Requirement already satisfied: tomli>=1.0.0 in /usr/local/lib/python3.7/dist-packages (from setuptools-scm>=4->matplotlib>=3.3.0->darts) (1.2.2)\n",
            "Requirement already satisfied: patsy>=0.5.2 in /usr/local/lib/python3.7/dist-packages (from statsmodels>=0.13.0->darts) (0.5.2)\n",
            "Requirement already satisfied: absl-py>=0.4 in /usr/local/lib/python3.7/dist-packages (from tensorboard>=2.4.0->darts) (0.12.0)\n",
            "Requirement already satisfied: google-auth-oauthlib<0.5,>=0.4.1 in /usr/local/lib/python3.7/dist-packages (from tensorboard>=2.4.0->darts) (0.4.6)\n",
            "Requirement already satisfied: protobuf>=3.6.0 in /usr/local/lib/python3.7/dist-packages (from tensorboard>=2.4.0->darts) (3.17.3)\n",
            "Requirement already satisfied: wheel>=0.26 in /usr/local/lib/python3.7/dist-packages (from tensorboard>=2.4.0->darts) (0.37.0)\n",
            "Requirement already satisfied: markdown>=2.6.8 in /usr/local/lib/python3.7/dist-packages (from tensorboard>=2.4.0->darts) (3.3.6)\n",
            "Requirement already satisfied: tensorboard-data-server<0.7.0,>=0.6.0 in /usr/local/lib/python3.7/dist-packages (from tensorboard>=2.4.0->darts) (0.6.1)\n",
            "Requirement already satisfied: tensorboard-plugin-wit>=1.6.0 in /usr/local/lib/python3.7/dist-packages (from tensorboard>=2.4.0->darts) (1.8.0)\n",
            "Requirement already satisfied: grpcio>=1.24.3 in /usr/local/lib/python3.7/dist-packages (from tensorboard>=2.4.0->darts) (1.42.0)\n",
            "Requirement already satisfied: werkzeug>=0.11.15 in /usr/local/lib/python3.7/dist-packages (from tensorboard>=2.4.0->darts) (1.0.1)\n",
            "Requirement already satisfied: google-auth<3,>=1.6.3 in /usr/local/lib/python3.7/dist-packages (from tensorboard>=2.4.0->darts) (1.35.0)\n",
            "Requirement already satisfied: pyasn1-modules>=0.2.1 in /usr/local/lib/python3.7/dist-packages (from google-auth<3,>=1.6.3->tensorboard>=2.4.0->darts) (0.2.8)\n",
            "Requirement already satisfied: cachetools<5.0,>=2.0.0 in /usr/local/lib/python3.7/dist-packages (from google-auth<3,>=1.6.3->tensorboard>=2.4.0->darts) (4.2.4)\n",
            "Requirement already satisfied: rsa<5,>=3.1.4 in /usr/local/lib/python3.7/dist-packages (from google-auth<3,>=1.6.3->tensorboard>=2.4.0->darts) (4.7.2)\n",
            "Requirement already satisfied: requests-oauthlib>=0.7.0 in /usr/local/lib/python3.7/dist-packages (from google-auth-oauthlib<0.5,>=0.4.1->tensorboard>=2.4.0->darts) (1.3.0)\n",
            "Requirement already satisfied: importlib-metadata>=4.4 in /usr/local/lib/python3.7/dist-packages (from markdown>=2.6.8->tensorboard>=2.4.0->darts) (4.8.2)\n",
            "Requirement already satisfied: zipp>=0.5 in /usr/local/lib/python3.7/dist-packages (from importlib-metadata>=4.4->markdown>=2.6.8->tensorboard>=2.4.0->darts) (3.6.0)\n",
            "Requirement already satisfied: typing-extensions>=3.6.4 in /usr/local/lib/python3.7/dist-packages (from importlib-metadata>=4.4->markdown>=2.6.8->tensorboard>=2.4.0->darts) (3.10.0.2)\n",
            "Requirement already satisfied: pyasn1<0.5.0,>=0.4.6 in /usr/local/lib/python3.7/dist-packages (from pyasn1-modules>=0.2.1->google-auth<3,>=1.6.3->tensorboard>=2.4.0->darts) (0.4.8)\n",
            "Requirement already satisfied: oauthlib>=3.0.0 in /usr/local/lib/python3.7/dist-packages (from requests-oauthlib>=0.7.0->google-auth-oauthlib<0.5,>=0.4.1->tensorboard>=2.4.0->darts) (3.1.1)\n",
            "Building wheels for collected packages: filterpy, prophet\n",
            "  Building wheel for filterpy (setup.py) ... \u001b[?25l\u001b[?25hdone\n",
            "  Created wheel for filterpy: filename=filterpy-1.4.5-py3-none-any.whl size=110474 sha256=aa5a7eddb6b219df872023111c2b1b20e5b6ee08fa443fd3ae00eab07d4e4f38\n",
            "  Stored in directory: /root/.cache/pip/wheels/ce/e0/ee/a2b3c5caab3418c1ccd8c4de573d4cbe13315d7e8b0a55fbc2\n",
            "  Building wheel for prophet (setup.py) ... \u001b[?25l\u001b[?25hdone\n",
            "  Created wheel for prophet: filename=prophet-1.0.1-py3-none-any.whl size=6640407 sha256=7c737929cc02eb84d3e1425169e8fa6157f84349fb4a176f8e6c77e380f47765\n",
            "  Stored in directory: /root/.cache/pip/wheels/4e/a0/1a/02c9ec9e3e9de6bdbb3d769d11992a6926889d71567d6b9b67\n",
            "Successfully built filterpy prophet\n",
            "Installing collected packages: ujson, statsmodels, prompt-toolkit, matplotlib, holidays, cmdstanpy, prophet, pmdarima, ipython, filterpy, darts\n",
            "  Attempting uninstall: statsmodels\n",
            "    Found existing installation: statsmodels 0.10.2\n",
            "    Uninstalling statsmodels-0.10.2:\n",
            "      Successfully uninstalled statsmodels-0.10.2\n",
            "  Attempting uninstall: prompt-toolkit\n",
            "    Found existing installation: prompt-toolkit 1.0.18\n",
            "    Uninstalling prompt-toolkit-1.0.18:\n",
            "      Successfully uninstalled prompt-toolkit-1.0.18\n",
            "  Attempting uninstall: matplotlib\n",
            "    Found existing installation: matplotlib 3.2.2\n",
            "    Uninstalling matplotlib-3.2.2:\n",
            "      Successfully uninstalled matplotlib-3.2.2\n",
            "  Attempting uninstall: holidays\n",
            "    Found existing installation: holidays 0.10.5.2\n",
            "    Uninstalling holidays-0.10.5.2:\n",
            "      Successfully uninstalled holidays-0.10.5.2\n",
            "  Attempting uninstall: cmdstanpy\n",
            "    Found existing installation: cmdstanpy 0.9.5\n",
            "    Uninstalling cmdstanpy-0.9.5:\n",
            "      Successfully uninstalled cmdstanpy-0.9.5\n",
            "  Attempting uninstall: ipython\n",
            "    Found existing installation: ipython 5.5.0\n",
            "    Uninstalling ipython-5.5.0:\n",
            "      Successfully uninstalled ipython-5.5.0\n",
            "\u001b[31mERROR: pip's dependency resolver does not currently take into account all the packages that are installed. This behaviour is the source of the following dependency conflicts.\n",
            "jupyter-console 5.2.0 requires prompt-toolkit<2.0.0,>=1.0.0, but you have prompt-toolkit 3.0.23 which is incompatible.\n",
            "google-colab 1.0.0 requires ipython~=5.5.0, but you have ipython 7.30.0 which is incompatible.\n",
            "fbprophet 0.7.1 requires cmdstanpy==0.9.5, but you have cmdstanpy 0.9.68 which is incompatible.\n",
            "albumentations 0.1.12 requires imgaug<0.2.7,>=0.2.5, but you have imgaug 0.2.9 which is incompatible.\u001b[0m\n",
            "Successfully installed cmdstanpy-0.9.68 darts-0.14.0 filterpy-1.4.5 holidays-0.11.3.1 ipython-7.30.0 matplotlib-3.5.0 pmdarima-1.8.4 prompt-toolkit-3.0.23 prophet-1.0.1 statsmodels-0.13.1 ujson-4.3.0\n"
          ]
        },
        {
          "output_type": "display_data",
          "data": {
            "application/vnd.colab-display-data+json": {
              "pip_warning": {
                "packages": [
                  "IPython",
                  "matplotlib",
                  "mpl_toolkits",
                  "prompt_toolkit"
                ]
              }
            }
          },
          "metadata": {}
        }
      ]
    },
    {
      "cell_type": "code",
      "metadata": {
        "id": "o1zu31VHdNOK"
      },
      "source": [
        "from darts.datasets import AirPassengersDataset, MonthlyMilkDataset"
      ],
      "execution_count": null,
      "outputs": []
    },
    {
      "cell_type": "code",
      "metadata": {
        "colab": {
          "base_uri": "https://localhost:8080/"
        },
        "id": "XG9C9ZmrhLmd",
        "outputId": "94b50027-c215-4cc1-b98b-98a991c2d51d"
      },
      "source": [
        "AirPassengersDataset().load().pd_series()"
      ],
      "execution_count": null,
      "outputs": [
        {
          "output_type": "execute_result",
          "data": {
            "text/plain": [
              "Month\n",
              "1949-01-01    112.0\n",
              "1949-02-01    118.0\n",
              "1949-03-01    132.0\n",
              "1949-04-01    129.0\n",
              "1949-05-01    121.0\n",
              "              ...  \n",
              "1960-08-01    606.0\n",
              "1960-09-01    508.0\n",
              "1960-10-01    461.0\n",
              "1960-11-01    390.0\n",
              "1960-12-01    432.0\n",
              "Freq: MS, Length: 144, dtype: float64"
            ]
          },
          "metadata": {},
          "execution_count": 2
        }
      ]
    },
    {
      "cell_type": "code",
      "metadata": {
        "colab": {
          "base_uri": "https://localhost:8080/",
          "height": 288
        },
        "id": "nQJi0fHNeXZd",
        "outputId": "592e430c-51f8-4bd0-9e68-6dfeabf174c4"
      },
      "source": [
        "import matplotlib.pyplot as plt\n",
        "series_air = AirPassengersDataset().load()\n",
        "series_milk = MonthlyMilkDataset().load()\n",
        "\n",
        "series_air.plot(label='Number of air passengers')\n",
        "series_milk.plot(label='Pounds of milk produced per cow')\n",
        "plt.legend();"
      ],
      "execution_count": null,
      "outputs": [
        {
          "output_type": "display_data",
          "data": {
            "image/png": "[encoded data removed]",
            "text/plain": [
              "<Figure size 432x288 with 1 Axes>"
            ]
          },
          "metadata": {
            "needs_background": "light"
          }
        }
      ]
    },
    {
      "cell_type": "code",
      "metadata": {
        "colab": {
          "base_uri": "https://localhost:8080/",
          "height": 288
        },
        "id": "UJM87PUre0sS",
        "outputId": "49c8d8a5-2e17-40d6-84a0-e42d8f2146ca"
      },
      "source": [
        "from darts.dataprocessing.transformers import Scaler\n",
        "scaler_air, scaler_milk = Scaler(), Scaler()\n",
        "series_air_scaled = scaler_air.fit_transform(series_air)\n",
        "series_milk_scaled = scaler_milk.fit_transform(series_milk)\n",
        "\n",
        "series_air_scaled.plot(label='air')\n",
        "series_milk_scaled.plot(label='milk')\n",
        "plt.legend();"
      ],
      "execution_count": null,
      "outputs": [
        {
          "output_type": "display_data",
          "data": {
            "image/png": "[encoded data removed]",
            "text/plain": [
              "<Figure size 432x288 with 1 Axes>"
            ]
          },
          "metadata": {
            "needs_background": "light"
          }
        }
      ]
    },
    {
      "cell_type": "code",
      "metadata": {
        "id": "FbipyAOge81X"
      },
      "source": [
        "# Train And Validation Split\n",
        "train_air, val_air = series_air_scaled[:-36], series_air_scaled[-36:]\n",
        "train_milk, val_milk = series_milk_scaled[:-36], series_milk_scaled[-36:]"
      ],
      "execution_count": null,
      "outputs": []
    },
    {
      "cell_type": "code",
      "metadata": {
        "id": "qFBkwz91Qzkj",
        "colab": {
          "base_uri": "https://localhost:8080/",
          "height": 1000
        },
        "outputId": "33d068c4-6596-4218-87ec-067b77d5ebbf"
      },
      "source": [
        "train_air\n"
      ],
      "execution_count": null,
      "outputs": [
        {
          "output_type": "execute_result",
          "data": {
            "text/html": [
              "<div><svg style=\"position: absolute; width: 0; height: 0; overflow: hidden\">\n",
              "<defs>\n",
              "<symbol id=\"icon-database\" viewBox=\"0 0 32 32\">\n",
              "<path d=\"M16 0c-8.837 0-16 2.239-16 5v4c0 2.761 7.163 5 16 5s16-2.239 16-5v-4c0-2.761-7.163-5-16-5z\"></path>\n",
              "<path d=\"M16 17c-8.837 0-16-2.239-16-5v6c0 2.761 7.163 5 16 5s16-2.239 16-5v-6c0 2.761-7.163 5-16 5z\"></path>\n",
              "<path d=\"M16 26c-8.837 0-16-2.239-16-5v6c0 2.761 7.163 5 16 5s16-2.239 16-5v-6c0 2.761-7.163 5-16 5z\"></path>\n",
              "</symbol>\n",
              "<symbol id=\"icon-file-text2\" viewBox=\"0 0 32 32\">\n",
              "<path d=\"M28.681 7.159c-0.694-0.947-1.662-2.053-2.724-3.116s-2.169-2.030-3.116-2.724c-1.612-1.182-2.393-1.319-2.841-1.319h-15.5c-1.378 0-2.5 1.121-2.5 2.5v27c0 1.378 1.122 2.5 2.5 2.5h23c1.378 0 2.5-1.122 2.5-2.5v-19.5c0-0.448-0.137-1.23-1.319-2.841zM24.543 5.457c0.959 0.959 1.712 1.825 2.268 2.543h-4.811v-4.811c0.718 0.556 1.584 1.309 2.543 2.268zM28 29.5c0 0.271-0.229 0.5-0.5 0.5h-23c-0.271 0-0.5-0.229-0.5-0.5v-27c0-0.271 0.229-0.5 0.5-0.5 0 0 15.499-0 15.5 0v7c0 0.552 0.448 1 1 1h7v19.5z\"></path>\n",
              "<path d=\"M23 26h-14c-0.552 0-1-0.448-1-1s0.448-1 1-1h14c0.552 0 1 0.448 1 1s-0.448 1-1 1z\"></path>\n",
              "<path d=\"M23 22h-14c-0.552 0-1-0.448-1-1s0.448-1 1-1h14c0.552 0 1 0.448 1 1s-0.448 1-1 1z\"></path>\n",
              "<path d=\"M23 18h-14c-0.552 0-1-0.448-1-1s0.448-1 1-1h14c0.552 0 1 0.448 1 1s-0.448 1-1 1z\"></path>\n",
              "</symbol>\n",
              "</defs>\n",
              "</svg>\n",
              "<style>/* CSS stylesheet for displaying xarray objects in jupyterlab.\n",
              " *\n",
              " */\n",
              "\n",
              ":root {\n",
              "  --xr-font-color0: var(--jp-content-font-color0, rgba(0, 0, 0, 1));\n",
              "  --xr-font-color2: var(--jp-content-font-color2, rgba(0, 0, 0, 0.54));\n",
              "  --xr-font-color3: var(--jp-content-font-color3, rgba(0, 0, 0, 0.38));\n",
              "  --xr-border-color: var(--jp-border-color2, #e0e0e0);\n",
              "  --xr-disabled-color: var(--jp-layout-color3, #bdbdbd);\n",
              "  --xr-background-color: var(--jp-layout-color0, white);\n",
              "  --xr-background-color-row-even: var(--jp-layout-color1, white);\n",
              "  --xr-background-color-row-odd: var(--jp-layout-color2, #eeeeee);\n",
              "}\n",
              "\n",
              "html[theme=dark],\n",
              "body.vscode-dark {\n",
              "  --xr-font-color0: rgba(255, 255, 255, 1);\n",
              "  --xr-font-color2: rgba(255, 255, 255, 0.54);\n",
              "  --xr-font-color3: rgba(255, 255, 255, 0.38);\n",
              "  --xr-border-color: #1F1F1F;\n",
              "  --xr-disabled-color: #515151;\n",
              "  --xr-background-color: #111111;\n",
              "  --xr-background-color-row-even: #111111;\n",
              "  --xr-background-color-row-odd: #313131;\n",
              "}\n",
              "\n",
              ".xr-wrap {\n",
              "  display: block;\n",
              "  min-width: 300px;\n",
              "  max-width: 700px;\n",
              "}\n",
              "\n",
              ".xr-text-repr-fallback {\n",
              "  /* fallback to plain text repr when CSS is not injected (untrusted notebook) */\n",
              "  display: none;\n",
              "}\n",
              "\n",
              ".xr-header {\n",
              "  padding-top: 6px;\n",
              "  padding-bottom: 6px;\n",
              "  margin-bottom: 4px;\n",
              "  border-bottom: solid 1px var(--xr-border-color);\n",
              "}\n",
              "\n",
              ".xr-header > div,\n",
              ".xr-header > ul {\n",
              "  display: inline;\n",
              "  margin-top: 0;\n",
              "  margin-bottom: 0;\n",
              "}\n",
              "\n",
              ".xr-obj-type,\n",
              ".xr-array-name {\n",
              "  margin-left: 2px;\n",
              "  margin-right: 10px;\n",
              "}\n",
              "\n",
              ".xr-obj-type {\n",
              "  color: var(--xr-font-color2);\n",
              "}\n",
              "\n",
              ".xr-sections {\n",
              "  padding-left: 0 !important;\n",
              "  display: grid;\n",
              "  grid-template-columns: 150px auto auto 1fr 20px 20px;\n",
              "}\n",
              "\n",
              ".xr-section-item {\n",
              "  display: contents;\n",
              "}\n",
              "\n",
              ".xr-section-item input {\n",
              "  display: none;\n",
              "}\n",
              "\n",
              ".xr-section-item input + label {\n",
              "  color: var(--xr-disabled-color);\n",
              "}\n",
              "\n",
              ".xr-section-item input:enabled + label {\n",
              "  cursor: pointer;\n",
              "  color: var(--xr-font-color2);\n",
              "}\n",
              "\n",
              ".xr-section-item input:enabled + label:hover {\n",
              "  color: var(--xr-font-color0);\n",
              "}\n",
              "\n",
              ".xr-section-summary {\n",
              "  grid-column: 1;\n",
              "  color: var(--xr-font-color2);\n",
              "  font-weight: 500;\n",
              "}\n",
              "\n",
              ".xr-section-summary > span {\n",
              "  display: inline-block;\n",
              "  padding-left: 0.5em;\n",
              "}\n",
              "\n",
              ".xr-section-summary-in:disabled + label {\n",
              "  color: var(--xr-font-color2);\n",
              "}\n",
              "\n",
              ".xr-section-summary-in + label:before {\n",
              "  display: inline-block;\n",
              "  content: '►';\n",
              "  font-size: 11px;\n",
              "  width: 15px;\n",
              "  text-align: center;\n",
              "}\n",
              "\n",
              ".xr-section-summary-in:disabled + label:before {\n",
              "  color: var(--xr-disabled-color);\n",
              "}\n",
              "\n",
              ".xr-section-summary-in:checked + label:before {\n",
              "  content: '▼';\n",
              "}\n",
              "\n",
              ".xr-section-summary-in:checked + label > span {\n",
              "  display: none;\n",
              "}\n",
              "\n",
              ".xr-section-summary,\n",
              ".xr-section-inline-details {\n",
              "  padding-top: 4px;\n",
              "  padding-bottom: 4px;\n",
              "}\n",
              "\n",
              ".xr-section-inline-details {\n",
              "  grid-column: 2 / -1;\n",
              "}\n",
              "\n",
              ".xr-section-details {\n",
              "  display: none;\n",
              "  grid-column: 1 / -1;\n",
              "  margin-bottom: 5px;\n",
              "}\n",
              "\n",
              ".xr-section-summary-in:checked ~ .xr-section-details {\n",
              "  display: contents;\n",
              "}\n",
              "\n",
              ".xr-array-wrap {\n",
              "  grid-column: 1 / -1;\n",
              "  display: grid;\n",
              "  grid-template-columns: 20px auto;\n",
              "}\n",
              "\n",
              ".xr-array-wrap > label {\n",
              "  grid-column: 1;\n",
              "  vertical-align: top;\n",
              "}\n",
              "\n",
              ".xr-preview {\n",
              "  color: var(--xr-font-color3);\n",
              "}\n",
              "\n",
              ".xr-array-preview,\n",
              ".xr-array-data {\n",
              "  padding: 0 5px !important;\n",
              "  grid-column: 2;\n",
              "}\n",
              "\n",
              ".xr-array-data,\n",
              ".xr-array-in:checked ~ .xr-array-preview {\n",
              "  display: none;\n",
              "}\n",
              "\n",
              ".xr-array-in:checked ~ .xr-array-data,\n",
              ".xr-array-preview {\n",
              "  display: inline-block;\n",
              "}\n",
              "\n",
              ".xr-dim-list {\n",
              "  display: inline-block !important;\n",
              "  list-style: none;\n",
              "  padding: 0 !important;\n",
              "  margin: 0;\n",
              "}\n",
              "\n",
              ".xr-dim-list li {\n",
              "  display: inline-block;\n",
              "  padding: 0;\n",
              "  margin: 0;\n",
              "}\n",
              "\n",
              ".xr-dim-list:before {\n",
              "  content: '(';\n",
              "}\n",
              "\n",
              ".xr-dim-list:after {\n",
              "  content: ')';\n",
              "}\n",
              "\n",
              ".xr-dim-list li:not(:last-child):after {\n",
              "  content: ',';\n",
              "  padding-right: 5px;\n",
              "}\n",
              "\n",
              ".xr-has-index {\n",
              "  font-weight: bold;\n",
              "}\n",
              "\n",
              ".xr-var-list,\n",
              ".xr-var-item {\n",
              "  display: contents;\n",
              "}\n",
              "\n",
              ".xr-var-item > div,\n",
              ".xr-var-item label,\n",
              ".xr-var-item > .xr-var-name span {\n",
              "  background-color: var(--xr-background-color-row-even);\n",
              "  margin-bottom: 0;\n",
              "}\n",
              "\n",
              ".xr-var-item > .xr-var-name:hover span {\n",
              "  padding-right: 5px;\n",
              "}\n",
              "\n",
              ".xr-var-list > li:nth-child(odd) > div,\n",
              ".xr-var-list > li:nth-child(odd) > label,\n",
              ".xr-var-list > li:nth-child(odd) > .xr-var-name span {\n",
              "  background-color: var(--xr-background-color-row-odd);\n",
              "}\n",
              "\n",
              ".xr-var-name {\n",
              "  grid-column: 1;\n",
              "}\n",
              "\n",
              ".xr-var-dims {\n",
              "  grid-column: 2;\n",
              "}\n",
              "\n",
              ".xr-var-dtype {\n",
              "  grid-column: 3;\n",
              "  text-align: right;\n",
              "  color: var(--xr-font-color2);\n",
              "}\n",
              "\n",
              ".xr-var-preview {\n",
              "  grid-column: 4;\n",
              "}\n",
              "\n",
              ".xr-var-name,\n",
              ".xr-var-dims,\n",
              ".xr-var-dtype,\n",
              ".xr-preview,\n",
              ".xr-attrs dt {\n",
              "  white-space: nowrap;\n",
              "  overflow: hidden;\n",
              "  text-overflow: ellipsis;\n",
              "  padding-right: 10px;\n",
              "}\n",
              "\n",
              ".xr-var-name:hover,\n",
              ".xr-var-dims:hover,\n",
              ".xr-var-dtype:hover,\n",
              ".xr-attrs dt:hover {\n",
              "  overflow: visible;\n",
              "  width: auto;\n",
              "  z-index: 1;\n",
              "}\n",
              "\n",
              ".xr-var-attrs,\n",
              ".xr-var-data {\n",
              "  display: none;\n",
              "  background-color: var(--xr-background-color) !important;\n",
              "  padding-bottom: 5px !important;\n",
              "}\n",
              "\n",
              ".xr-var-attrs-in:checked ~ .xr-var-attrs,\n",
              ".xr-var-data-in:checked ~ .xr-var-data {\n",
              "  display: block;\n",
              "}\n",
              "\n",
              ".xr-var-data > table {\n",
              "  float: right;\n",
              "}\n",
              "\n",
              ".xr-var-name span,\n",
              ".xr-var-data,\n",
              ".xr-attrs {\n",
              "  padding-left: 25px !important;\n",
              "}\n",
              "\n",
              ".xr-attrs,\n",
              ".xr-var-attrs,\n",
              ".xr-var-data {\n",
              "  grid-column: 1 / -1;\n",
              "}\n",
              "\n",
              "dl.xr-attrs {\n",
              "  padding: 0;\n",
              "  margin: 0;\n",
              "  display: grid;\n",
              "  grid-template-columns: 125px auto;\n",
              "}\n",
              "\n",
              ".xr-attrs dt,\n",
              ".xr-attrs dd {\n",
              "  padding: 0;\n",
              "  margin: 0;\n",
              "  float: left;\n",
              "  padding-right: 10px;\n",
              "  width: auto;\n",
              "}\n",
              "\n",
              ".xr-attrs dt {\n",
              "  font-weight: normal;\n",
              "  grid-column: 1;\n",
              "}\n",
              "\n",
              ".xr-attrs dt:hover span {\n",
              "  display: inline-block;\n",
              "  background: var(--xr-background-color);\n",
              "  padding-right: 10px;\n",
              "}\n",
              "\n",
              ".xr-attrs dd {\n",
              "  grid-column: 2;\n",
              "  white-space: pre-wrap;\n",
              "  word-break: break-all;\n",
              "}\n",
              "\n",
              ".xr-icon-database,\n",
              ".xr-icon-file-text2 {\n",
              "  display: inline-block;\n",
              "  vertical-align: middle;\n",
              "  width: 1em;\n",
              "  height: 1.5em !important;\n",
              "  stroke-width: 0;\n",
              "  stroke: currentColor;\n",
              "  fill: currentColor;\n",
              "}\n",
              "</style><pre class='xr-text-repr-fallback'>&lt;TimeSeries (DataArray) (Month: 108, component: 1, sample: 1)&gt;\n",
              "array([[[0.01544402]],\n",
              "\n",
              "       [[0.02702703]],\n",
              "\n",
              "       [[0.05405405]],\n",
              "\n",
              "       [[0.04826255]],\n",
              "\n",
              "       [[0.03281853]],\n",
              "\n",
              "       [[0.05984556]],\n",
              "\n",
              "       [[0.08494208]],\n",
              "\n",
              "       [[0.08494208]],\n",
              "\n",
              "       [[0.06177606]],\n",
              "\n",
              "       [[0.02895753]],\n",
              "\n",
              "...\n",
              "\n",
              "       [[0.48648649]],\n",
              "\n",
              "       [[0.47104247]],\n",
              "\n",
              "       [[0.48455598]],\n",
              "\n",
              "       [[0.61389961]],\n",
              "\n",
              "       [[0.6969112 ]],\n",
              "\n",
              "       [[0.7007722 ]],\n",
              "\n",
              "       [[0.57915058]],\n",
              "\n",
              "       [[0.46911197]],\n",
              "\n",
              "       [[0.38803089]],\n",
              "\n",
              "       [[0.44787645]]])\n",
              "Coordinates:\n",
              "  * Month      (Month) datetime64[ns] 1949-01-01 1949-02-01 ... 1957-12-01\n",
              "  * component  (component) object &#x27;#Passengers&#x27;\n",
              "Dimensions without coordinates: sample</pre><div class='xr-wrap' hidden><div class='xr-header'><div class='xr-obj-type'>TimeSeries (DataArray)</div><div class='xr-array-name'></div><ul class='xr-dim-list'><li><span class='xr-has-index'>Month</span>: 108</li><li><span class='xr-has-index'>component</span>: 1</li><li><span>sample</span>: 1</li></ul></div><ul class='xr-sections'><li class='xr-section-item'><div class='xr-array-wrap'><input id='section-297697b8-9286-4a05-b8ec-517c1faa4da9' class='xr-array-in' type='checkbox' checked><label for='section-297697b8-9286-4a05-b8ec-517c1faa4da9' title='Show/hide data repr'><svg class='icon xr-icon-database'><use xlink:href='#icon-database'></use></svg></label><div class='xr-array-preview xr-preview'><span>0.01544 0.02703 0.05405 0.04826 0.03282 ... 0.5792 0.4691 0.388 0.4479</span></div><div class='xr-array-data'><pre>array([[[0.01544402]],\n",
              "\n",
              "       [[0.02702703]],\n",
              "\n",
              "       [[0.05405405]],\n",
              "\n",
              "       [[0.04826255]],\n",
              "\n",
              "       [[0.03281853]],\n",
              "\n",
              "       [[0.05984556]],\n",
              "\n",
              "       [[0.08494208]],\n",
              "\n",
              "       [[0.08494208]],\n",
              "\n",
              "       [[0.06177606]],\n",
              "\n",
              "       [[0.02895753]],\n",
              "\n",
              "...\n",
              "\n",
              "       [[0.48648649]],\n",
              "\n",
              "       [[0.47104247]],\n",
              "\n",
              "       [[0.48455598]],\n",
              "\n",
              "       [[0.61389961]],\n",
              "\n",
              "       [[0.6969112 ]],\n",
              "\n",
              "       [[0.7007722 ]],\n",
              "\n",
              "       [[0.57915058]],\n",
              "\n",
              "       [[0.46911197]],\n",
              "\n",
              "       [[0.38803089]],\n",
              "\n",
              "       [[0.44787645]]])</pre></div></div></li><li class='xr-section-item'><input id='section-161c08a5-c1c9-4828-9f67-698436ae0d16' class='xr-section-summary-in' type='checkbox'  checked><label for='section-161c08a5-c1c9-4828-9f67-698436ae0d16' class='xr-section-summary' >Coordinates: <span>(2)</span></label><div class='xr-section-inline-details'></div><div class='xr-section-details'><ul class='xr-var-list'><li class='xr-var-item'><div class='xr-var-name'><span class='xr-has-index'>Month</span></div><div class='xr-var-dims'>(Month)</div><div class='xr-var-dtype'>datetime64[ns]</div><div class='xr-var-preview xr-preview'>1949-01-01 ... 1957-12-01</div><input id='attrs-e238eec3-075c-446f-9d13-a81248a04f6a' class='xr-var-attrs-in' type='checkbox' disabled><label for='attrs-e238eec3-075c-446f-9d13-a81248a04f6a' title='Show/Hide attributes'><svg class='icon xr-icon-file-text2'><use xlink:href='#icon-file-text2'></use></svg></label><input id='data-c0535693-335a-44fa-9a5d-c5e3089ad0ff' class='xr-var-data-in' type='checkbox'><label for='data-c0535693-335a-44fa-9a5d-c5e3089ad0ff' title='Show/Hide data repr'><svg class='icon xr-icon-database'><use xlink:href='#icon-database'></use></svg></label><div class='xr-var-attrs'><dl class='xr-attrs'></dl></div><div class='xr-var-data'><pre>array([&#x27;1949-01-01T00:00:00.000000000&#x27;, &#x27;1949-02-01T00:00:00.000000000&#x27;,\n",
              "       &#x27;1949-03-01T00:00:00.000000000&#x27;, &#x27;1949-04-01T00:00:00.000000000&#x27;,\n",
              "       &#x27;1949-05-01T00:00:00.000000000&#x27;, &#x27;1949-06-01T00:00:00.000000000&#x27;,\n",
              "       &#x27;1949-07-01T00:00:00.000000000&#x27;, &#x27;1949-08-01T00:00:00.000000000&#x27;,\n",
              "       &#x27;1949-09-01T00:00:00.000000000&#x27;, &#x27;1949-10-01T00:00:00.000000000&#x27;,\n",
              "       &#x27;1949-11-01T00:00:00.000000000&#x27;, &#x27;1949-12-01T00:00:00.000000000&#x27;,\n",
              "       &#x27;1950-01-01T00:00:00.000000000&#x27;, &#x27;1950-02-01T00:00:00.000000000&#x27;,\n",
              "       &#x27;1950-03-01T00:00:00.000000000&#x27;, &#x27;1950-04-01T00:00:00.000000000&#x27;,\n",
              "       &#x27;1950-05-01T00:00:00.000000000&#x27;, &#x27;1950-06-01T00:00:00.000000000&#x27;,\n",
              "       &#x27;1950-07-01T00:00:00.000000000&#x27;, &#x27;1950-08-01T00:00:00.000000000&#x27;,\n",
              "       &#x27;1950-09-01T00:00:00.000000000&#x27;, &#x27;1950-10-01T00:00:00.000000000&#x27;,\n",
              "       &#x27;1950-11-01T00:00:00.000000000&#x27;, &#x27;1950-12-01T00:00:00.000000000&#x27;,\n",
              "       &#x27;1951-01-01T00:00:00.000000000&#x27;, &#x27;1951-02-01T00:00:00.000000000&#x27;,\n",
              "       &#x27;1951-03-01T00:00:00.000000000&#x27;, &#x27;1951-04-01T00:00:00.000000000&#x27;,\n",
              "       &#x27;1951-05-01T00:00:00.000000000&#x27;, &#x27;1951-06-01T00:00:00.000000000&#x27;,\n",
              "       &#x27;1951-07-01T00:00:00.000000000&#x27;, &#x27;1951-08-01T00:00:00.000000000&#x27;,\n",
              "       &#x27;1951-09-01T00:00:00.000000000&#x27;, &#x27;1951-10-01T00:00:00.000000000&#x27;,\n",
              "       &#x27;1951-11-01T00:00:00.000000000&#x27;, &#x27;1951-12-01T00:00:00.000000000&#x27;,\n",
              "       &#x27;1952-01-01T00:00:00.000000000&#x27;, &#x27;1952-02-01T00:00:00.000000000&#x27;,\n",
              "       &#x27;1952-03-01T00:00:00.000000000&#x27;, &#x27;1952-04-01T00:00:00.000000000&#x27;,\n",
              "       &#x27;1952-05-01T00:00:00.000000000&#x27;, &#x27;1952-06-01T00:00:00.000000000&#x27;,\n",
              "       &#x27;1952-07-01T00:00:00.000000000&#x27;, &#x27;1952-08-01T00:00:00.000000000&#x27;,\n",
              "       &#x27;1952-09-01T00:00:00.000000000&#x27;, &#x27;1952-10-01T00:00:00.000000000&#x27;,\n",
              "       &#x27;1952-11-01T00:00:00.000000000&#x27;, &#x27;1952-12-01T00:00:00.000000000&#x27;,\n",
              "       &#x27;1953-01-01T00:00:00.000000000&#x27;, &#x27;1953-02-01T00:00:00.000000000&#x27;,\n",
              "       &#x27;1953-03-01T00:00:00.000000000&#x27;, &#x27;1953-04-01T00:00:00.000000000&#x27;,\n",
              "       &#x27;1953-05-01T00:00:00.000000000&#x27;, &#x27;1953-06-01T00:00:00.000000000&#x27;,\n",
              "       &#x27;1953-07-01T00:00:00.000000000&#x27;, &#x27;1953-08-01T00:00:00.000000000&#x27;,\n",
              "       &#x27;1953-09-01T00:00:00.000000000&#x27;, &#x27;1953-10-01T00:00:00.000000000&#x27;,\n",
              "       &#x27;1953-11-01T00:00:00.000000000&#x27;, &#x27;1953-12-01T00:00:00.000000000&#x27;,\n",
              "       &#x27;1954-01-01T00:00:00.000000000&#x27;, &#x27;1954-02-01T00:00:00.000000000&#x27;,\n",
              "       &#x27;1954-03-01T00:00:00.000000000&#x27;, &#x27;1954-04-01T00:00:00.000000000&#x27;,\n",
              "       &#x27;1954-05-01T00:00:00.000000000&#x27;, &#x27;1954-06-01T00:00:00.000000000&#x27;,\n",
              "       &#x27;1954-07-01T00:00:00.000000000&#x27;, &#x27;1954-08-01T00:00:00.000000000&#x27;,\n",
              "       &#x27;1954-09-01T00:00:00.000000000&#x27;, &#x27;1954-10-01T00:00:00.000000000&#x27;,\n",
              "       &#x27;1954-11-01T00:00:00.000000000&#x27;, &#x27;1954-12-01T00:00:00.000000000&#x27;,\n",
              "       &#x27;1955-01-01T00:00:00.000000000&#x27;, &#x27;1955-02-01T00:00:00.000000000&#x27;,\n",
              "       &#x27;1955-03-01T00:00:00.000000000&#x27;, &#x27;1955-04-01T00:00:00.000000000&#x27;,\n",
              "       &#x27;1955-05-01T00:00:00.000000000&#x27;, &#x27;1955-06-01T00:00:00.000000000&#x27;,\n",
              "       &#x27;1955-07-01T00:00:00.000000000&#x27;, &#x27;1955-08-01T00:00:00.000000000&#x27;,\n",
              "       &#x27;1955-09-01T00:00:00.000000000&#x27;, &#x27;1955-10-01T00:00:00.000000000&#x27;,\n",
              "       &#x27;1955-11-01T00:00:00.000000000&#x27;, &#x27;1955-12-01T00:00:00.000000000&#x27;,\n",
              "       &#x27;1956-01-01T00:00:00.000000000&#x27;, &#x27;1956-02-01T00:00:00.000000000&#x27;,\n",
              "       &#x27;1956-03-01T00:00:00.000000000&#x27;, &#x27;1956-04-01T00:00:00.000000000&#x27;,\n",
              "       &#x27;1956-05-01T00:00:00.000000000&#x27;, &#x27;1956-06-01T00:00:00.000000000&#x27;,\n",
              "       &#x27;1956-07-01T00:00:00.000000000&#x27;, &#x27;1956-08-01T00:00:00.000000000&#x27;,\n",
              "       &#x27;1956-09-01T00:00:00.000000000&#x27;, &#x27;1956-10-01T00:00:00.000000000&#x27;,\n",
              "       &#x27;1956-11-01T00:00:00.000000000&#x27;, &#x27;1956-12-01T00:00:00.000000000&#x27;,\n",
              "       &#x27;1957-01-01T00:00:00.000000000&#x27;, &#x27;1957-02-01T00:00:00.000000000&#x27;,\n",
              "       &#x27;1957-03-01T00:00:00.000000000&#x27;, &#x27;1957-04-01T00:00:00.000000000&#x27;,\n",
              "       &#x27;1957-05-01T00:00:00.000000000&#x27;, &#x27;1957-06-01T00:00:00.000000000&#x27;,\n",
              "       &#x27;1957-07-01T00:00:00.000000000&#x27;, &#x27;1957-08-01T00:00:00.000000000&#x27;,\n",
              "       &#x27;1957-09-01T00:00:00.000000000&#x27;, &#x27;1957-10-01T00:00:00.000000000&#x27;,\n",
              "       &#x27;1957-11-01T00:00:00.000000000&#x27;, &#x27;1957-12-01T00:00:00.000000000&#x27;],\n",
              "      dtype=&#x27;datetime64[ns]&#x27;)</pre></div></li><li class='xr-var-item'><div class='xr-var-name'><span class='xr-has-index'>component</span></div><div class='xr-var-dims'>(component)</div><div class='xr-var-dtype'>object</div><div class='xr-var-preview xr-preview'>&#x27;#Passengers&#x27;</div><input id='attrs-cce0b1d3-91b6-4933-afc8-dabf91060734' class='xr-var-attrs-in' type='checkbox' disabled><label for='attrs-cce0b1d3-91b6-4933-afc8-dabf91060734' title='Show/Hide attributes'><svg class='icon xr-icon-file-text2'><use xlink:href='#icon-file-text2'></use></svg></label><input id='data-7f4e0bf0-bf98-4afd-abfe-190d39e6505c' class='xr-var-data-in' type='checkbox'><label for='data-7f4e0bf0-bf98-4afd-abfe-190d39e6505c' title='Show/Hide data repr'><svg class='icon xr-icon-database'><use xlink:href='#icon-database'></use></svg></label><div class='xr-var-attrs'><dl class='xr-attrs'></dl></div><div class='xr-var-data'><pre>array([&#x27;#Passengers&#x27;], dtype=object)</pre></div></li></ul></div></li><li class='xr-section-item'><input id='section-eea98334-e8f8-4a64-afab-685d812c2fd1' class='xr-section-summary-in' type='checkbox' disabled ><label for='section-eea98334-e8f8-4a64-afab-685d812c2fd1' class='xr-section-summary'  title='Expand/collapse section'>Attributes: <span>(0)</span></label><div class='xr-section-inline-details'></div><div class='xr-section-details'><dl class='xr-attrs'></dl></div></li></ul></div></div>"
            ],
            "text/plain": [
              "<TimeSeries (DataArray) (Month: 108, component: 1, sample: 1)>\n",
              "array([[[0.01544402]],\n",
              "\n",
              "       [[0.02702703]],\n",
              "\n",
              "       [[0.05405405]],\n",
              "\n",
              "       [[0.04826255]],\n",
              "\n",
              "       [[0.03281853]],\n",
              "\n",
              "       [[0.05984556]],\n",
              "\n",
              "       [[0.08494208]],\n",
              "\n",
              "       [[0.08494208]],\n",
              "\n",
              "       [[0.06177606]],\n",
              "\n",
              "       [[0.02895753]],\n",
              "\n",
              "...\n",
              "\n",
              "       [[0.48648649]],\n",
              "\n",
              "       [[0.47104247]],\n",
              "\n",
              "       [[0.48455598]],\n",
              "\n",
              "       [[0.61389961]],\n",
              "\n",
              "       [[0.6969112 ]],\n",
              "\n",
              "       [[0.7007722 ]],\n",
              "\n",
              "       [[0.57915058]],\n",
              "\n",
              "       [[0.46911197]],\n",
              "\n",
              "       [[0.38803089]],\n",
              "\n",
              "       [[0.44787645]]])\n",
              "Coordinates:\n",
              "  * Month      (Month) datetime64[ns] 1949-01-01 1949-02-01 ... 1957-12-01\n",
              "  * component  (component) object '#Passengers'\n",
              "Dimensions without coordinates: sample"
            ]
          },
          "metadata": {},
          "execution_count": 13
        }
      ]
    },
    {
      "cell_type": "code",
      "metadata": {
        "id": "wqO_4ZPFfFNO"
      },
      "source": [
        "from darts import TimeSeries\n",
        "from darts.utils.timeseries_generation import gaussian_timeseries, linear_timeseries, sine_timeseries\n",
        "from darts.models import RNNModel, TCNModel, TransformerModel, NBEATSModel, BlockRNNModel\n",
        "from darts.metrics import mape, smape"
      ],
      "execution_count": null,
      "outputs": []
    },
    {
      "cell_type": "code",
      "metadata": {
        "id": "ddZUeqScffM9"
      },
      "source": [
        "model_air_milk = RNNModel(input_chunk_length=24, output_chunk_length=12, n_epochs=250, random_state=0)"
      ],
      "execution_count": null,
      "outputs": []
    },
    {
      "cell_type": "code",
      "metadata": {
        "colab": {
          "base_uri": "https://localhost:8080/"
        },
        "id": "WcRZdhngfipf",
        "outputId": "6e24aaf3-463e-4640-c069-f4889bd1807e"
      },
      "source": [
        "model_air_milk.fit([train_air, train_milk], verbose=True)"
      ],
      "execution_count": null,
      "outputs": [
        {
          "output_type": "stream",
          "name": "stderr",
          "text": [
            "[2021-11-30 10:14:48,210] INFO | darts.models.forecasting.torch_forecasting_model | Train dataset contains 216 samples.\n",
            "[2021-11-30 10:14:48,210] INFO | darts.models.forecasting.torch_forecasting_model | Train dataset contains 216 samples.\n",
            "[2021-11-30 10:14:48,220] INFO | darts.models.forecasting.torch_forecasting_model | Time series values are 64-bits; casting model to float64.\n",
            "[2021-11-30 10:14:48,220] INFO | darts.models.forecasting.torch_forecasting_model | Time series values are 64-bits; casting model to float64.\n",
            "  1%|          | 2/250 [00:00<00:17, 14.24it/s]"
          ]
        },
        {
          "output_type": "stream",
          "name": "stdout",
          "text": [
            "Training loss: 0.1429\r"
          ]
        },
        {
          "output_type": "stream",
          "name": "stderr",
          "text": [
            "  5%|▍         | 12/250 [00:00<00:18, 13.10it/s]"
          ]
        },
        {
          "output_type": "stream",
          "name": "stdout",
          "text": [
            "Training loss: 0.0191\r"
          ]
        },
        {
          "output_type": "stream",
          "name": "stderr",
          "text": [
            "  9%|▉         | 22/250 [00:01<00:17, 13.01it/s]"
          ]
        },
        {
          "output_type": "stream",
          "name": "stdout",
          "text": [
            "Training loss: 0.0115\r"
          ]
        },
        {
          "output_type": "stream",
          "name": "stderr",
          "text": [
            " 13%|█▎        | 32/250 [00:02<00:16, 13.37it/s]"
          ]
        },
        {
          "output_type": "stream",
          "name": "stdout",
          "text": [
            "Training loss: 0.0095\r"
          ]
        },
        {
          "output_type": "stream",
          "name": "stderr",
          "text": [
            " 17%|█▋        | 42/250 [00:03<00:15, 13.28it/s]"
          ]
        },
        {
          "output_type": "stream",
          "name": "stdout",
          "text": [
            "Training loss: 0.0081\r"
          ]
        },
        {
          "output_type": "stream",
          "name": "stderr",
          "text": [
            " 21%|██        | 52/250 [00:03<00:15, 13.02it/s]"
          ]
        },
        {
          "output_type": "stream",
          "name": "stdout",
          "text": [
            "Training loss: 0.0069\r"
          ]
        },
        {
          "output_type": "stream",
          "name": "stderr",
          "text": [
            " 25%|██▍       | 62/250 [00:04<00:14, 13.14it/s]"
          ]
        },
        {
          "output_type": "stream",
          "name": "stdout",
          "text": [
            "Training loss: 0.0062\r"
          ]
        },
        {
          "output_type": "stream",
          "name": "stderr",
          "text": [
            " 29%|██▉       | 72/250 [00:05<00:13, 13.05it/s]"
          ]
        },
        {
          "output_type": "stream",
          "name": "stdout",
          "text": [
            "Training loss: 0.0059\r"
          ]
        },
        {
          "output_type": "stream",
          "name": "stderr",
          "text": [
            " 33%|███▎      | 82/250 [00:06<00:13, 12.68it/s]"
          ]
        },
        {
          "output_type": "stream",
          "name": "stdout",
          "text": [
            "Training loss: 0.0057\r"
          ]
        },
        {
          "output_type": "stream",
          "name": "stderr",
          "text": [
            " 37%|███▋      | 92/250 [00:07<00:12, 12.87it/s]"
          ]
        },
        {
          "output_type": "stream",
          "name": "stdout",
          "text": [
            "Training loss: 0.0055\r"
          ]
        },
        {
          "output_type": "stream",
          "name": "stderr",
          "text": [
            " 41%|████      | 102/250 [00:07<00:12, 12.28it/s]"
          ]
        },
        {
          "output_type": "stream",
          "name": "stdout",
          "text": [
            "Training loss: 0.0053\r"
          ]
        },
        {
          "output_type": "stream",
          "name": "stderr",
          "text": [
            " 45%|████▍     | 112/250 [00:08<00:11, 12.37it/s]"
          ]
        },
        {
          "output_type": "stream",
          "name": "stdout",
          "text": [
            "Training loss: 0.0049\r"
          ]
        },
        {
          "output_type": "stream",
          "name": "stderr",
          "text": [
            " 49%|████▉     | 122/250 [00:09<00:09, 12.92it/s]"
          ]
        },
        {
          "output_type": "stream",
          "name": "stdout",
          "text": [
            "Training loss: 0.0046\r"
          ]
        },
        {
          "output_type": "stream",
          "name": "stderr",
          "text": [
            " 53%|█████▎    | 132/250 [00:10<00:08, 13.13it/s]"
          ]
        },
        {
          "output_type": "stream",
          "name": "stdout",
          "text": [
            "Training loss: 0.0045\r"
          ]
        },
        {
          "output_type": "stream",
          "name": "stderr",
          "text": [
            " 57%|█████▋    | 142/250 [00:10<00:08, 13.20it/s]"
          ]
        },
        {
          "output_type": "stream",
          "name": "stdout",
          "text": [
            "Training loss: 0.0044\r"
          ]
        },
        {
          "output_type": "stream",
          "name": "stderr",
          "text": [
            " 61%|██████    | 152/250 [00:11<00:07, 13.25it/s]"
          ]
        },
        {
          "output_type": "stream",
          "name": "stdout",
          "text": [
            "Training loss: 0.0042\r"
          ]
        },
        {
          "output_type": "stream",
          "name": "stderr",
          "text": [
            " 65%|██████▍   | 162/250 [00:12<00:06, 13.47it/s]"
          ]
        },
        {
          "output_type": "stream",
          "name": "stdout",
          "text": [
            "Training loss: 0.0040\r"
          ]
        },
        {
          "output_type": "stream",
          "name": "stderr",
          "text": [
            " 69%|██████▉   | 172/250 [00:13<00:05, 13.39it/s]"
          ]
        },
        {
          "output_type": "stream",
          "name": "stdout",
          "text": [
            "Training loss: 0.0038\r"
          ]
        },
        {
          "output_type": "stream",
          "name": "stderr",
          "text": [
            " 73%|███████▎  | 182/250 [00:13<00:05, 13.11it/s]"
          ]
        },
        {
          "output_type": "stream",
          "name": "stdout",
          "text": [
            "Training loss: 0.0038\r"
          ]
        },
        {
          "output_type": "stream",
          "name": "stderr",
          "text": [
            " 77%|███████▋  | 192/250 [00:14<00:04, 13.15it/s]"
          ]
        },
        {
          "output_type": "stream",
          "name": "stdout",
          "text": [
            "Training loss: 0.0038\r"
          ]
        },
        {
          "output_type": "stream",
          "name": "stderr",
          "text": [
            " 81%|████████  | 202/250 [00:15<00:03, 13.40it/s]"
          ]
        },
        {
          "output_type": "stream",
          "name": "stdout",
          "text": [
            "Training loss: 0.0037\r"
          ]
        },
        {
          "output_type": "stream",
          "name": "stderr",
          "text": [
            " 85%|████████▍ | 212/250 [00:16<00:02, 13.50it/s]"
          ]
        },
        {
          "output_type": "stream",
          "name": "stdout",
          "text": [
            "Training loss: 0.0037\r"
          ]
        },
        {
          "output_type": "stream",
          "name": "stderr",
          "text": [
            " 89%|████████▉ | 222/250 [00:17<00:02, 12.87it/s]"
          ]
        },
        {
          "output_type": "stream",
          "name": "stdout",
          "text": [
            "Training loss: 0.0037\r"
          ]
        },
        {
          "output_type": "stream",
          "name": "stderr",
          "text": [
            " 93%|█████████▎| 232/250 [00:17<00:01, 13.36it/s]"
          ]
        },
        {
          "output_type": "stream",
          "name": "stdout",
          "text": [
            "Training loss: 0.0037\r"
          ]
        },
        {
          "output_type": "stream",
          "name": "stderr",
          "text": [
            " 97%|█████████▋| 242/250 [00:18<00:00, 13.34it/s]"
          ]
        },
        {
          "output_type": "stream",
          "name": "stdout",
          "text": [
            "Training loss: 0.0037\r"
          ]
        },
        {
          "output_type": "stream",
          "name": "stderr",
          "text": [
            "100%|██████████| 250/250 [00:19<00:00, 13.08it/s]\n"
          ]
        }
      ]
    },
    {
      "cell_type": "code",
      "metadata": {
        "colab": {
          "base_uri": "https://localhost:8080/",
          "height": 306
        },
        "id": "3OMRxLQifkjB",
        "outputId": "80b01864-f306-499f-af24-688f869ba674"
      },
      "source": [
        "pred = model_air_milk.predict(n=36, series=train_air)\n",
        "\n",
        "series_air_scaled.plot(label='actual')\n",
        "pred.plot(label='forecast')\n",
        "plt.legend();\n",
        "print('MAPE = {:.2f}%'.format(mape(series_air_scaled, pred)))"
      ],
      "execution_count": null,
      "outputs": [
        {
          "output_type": "stream",
          "name": "stdout",
          "text": [
            "MAPE = 11.43%\n"
          ]
        },
        {
          "output_type": "display_data",
          "data": {
            "image/png": "[encoded data removed]",
            "text/plain": [
              "<Figure size 432x288 with 1 Axes>"
            ]
          },
          "metadata": {
            "needs_background": "light"
          }
        }
      ]
    },
    {
      "cell_type": "code",
      "metadata": {
        "colab": {
          "base_uri": "https://localhost:8080/",
          "height": 306
        },
        "id": "m6yNqoPjiMji",
        "outputId": "0e4401b2-e7ff-4c6c-f2f8-11089bc5e8a8"
      },
      "source": [
        "pred = model_air_milk.predict(n=36, series=train_milk)\n",
        "\n",
        "series_milk_scaled.plot(label='actual')\n",
        "pred.plot(label='forecast')\n",
        "plt.legend();\n",
        "print('MAPE = {:.2f}%'.format(mape(series_milk_scaled, pred)))"
      ],
      "execution_count": null,
      "outputs": [
        {
          "output_type": "stream",
          "name": "stdout",
          "text": [
            "MAPE = 7.48%\n"
          ]
        },
        {
          "output_type": "display_data",
          "data": {
            "image/png": "[encoded data removed]",
            "text/plain": [
              "<Figure size 432x288 with 1 Axes>"
            ]
          },
          "metadata": {
            "needs_background": "light"
          }
        }
      ]
    },
    {
      "cell_type": "code",
      "metadata": {
        "id": "eBImb8uYgKb4"
      },
      "source": [
        ""
      ],
      "execution_count": null,
      "outputs": []
    }
  ]
}
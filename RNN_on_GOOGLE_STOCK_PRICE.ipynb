{
  "nbformat": 4,
  "nbformat_minor": 0,
  "metadata": {
    "colab": {
      "name": "RNN on GOOGLE STOCK PRICE.ipynb",
      "provenance": [],
      "collapsed_sections": [],
      "include_colab_link": true
    },
    "kernelspec": {
      "name": "python3",
      "display_name": "Python 3"
    }
  },
  "cells": [
    {
      "cell_type": "markdown",
      "metadata": {
        "id": "view-in-github",
        "colab_type": "text"
      },
      "source": [
        "<a href=\"https://colab.research.google.com/github/asim5800/Deep-learning-practicals/blob/main/RNN_on_GOOGLE_STOCK_PRICE.ipynb\" target=\"_parent\"><img src=\"https://colab.research.google.com/assets/colab-badge.svg\" alt=\"Open In Colab\"/></a>"
      ]
    },
    {
      "cell_type": "markdown",
      "metadata": {
        "id": "xpAuMVCwfWs8"
      },
      "source": [
        "# Recurrent Neural Network"
      ]
    },
    {
      "cell_type": "markdown",
      "metadata": {
        "id": "nxJfRe4bfYVA"
      },
      "source": [
        "## Part 1 - Data Preprocessing"
      ]
    },
    {
      "cell_type": "markdown",
      "metadata": {
        "id": "ir9zwETrfbrp"
      },
      "source": [
        "### Importing the libraries"
      ]
    },
    {
      "cell_type": "code",
      "metadata": {
        "id": "ZT1f24vHffuf"
      },
      "source": [
        "import numpy as np\n",
        "import matplotlib.pyplot as plt\n",
        "import pandas as pd"
      ],
      "execution_count": 49,
      "outputs": []
    },
    {
      "cell_type": "markdown",
      "metadata": {
        "id": "nQ47JAxrgmaL"
      },
      "source": [
        "### Importing the training set"
      ]
    },
    {
      "cell_type": "code",
      "metadata": {
        "colab": {
          "base_uri": "https://localhost:8080/"
        },
        "id": "yN4koptU1w1L",
        "outputId": "680efdbc-bfa0-4caa-a826-5aedaba00f66"
      },
      "source": [
        "from google.colab import drive\n",
        "drive.mount('/content/drive')"
      ],
      "execution_count": 50,
      "outputs": [
        {
          "output_type": "stream",
          "name": "stdout",
          "text": [
            "Drive already mounted at /content/drive; to attempt to forcibly remount, call drive.mount(\"/content/drive\", force_remount=True).\n"
          ]
        }
      ]
    },
    {
      "cell_type": "code",
      "metadata": {
        "id": "Hnarg2Lq2OAr"
      },
      "source": [
        "#we train our RNN on train set only i.e. test set doesn't exist for RNN unlike CNN\n",
        "#but for RNN we'll introduce that later\n",
        "\n",
        "dataset_train = pd.read_csv('/content/drive/MyDrive/RNN/Google_Stock_Price_Train.csv')"
      ],
      "execution_count": 72,
      "outputs": []
    },
    {
      "cell_type": "code",
      "metadata": {
        "colab": {
          "base_uri": "https://localhost:8080/"
        },
        "id": "wai8M7RZ3TSt",
        "outputId": "4cdda32d-cbe3-4b75-ffe2-1cdbe7f3a0b7"
      },
      "source": [
        "dataset_train.info()"
      ],
      "execution_count": 73,
      "outputs": [
        {
          "output_type": "stream",
          "name": "stdout",
          "text": [
            "<class 'pandas.core.frame.DataFrame'>\n",
            "RangeIndex: 1258 entries, 0 to 1257\n",
            "Data columns (total 6 columns):\n",
            " #   Column  Non-Null Count  Dtype  \n",
            "---  ------  --------------  -----  \n",
            " 0   Date    1258 non-null   object \n",
            " 1   Open    1258 non-null   float64\n",
            " 2   High    1258 non-null   float64\n",
            " 3   Low     1258 non-null   float64\n",
            " 4   Close   1258 non-null   object \n",
            " 5   Volume  1258 non-null   object \n",
            "dtypes: float64(3), object(3)\n",
            "memory usage: 59.1+ KB\n"
          ]
        }
      ]
    },
    {
      "cell_type": "code",
      "metadata": {
        "colab": {
          "base_uri": "https://localhost:8080/",
          "height": 297
        },
        "id": "PFStOzie3TPy",
        "outputId": "1b7bbb84-6661-441a-8fa6-35fd847a7a9d"
      },
      "source": [
        "dataset_train.describe()"
      ],
      "execution_count": 53,
      "outputs": [
        {
          "output_type": "execute_result",
          "data": {
            "text/html": [
              "<div>\n",
              "<style scoped>\n",
              "    .dataframe tbody tr th:only-of-type {\n",
              "        vertical-align: middle;\n",
              "    }\n",
              "\n",
              "    .dataframe tbody tr th {\n",
              "        vertical-align: top;\n",
              "    }\n",
              "\n",
              "    .dataframe thead th {\n",
              "        text-align: right;\n",
              "    }\n",
              "</style>\n",
              "<table border=\"1\" class=\"dataframe\">\n",
              "  <thead>\n",
              "    <tr style=\"text-align: right;\">\n",
              "      <th></th>\n",
              "      <th>Open</th>\n",
              "      <th>High</th>\n",
              "      <th>Low</th>\n",
              "    </tr>\n",
              "  </thead>\n",
              "  <tbody>\n",
              "    <tr>\n",
              "      <th>count</th>\n",
              "      <td>1258.000000</td>\n",
              "      <td>1258.000000</td>\n",
              "      <td>1258.000000</td>\n",
              "    </tr>\n",
              "    <tr>\n",
              "      <th>mean</th>\n",
              "      <td>533.709833</td>\n",
              "      <td>537.880223</td>\n",
              "      <td>529.007409</td>\n",
              "    </tr>\n",
              "    <tr>\n",
              "      <th>std</th>\n",
              "      <td>151.904442</td>\n",
              "      <td>153.008811</td>\n",
              "      <td>150.552807</td>\n",
              "    </tr>\n",
              "    <tr>\n",
              "      <th>min</th>\n",
              "      <td>279.120000</td>\n",
              "      <td>281.210000</td>\n",
              "      <td>277.220000</td>\n",
              "    </tr>\n",
              "    <tr>\n",
              "      <th>25%</th>\n",
              "      <td>404.115000</td>\n",
              "      <td>406.765000</td>\n",
              "      <td>401.765000</td>\n",
              "    </tr>\n",
              "    <tr>\n",
              "      <th>50%</th>\n",
              "      <td>537.470000</td>\n",
              "      <td>540.750000</td>\n",
              "      <td>532.990000</td>\n",
              "    </tr>\n",
              "    <tr>\n",
              "      <th>75%</th>\n",
              "      <td>654.922500</td>\n",
              "      <td>662.587500</td>\n",
              "      <td>644.800000</td>\n",
              "    </tr>\n",
              "    <tr>\n",
              "      <th>max</th>\n",
              "      <td>816.680000</td>\n",
              "      <td>816.680000</td>\n",
              "      <td>805.140000</td>\n",
              "    </tr>\n",
              "  </tbody>\n",
              "</table>\n",
              "</div>"
            ],
            "text/plain": [
              "              Open         High          Low\n",
              "count  1258.000000  1258.000000  1258.000000\n",
              "mean    533.709833   537.880223   529.007409\n",
              "std     151.904442   153.008811   150.552807\n",
              "min     279.120000   281.210000   277.220000\n",
              "25%     404.115000   406.765000   401.765000\n",
              "50%     537.470000   540.750000   532.990000\n",
              "75%     654.922500   662.587500   644.800000\n",
              "max     816.680000   816.680000   805.140000"
            ]
          },
          "metadata": {},
          "execution_count": 53
        }
      ]
    },
    {
      "cell_type": "code",
      "metadata": {
        "colab": {
          "base_uri": "https://localhost:8080/",
          "height": 204
        },
        "id": "xfhKFaOI3S_c",
        "outputId": "97a0d875-8b64-4aa2-daa7-21502165506f"
      },
      "source": [
        "dataset_train.head()"
      ],
      "execution_count": 54,
      "outputs": [
        {
          "output_type": "execute_result",
          "data": {
            "text/html": [
              "<div>\n",
              "<style scoped>\n",
              "    .dataframe tbody tr th:only-of-type {\n",
              "        vertical-align: middle;\n",
              "    }\n",
              "\n",
              "    .dataframe tbody tr th {\n",
              "        vertical-align: top;\n",
              "    }\n",
              "\n",
              "    .dataframe thead th {\n",
              "        text-align: right;\n",
              "    }\n",
              "</style>\n",
              "<table border=\"1\" class=\"dataframe\">\n",
              "  <thead>\n",
              "    <tr style=\"text-align: right;\">\n",
              "      <th></th>\n",
              "      <th>Date</th>\n",
              "      <th>Open</th>\n",
              "      <th>High</th>\n",
              "      <th>Low</th>\n",
              "      <th>Close</th>\n",
              "      <th>Volume</th>\n",
              "    </tr>\n",
              "  </thead>\n",
              "  <tbody>\n",
              "    <tr>\n",
              "      <th>0</th>\n",
              "      <td>1/3/2012</td>\n",
              "      <td>325.25</td>\n",
              "      <td>332.83</td>\n",
              "      <td>324.97</td>\n",
              "      <td>663.59</td>\n",
              "      <td>7,380,500</td>\n",
              "    </tr>\n",
              "    <tr>\n",
              "      <th>1</th>\n",
              "      <td>1/4/2012</td>\n",
              "      <td>331.27</td>\n",
              "      <td>333.87</td>\n",
              "      <td>329.08</td>\n",
              "      <td>666.45</td>\n",
              "      <td>5,749,400</td>\n",
              "    </tr>\n",
              "    <tr>\n",
              "      <th>2</th>\n",
              "      <td>1/5/2012</td>\n",
              "      <td>329.83</td>\n",
              "      <td>330.75</td>\n",
              "      <td>326.89</td>\n",
              "      <td>657.21</td>\n",
              "      <td>6,590,300</td>\n",
              "    </tr>\n",
              "    <tr>\n",
              "      <th>3</th>\n",
              "      <td>1/6/2012</td>\n",
              "      <td>328.34</td>\n",
              "      <td>328.77</td>\n",
              "      <td>323.68</td>\n",
              "      <td>648.24</td>\n",
              "      <td>5,405,900</td>\n",
              "    </tr>\n",
              "    <tr>\n",
              "      <th>4</th>\n",
              "      <td>1/9/2012</td>\n",
              "      <td>322.04</td>\n",
              "      <td>322.29</td>\n",
              "      <td>309.46</td>\n",
              "      <td>620.76</td>\n",
              "      <td>11,688,800</td>\n",
              "    </tr>\n",
              "  </tbody>\n",
              "</table>\n",
              "</div>"
            ],
            "text/plain": [
              "       Date    Open    High     Low   Close      Volume\n",
              "0  1/3/2012  325.25  332.83  324.97  663.59   7,380,500\n",
              "1  1/4/2012  331.27  333.87  329.08  666.45   5,749,400\n",
              "2  1/5/2012  329.83  330.75  326.89  657.21   6,590,300\n",
              "3  1/6/2012  328.34  328.77  323.68  648.24   5,405,900\n",
              "4  1/9/2012  322.04  322.29  309.46  620.76  11,688,800"
            ]
          },
          "metadata": {},
          "execution_count": 54
        }
      ]
    },
    {
      "cell_type": "code",
      "metadata": {
        "id": "D4PgapB34JBS"
      },
      "source": [
        "#selecting the right column in which we are interested \n",
        "training_set = dataset_train.iloc[:, 1:2].values # take all rows, from index one to 2\n",
        "#but recall slicing excludes last mentioned element therefore it only gives OPEN price and convert that into numpy array \n",
        "#so this still creates a dataframe but with one column   \n"
      ],
      "execution_count": 55,
      "outputs": []
    },
    {
      "cell_type": "code",
      "metadata": {
        "colab": {
          "base_uri": "https://localhost:8080/"
        },
        "id": "h833ov2L3fe5",
        "outputId": "29ff6961-4649-4339-c03a-9b3739b7b474"
      },
      "source": [
        "len(training_set)"
      ],
      "execution_count": 56,
      "outputs": [
        {
          "output_type": "execute_result",
          "data": {
            "text/plain": [
              "1258"
            ]
          },
          "metadata": {},
          "execution_count": 56
        }
      ]
    },
    {
      "cell_type": "code",
      "metadata": {
        "colab": {
          "base_uri": "https://localhost:8080/"
        },
        "id": "xIb41nPP3fVZ",
        "outputId": "5bbe850d-6631-4a64-f9a6-f3ee9d7bd721"
      },
      "source": [
        "training_set"
      ],
      "execution_count": 57,
      "outputs": [
        {
          "output_type": "execute_result",
          "data": {
            "text/plain": [
              "array([[325.25],\n",
              "       [331.27],\n",
              "       [329.83],\n",
              "       ...,\n",
              "       [793.7 ],\n",
              "       [783.33],\n",
              "       [782.75]])"
            ]
          },
          "metadata": {},
          "execution_count": 57
        }
      ]
    },
    {
      "cell_type": "markdown",
      "metadata": {
        "id": "HT8_2UJegtG5"
      },
      "source": [
        "### Feature Scaling"
      ]
    },
    {
      "cell_type": "code",
      "metadata": {
        "id": "qiQ5H8LL6k8s"
      },
      "source": [
        "#whenever you build RNN it's recommended to use NORMALISATION instead of standardisation\n",
        "#especially if there is sigmoid function as an activation function in output layer then NORM. is good practice\n",
        "#so we use min max scaler for this\n",
        "\n",
        "\n",
        "from sklearn.preprocessing import MinMaxScaler\n",
        "sc = MinMaxScaler(feature_range = (0, 1))\n",
        "training_set_scaled = sc.fit_transform(training_set)\n"
      ],
      "execution_count": 58,
      "outputs": []
    },
    {
      "cell_type": "code",
      "metadata": {
        "colab": {
          "base_uri": "https://localhost:8080/"
        },
        "id": "BLTAOEar7Z0Q",
        "outputId": "cf26e8b0-145a-4bcf-b01b-439192aa3931"
      },
      "source": [
        "training_set_scaled"
      ],
      "execution_count": 59,
      "outputs": [
        {
          "output_type": "execute_result",
          "data": {
            "text/plain": [
              "array([[0.08581368],\n",
              "       [0.09701243],\n",
              "       [0.09433366],\n",
              "       ...,\n",
              "       [0.95725128],\n",
              "       [0.93796041],\n",
              "       [0.93688146]])"
            ]
          },
          "metadata": {},
          "execution_count": 59
        }
      ]
    },
    {
      "cell_type": "markdown",
      "metadata": {
        "id": "JyYgYocqhNUg"
      },
      "source": [
        "### Creating a data structure with 60 timesteps and 1 output"
      ]
    },
    {
      "cell_type": "markdown",
      "metadata": {
        "id": "WZlPDNmrNsns"
      },
      "source": [
        "***60 timesteps means at each time 't' the rnn is going to look at 60 stock prices before time 't' i.e. stock prices 60 days before time 't' and based on the trends it is capturing during these 60 previous timesteps it'll try to predict the next output***\n",
        " \n",
        "\n",
        "\n",
        " ***So 60 financial days will be learned and since there are 20 financial days in one month therefore 60 timestamp will correspond to three months. That means for each day we are going to look @ three previous month to try to predict the stock price of the next day.***  "
      ]
    },
    {
      "cell_type": "code",
      "metadata": {
        "id": "Ac_CjbXj8V1_"
      },
      "source": [
        "#so 60 timsesteps are the past information on which rnn is going to learn and predict output (stock price) @ 't+1'\n",
        "# X_train willbe input to RNN\n",
        "#y_train will be the output\n",
        "#so for each financial day(observation) X_train will have 60 prev. stock prices before that financial day & y_train will havestock price of the next financial day\n",
        "#FOR EVERY TIME t\n",
        "\n",
        "X_train = []\n",
        "y_train = []\n",
        "for i in range(60, 1258):  \n",
        "    X_train.append(training_set_scaled[i-60:i, 0]) #taking 60 before time t (0-59)\n",
        "    y_train.append(training_set_scaled[i, 0]) # stock price at time t+1 (60th day)\n",
        "X_train, y_train = np.array(X_train), np.array(y_train) #makin it in numpy array\n"
      ],
      "execution_count": 60,
      "outputs": []
    },
    {
      "cell_type": "markdown",
      "metadata": {
        "id": "D8yaN7Zvi95l"
      },
      "source": [
        "### Reshaping"
      ]
    },
    {
      "cell_type": "code",
      "metadata": {
        "id": "IKNqjIm9WPdJ"
      },
      "source": [
        "X_train = np.reshape(X_train, (X_train.shape[0], X_train.shape[1], 1))#MAKING 2D ARRAY INTO 3D\n",
        "\n",
        "\n",
        "#1st dimension = number of stock prices\n",
        "#2nd dimension = number of timesteps\n",
        "#3rd dimension = number of indicators  "
      ],
      "execution_count": 61,
      "outputs": []
    },
    {
      "cell_type": "markdown",
      "metadata": {
        "id": "5z59kcxgYmbM"
      },
      "source": [
        "***Adding some more dimensionality as units that is the number of predictors we can use to predict what we want which is google stock price @t+1. So for this financial engineering problem we only have one predictor (indicators) we have only one OPEN but we'll add some more indicators to predict even better and input for RNN***\n",
        "\n",
        "***A 3D tensor with shape [batch ( total number of obser vations we have in2012 to 2016), timesteps(60), feature(indicators  and this can be some new financial indicators that could help predict the google stock price trends say closed google stock price or even some other stock prices from other stock companies)].***\n",
        " ***We are taking ONE ONLY FOR THIS DATASET so it depends on your problem.***\n",
        "\n",
        "***say apple & samsung highly correlated.*** "
      ]
    },
    {
      "cell_type": "markdown",
      "metadata": {
        "id": "ZRRSOJeVjEWV"
      },
      "source": [
        "## Part 2 - Building and Training the RNN"
      ]
    },
    {
      "cell_type": "markdown",
      "metadata": {
        "id": "k4XV88JMjHXG"
      },
      "source": [
        "### Importing the Keras libraries and packages"
      ]
    },
    {
      "cell_type": "code",
      "metadata": {
        "id": "KHpuCEPDeQ2l"
      },
      "source": [
        "from keras.models import Sequential\n",
        "from keras.layers import Dense\n",
        "from keras.layers import LSTM\n",
        "from keras.layers import Dropout"
      ],
      "execution_count": 62,
      "outputs": []
    },
    {
      "cell_type": "markdown",
      "metadata": {
        "id": "FEIE-1s9jNzC"
      },
      "source": [
        "### Initialising the RNN"
      ]
    },
    {
      "cell_type": "code",
      "metadata": {
        "id": "AfbXzErxeXZR"
      },
      "source": [
        "regressor = Sequential() "
      ],
      "execution_count": 63,
      "outputs": []
    },
    {
      "cell_type": "markdown",
      "metadata": {
        "id": "62eg1OPGjT8z"
      },
      "source": [
        "### Adding the first LSTM layer and some Dropout regularisation"
      ]
    },
    {
      "cell_type": "code",
      "metadata": {
        "id": "CNPqbblne0wl"
      },
      "source": [
        "regressor.add(LSTM(units = 50, return_sequences = True, input_shape = (X_train.shape[1], 1)))\n",
        "\n",
        "#units= even though we have stacked LSTM we want our model to have high dimensionality as stock price are pretty complex task\n",
        "#so we add large number of neurons    \n",
        "\n",
        "regressor.add(Dropout(0.2))  #dropping 20% of nueron in layer will be ignored during training 50*0.2 =10 neurons will be ignored during each iteration of training"
      ],
      "execution_count": 64,
      "outputs": []
    },
    {
      "cell_type": "markdown",
      "metadata": {
        "id": "8hlgCvAafq_t"
      },
      "source": [
        "***LSTM takes three argument first the number of units number of LSTM cells (memory units) in layer, second argument is return Sequences we'll set as TRUE because we're building a STACKED LSTM for last layer make it false (default value), third argument is input shape you created in data preprocessing but you need not to include 3 dimensions only the two last ones corresponding to the  timesteps and indicators as first one corresponding to number of observations will be automatically taken into account.*** "
      ]
    },
    {
      "cell_type": "markdown",
      "metadata": {
        "id": "3XBIYLyOjlMx"
      },
      "source": [
        "### Adding a second LSTM layer and some Dropout regularisation"
      ]
    },
    {
      "cell_type": "code",
      "metadata": {
        "id": "YU-qQ606ilBX"
      },
      "source": [
        "regressor.add(LSTM(units = 50, return_sequences = True)) #no need to give input layer as we did this in first layer\n",
        "regressor.add(Dropout(0.2))"
      ],
      "execution_count": 65,
      "outputs": []
    },
    {
      "cell_type": "markdown",
      "metadata": {
        "id": "Ey3fHVnGj1cu"
      },
      "source": [
        "### Adding a third LSTM layer and some Dropout regularisation"
      ]
    },
    {
      "cell_type": "code",
      "metadata": {
        "id": "cYrTREseiqbJ"
      },
      "source": [
        "regressor.add(LSTM(units = 50, return_sequences = True))\n",
        "regressor.add(Dropout(0.2))"
      ],
      "execution_count": 66,
      "outputs": []
    },
    {
      "cell_type": "markdown",
      "metadata": {
        "id": "SYTrtfTmj933"
      },
      "source": [
        "### Adding a fourth LSTM layer and some Dropout regularisation"
      ]
    },
    {
      "cell_type": "code",
      "metadata": {
        "id": "qw6SMI-Giwkj"
      },
      "source": [
        "regressor.add(LSTM(units = 50))  # this time we're not going to return sequences back\n",
        "regressor.add(Dropout(0.2))"
      ],
      "execution_count": 67,
      "outputs": []
    },
    {
      "cell_type": "markdown",
      "metadata": {
        "id": "9ABI6rOIkHhk"
      },
      "source": [
        "### Adding the output layer"
      ]
    },
    {
      "cell_type": "code",
      "metadata": {
        "id": "86MnjaLRjHaa"
      },
      "source": [
        "regressor.add(Dense(units = 1)) #to make fully connected layer predicting only one value"
      ],
      "execution_count": 68,
      "outputs": []
    },
    {
      "cell_type": "markdown",
      "metadata": {
        "id": "zLx4K7uUkPSh"
      },
      "source": [
        "### Compiling the RNN"
      ]
    },
    {
      "cell_type": "code",
      "metadata": {
        "id": "B38j3TU2j-xu"
      },
      "source": [
        "regressor.compile(optimizer = 'adam', loss = 'mean_squared_error')#adam is always a safe choice but RMRprop is recommended "
      ],
      "execution_count": 69,
      "outputs": []
    },
    {
      "cell_type": "markdown",
      "metadata": {
        "id": "-mPhwKGkkebi"
      },
      "source": [
        "### Fitting the RNN to the Training set"
      ]
    },
    {
      "cell_type": "code",
      "metadata": {
        "colab": {
          "base_uri": "https://localhost:8080/"
        },
        "id": "uBpf7_A5kB9l",
        "outputId": "327bf5ab-35c1-43aa-8b7d-c8a66816aaf9"
      },
      "source": [
        "regressor.fit(X_train, y_train, epochs = 100, batch_size = 32)"
      ],
      "execution_count": 70,
      "outputs": [
        {
          "output_type": "stream",
          "name": "stdout",
          "text": [
            "Epoch 1/100\n",
            "38/38 [==============================] - 9s 94ms/step - loss: 0.0598\n",
            "Epoch 2/100\n",
            "38/38 [==============================] - 4s 93ms/step - loss: 0.0072\n",
            "Epoch 3/100\n",
            "38/38 [==============================] - 4s 92ms/step - loss: 0.0057\n",
            "Epoch 4/100\n",
            "38/38 [==============================] - 4s 93ms/step - loss: 0.0053\n",
            "Epoch 5/100\n",
            "38/38 [==============================] - 3s 90ms/step - loss: 0.0054\n",
            "Epoch 6/100\n",
            "38/38 [==============================] - 4s 92ms/step - loss: 0.0062\n",
            "Epoch 7/100\n",
            "38/38 [==============================] - 3s 91ms/step - loss: 0.0049\n",
            "Epoch 8/100\n",
            "38/38 [==============================] - 3s 91ms/step - loss: 0.0048\n",
            "Epoch 9/100\n",
            "38/38 [==============================] - 3s 90ms/step - loss: 0.0042\n",
            "Epoch 10/100\n",
            "38/38 [==============================] - 3s 90ms/step - loss: 0.0051\n",
            "Epoch 11/100\n",
            "38/38 [==============================] - 3s 91ms/step - loss: 0.0043\n",
            "Epoch 12/100\n",
            "38/38 [==============================] - 3s 91ms/step - loss: 0.0049\n",
            "Epoch 13/100\n",
            "38/38 [==============================] - 3s 92ms/step - loss: 0.0043\n",
            "Epoch 14/100\n",
            "38/38 [==============================] - 4s 92ms/step - loss: 0.0034\n",
            "Epoch 15/100\n",
            "38/38 [==============================] - 4s 94ms/step - loss: 0.0037\n",
            "Epoch 16/100\n",
            "38/38 [==============================] - 3s 91ms/step - loss: 0.0044\n",
            "Epoch 17/100\n",
            "38/38 [==============================] - 4s 92ms/step - loss: 0.0048\n",
            "Epoch 18/100\n",
            "38/38 [==============================] - 4s 92ms/step - loss: 0.0037\n",
            "Epoch 19/100\n",
            "38/38 [==============================] - 3s 92ms/step - loss: 0.0039\n",
            "Epoch 20/100\n",
            "38/38 [==============================] - 3s 91ms/step - loss: 0.0038\n",
            "Epoch 21/100\n",
            "38/38 [==============================] - 3s 92ms/step - loss: 0.0035\n",
            "Epoch 22/100\n",
            "38/38 [==============================] - 4s 92ms/step - loss: 0.0039\n",
            "Epoch 23/100\n",
            "38/38 [==============================] - 3s 90ms/step - loss: 0.0033\n",
            "Epoch 24/100\n",
            "38/38 [==============================] - 3s 91ms/step - loss: 0.0036\n",
            "Epoch 25/100\n",
            "38/38 [==============================] - 4s 92ms/step - loss: 0.0037\n",
            "Epoch 26/100\n",
            "38/38 [==============================] - 4s 92ms/step - loss: 0.0034\n",
            "Epoch 27/100\n",
            "38/38 [==============================] - 3s 92ms/step - loss: 0.0030\n",
            "Epoch 28/100\n",
            "38/38 [==============================] - 4s 94ms/step - loss: 0.0031\n",
            "Epoch 29/100\n",
            "38/38 [==============================] - 4s 93ms/step - loss: 0.0031\n",
            "Epoch 30/100\n",
            "38/38 [==============================] - 4s 92ms/step - loss: 0.0031\n",
            "Epoch 31/100\n",
            "38/38 [==============================] - 3s 92ms/step - loss: 0.0031\n",
            "Epoch 32/100\n",
            "38/38 [==============================] - 4s 92ms/step - loss: 0.0032\n",
            "Epoch 33/100\n",
            "38/38 [==============================] - 4s 92ms/step - loss: 0.0031\n",
            "Epoch 34/100\n",
            "38/38 [==============================] - 4s 93ms/step - loss: 0.0029\n",
            "Epoch 35/100\n",
            "38/38 [==============================] - 4s 93ms/step - loss: 0.0027\n",
            "Epoch 36/100\n",
            "38/38 [==============================] - 4s 94ms/step - loss: 0.0025\n",
            "Epoch 37/100\n",
            "38/38 [==============================] - 4s 93ms/step - loss: 0.0034\n",
            "Epoch 38/100\n",
            "38/38 [==============================] - 3s 92ms/step - loss: 0.0032\n",
            "Epoch 39/100\n",
            "38/38 [==============================] - 4s 94ms/step - loss: 0.0028\n",
            "Epoch 40/100\n",
            "38/38 [==============================] - 3s 92ms/step - loss: 0.0033\n",
            "Epoch 41/100\n",
            "38/38 [==============================] - 4s 94ms/step - loss: 0.0029\n",
            "Epoch 42/100\n",
            "38/38 [==============================] - 3s 91ms/step - loss: 0.0026\n",
            "Epoch 43/100\n",
            "38/38 [==============================] - 4s 93ms/step - loss: 0.0027\n",
            "Epoch 44/100\n",
            "38/38 [==============================] - 4s 93ms/step - loss: 0.0025\n",
            "Epoch 45/100\n",
            "38/38 [==============================] - 4s 93ms/step - loss: 0.0029\n",
            "Epoch 46/100\n",
            "38/38 [==============================] - 4s 93ms/step - loss: 0.0024\n",
            "Epoch 47/100\n",
            "38/38 [==============================] - 4s 93ms/step - loss: 0.0023\n",
            "Epoch 48/100\n",
            "38/38 [==============================] - 4s 92ms/step - loss: 0.0027\n",
            "Epoch 49/100\n",
            "38/38 [==============================] - 4s 95ms/step - loss: 0.0025\n",
            "Epoch 50/100\n",
            "38/38 [==============================] - 4s 93ms/step - loss: 0.0023\n",
            "Epoch 51/100\n",
            "38/38 [==============================] - 3s 92ms/step - loss: 0.0025\n",
            "Epoch 52/100\n",
            "38/38 [==============================] - 4s 94ms/step - loss: 0.0024\n",
            "Epoch 53/100\n",
            "38/38 [==============================] - 4s 92ms/step - loss: 0.0022\n",
            "Epoch 54/100\n",
            "38/38 [==============================] - 3s 92ms/step - loss: 0.0024\n",
            "Epoch 55/100\n",
            "38/38 [==============================] - 4s 94ms/step - loss: 0.0024\n",
            "Epoch 56/100\n",
            "38/38 [==============================] - 3s 90ms/step - loss: 0.0023\n",
            "Epoch 57/100\n",
            "38/38 [==============================] - 3s 92ms/step - loss: 0.0025\n",
            "Epoch 58/100\n",
            "38/38 [==============================] - 3s 92ms/step - loss: 0.0023\n",
            "Epoch 59/100\n",
            "38/38 [==============================] - 3s 90ms/step - loss: 0.0024\n",
            "Epoch 60/100\n",
            "38/38 [==============================] - 3s 91ms/step - loss: 0.0021\n",
            "Epoch 61/100\n",
            "38/38 [==============================] - 3s 92ms/step - loss: 0.0022\n",
            "Epoch 62/100\n",
            "38/38 [==============================] - 4s 93ms/step - loss: 0.0021\n",
            "Epoch 63/100\n",
            "38/38 [==============================] - 3s 91ms/step - loss: 0.0020\n",
            "Epoch 64/100\n",
            "38/38 [==============================] - 4s 94ms/step - loss: 0.0021\n",
            "Epoch 65/100\n",
            "38/38 [==============================] - 4s 92ms/step - loss: 0.0022\n",
            "Epoch 66/100\n",
            "38/38 [==============================] - 4s 93ms/step - loss: 0.0020\n",
            "Epoch 67/100\n",
            "38/38 [==============================] - 3s 91ms/step - loss: 0.0021\n",
            "Epoch 68/100\n",
            "38/38 [==============================] - 4s 92ms/step - loss: 0.0020\n",
            "Epoch 69/100\n",
            "38/38 [==============================] - 4s 93ms/step - loss: 0.0020\n",
            "Epoch 70/100\n",
            "38/38 [==============================] - 3s 92ms/step - loss: 0.0020\n",
            "Epoch 71/100\n",
            "38/38 [==============================] - 4s 93ms/step - loss: 0.0019\n",
            "Epoch 72/100\n",
            "38/38 [==============================] - 3s 91ms/step - loss: 0.0020\n",
            "Epoch 73/100\n",
            "38/38 [==============================] - 4s 93ms/step - loss: 0.0018\n",
            "Epoch 74/100\n",
            "38/38 [==============================] - 4s 94ms/step - loss: 0.0019\n",
            "Epoch 75/100\n",
            "38/38 [==============================] - 3s 91ms/step - loss: 0.0018\n",
            "Epoch 76/100\n",
            "38/38 [==============================] - 4s 93ms/step - loss: 0.0019\n",
            "Epoch 77/100\n",
            "38/38 [==============================] - 4s 94ms/step - loss: 0.0017\n",
            "Epoch 78/100\n",
            "38/38 [==============================] - 4s 93ms/step - loss: 0.0017\n",
            "Epoch 79/100\n",
            "38/38 [==============================] - 4s 94ms/step - loss: 0.0018\n",
            "Epoch 80/100\n",
            "38/38 [==============================] - 4s 94ms/step - loss: 0.0018\n",
            "Epoch 81/100\n",
            "38/38 [==============================] - 4s 95ms/step - loss: 0.0019\n",
            "Epoch 82/100\n",
            "38/38 [==============================] - 4s 95ms/step - loss: 0.0017\n",
            "Epoch 83/100\n",
            "38/38 [==============================] - 4s 93ms/step - loss: 0.0018\n",
            "Epoch 84/100\n",
            "38/38 [==============================] - 4s 92ms/step - loss: 0.0017\n",
            "Epoch 85/100\n",
            "38/38 [==============================] - 4s 92ms/step - loss: 0.0017\n",
            "Epoch 86/100\n",
            "38/38 [==============================] - 4s 92ms/step - loss: 0.0018\n",
            "Epoch 87/100\n",
            "38/38 [==============================] - 4s 93ms/step - loss: 0.0016\n",
            "Epoch 88/100\n",
            "38/38 [==============================] - 4s 93ms/step - loss: 0.0016\n",
            "Epoch 89/100\n",
            "38/38 [==============================] - 3s 92ms/step - loss: 0.0018\n",
            "Epoch 90/100\n",
            "38/38 [==============================] - 4s 93ms/step - loss: 0.0016\n",
            "Epoch 91/100\n",
            "38/38 [==============================] - 4s 93ms/step - loss: 0.0017\n",
            "Epoch 92/100\n",
            "38/38 [==============================] - 4s 92ms/step - loss: 0.0017\n",
            "Epoch 93/100\n",
            "38/38 [==============================] - 4s 92ms/step - loss: 0.0015\n",
            "Epoch 94/100\n",
            "38/38 [==============================] - 4s 92ms/step - loss: 0.0016\n",
            "Epoch 95/100\n",
            "38/38 [==============================] - 4s 92ms/step - loss: 0.0016\n",
            "Epoch 96/100\n",
            "38/38 [==============================] - 3s 91ms/step - loss: 0.0016\n",
            "Epoch 97/100\n",
            "38/38 [==============================] - 4s 93ms/step - loss: 0.0016\n",
            "Epoch 98/100\n",
            "38/38 [==============================] - 4s 94ms/step - loss: 0.0015\n",
            "Epoch 99/100\n",
            "38/38 [==============================] - 4s 92ms/step - loss: 0.0014\n",
            "Epoch 100/100\n",
            "38/38 [==============================] - 4s 93ms/step - loss: 0.0015\n"
          ]
        },
        {
          "output_type": "execute_result",
          "data": {
            "text/plain": [
              "<keras.callbacks.History at 0x7efe71074ed0>"
            ]
          },
          "metadata": {},
          "execution_count": 70
        }
      ]
    },
    {
      "cell_type": "markdown",
      "metadata": {
        "id": "4hRau_lIkrE8"
      },
      "source": [
        "## Part 3 - Making the predictions and visualising the results"
      ]
    },
    {
      "cell_type": "markdown",
      "metadata": {
        "id": "SgJO6qEDksxD"
      },
      "source": [
        "### Getting the real stock price of 2017"
      ]
    },
    {
      "cell_type": "code",
      "metadata": {
        "id": "ZodBVO5SlXD1"
      },
      "source": [
        "dataset_test = pd.read_csv('/content/drive/MyDrive/RNN/Google_Stock_Price_Test.csv')\n",
        "real_stock_price = dataset_test.iloc[:, 1:2].values #take all observations, take 1 to second column(but second is excluded in slicing) this returns as an array "
      ],
      "execution_count": 74,
      "outputs": []
    },
    {
      "cell_type": "markdown",
      "metadata": {
        "id": "GrvrLblxkz42"
      },
      "source": [
        "### Getting the predicted stock price of 2017"
      ]
    },
    {
      "cell_type": "code",
      "metadata": {
        "id": "Yp8pTwKIl2qH"
      },
      "source": [
        "#making predictions for january \n",
        "dataset_total = pd.concat((dataset_train['Open'], dataset_test['Open']), axis = 0)\n",
        "inputs = dataset_total[len(dataset_total) - len(dataset_test) - 60:].values\n",
        "inputs = inputs.reshape(-1,1) # to reshape so that numpy will not ive dimension error\n",
        "inputs = sc.transform(inputs)\n",
        "X_test = []\n",
        "for i in range(60, 80): #20 financial days in january\n",
        "    X_test.append(inputs[i-60:i, 0])\n",
        "X_test = np.array(X_test)\n",
        "X_test = np.reshape(X_test, (X_test.shape[0], X_test.shape[1], 1))\n",
        "predicted_stock_price = regressor.predict(X_test)\n",
        "predicted_stock_price = sc.inverse_transform(predicted_stock_price)# to inverse scaling on predicted stock price"
      ],
      "execution_count": 75,
      "outputs": []
    },
    {
      "cell_type": "markdown",
      "metadata": {
        "id": "iFTNs3YHk6FQ"
      },
      "source": [
        "### Visualising the results"
      ]
    },
    {
      "cell_type": "code",
      "metadata": {
        "colab": {
          "base_uri": "https://localhost:8080/",
          "height": 295
        },
        "id": "t7jmpP87mHGN",
        "outputId": "3290ff19-aa5e-44ab-d26c-a94f0469a814"
      },
      "source": [
        "plt.plot(real_stock_price, color = 'red', label = 'Real Google Stock Price')\n",
        "plt.plot(predicted_stock_price, color = 'green', label = 'Predicted Google Stock Price')\n",
        "plt.title('Google Stock Price Prediction')\n",
        "plt.xlabel('Time')\n",
        "plt.ylabel('Google Stock Price')\n",
        "plt.legend()\n",
        "plt.show()"
      ],
      "execution_count": 82,
      "outputs": [
        {
          "output_type": "display_data",
          "data": {
            "image/png": "[encoded data removed]",
            "text/plain": [
              "<Figure size 432x288 with 1 Axes>"
            ]
          },
          "metadata": {
            "needs_background": "light"
          }
        }
      ]
    },
    {
      "cell_type": "code",
      "metadata": {
        "id": "CClFVCg7mHsh"
      },
      "source": [
        ""
      ],
      "execution_count": null,
      "outputs": []
    }
  ]
}